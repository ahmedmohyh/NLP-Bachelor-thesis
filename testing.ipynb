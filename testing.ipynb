{
 "cells": [
  {
   "cell_type": "code",
   "execution_count": 3,
   "metadata": {
    "collapsed": true,
    "pycharm": {
     "name": "#%%\n"
    }
   },
   "outputs": [
    {
     "name": "stdout",
     "output_type": "stream",
     "text": [
      "test\n"
     ]
    }
   ],
   "source": [
    "print(\"test\")\n"
   ]
  },
  {
   "cell_type": "code",
   "execution_count": 6,
   "outputs": [],
   "source": [
    "import numpy as np"
   ],
   "metadata": {
    "collapsed": false,
    "pycharm": {
     "name": "#%%\n"
    }
   }
  },
  {
   "cell_type": "code",
   "execution_count": 10,
   "outputs": [],
   "source": [
    "b_list= [[1,2,3,4,5],[6,7,8,9,10]]\n",
    "z= np.array(b_list)\n"
   ],
   "metadata": {
    "collapsed": false,
    "pycharm": {
     "name": "#%%\n"
    }
   }
  },
  {
   "cell_type": "code",
   "execution_count": 11,
   "outputs": [
    {
     "name": "stdout",
     "output_type": "stream",
     "text": [
      "(2, 5)\n"
     ]
    }
   ],
   "source": [
    "print(z.shape)"
   ],
   "metadata": {
    "collapsed": false,
    "pycharm": {
     "name": "#%%\n"
    }
   }
  },
  {
   "cell_type": "code",
   "execution_count": 14,
   "outputs": [
    {
     "data": {
      "text/plain": "array([[1, 2, 3],\n       [4, 5, 6]])"
     },
     "execution_count": 14,
     "metadata": {},
     "output_type": "execute_result"
    }
   ],
   "source": [
    "arr = np.array([[1,2,3],[4,5,6]])\n",
    "arr"
   ],
   "metadata": {
    "collapsed": false,
    "pycharm": {
     "name": "#%%\n"
    }
   }
  },
  {
   "cell_type": "code",
   "execution_count": 16,
   "outputs": [
    {
     "data": {
      "text/plain": "(4,)"
     },
     "execution_count": 16,
     "metadata": {},
     "output_type": "execute_result"
    }
   ],
   "source": [
    "list = [1,2,3,4]\n",
    "\n",
    "arr=  np.array(list)\n",
    "\n",
    "arr.shape"
   ],
   "metadata": {
    "collapsed": false,
    "pycharm": {
     "name": "#%%\n"
    }
   }
  },
  {
   "cell_type": "code",
   "execution_count": 16,
   "outputs": [
    {
     "name": "stdout",
     "output_type": "stream",
     "text": [
      "This is \"Should it not be allowed to produce television advertising directed toward young children at the age between two and five?\". !\n",
      "This is On this question is based the following text, which shows advantages and disadvantages  including my personal opinion. !\n",
      "This is  !\n",
      "This is First, the main time a person is watching TV is during the evening. !\n",
      "This is Some people also watch a movie after lunch while they want to have a short sleep. !\n",
      "This is At this times a child aged two to five even sleeps too or it is playing with friends, so that the child can not see advertsisings. !\n",
      "This is However the television can be nessecary, because some kids have an evening routine in which they watch one serie of their favourite movie  !\n",
      "This is and afterwards they go better to sleep.  !\n",
      "This is But during such a movie there is not more than one time advertising.  !\n",
      "This is The most children are not interested in this advertsing and do not watch them, so that it is unnessecary to produce television advertising directed to young children, then they do not see them. !\n",
      "This is The most important argument is, that children aged two to five will never understand television advertising even if you show toys or pets, because they do not know the reason of advertising. !\n",
      "This is  !\n",
      "This is At my own opinion I will say, that television advertising for young children can be allowed, but it is not nessecary, because they do not watch much films . !\n",
      "This is Besides they do not care about the advertising and would not understand the background reasons for it.   !\n",
      "This is  !\n",
      "This is  !\n",
      "3\n"
     ]
    }
   ],
   "source": [
    "import os\n",
    "import re\n",
    "paragraphs = []\n",
    "\n",
    "for filename in os.listdir(r\"D:\\UDE\\6th Semester\\MEMS\\MEWS Data\\MEWS_Essays\\MEWS_Essays\\Essays_all\\TestingEssays\"):\n",
    "   with open(os.path.join(r\"D:\\UDE\\6th Semester\\MEMS\\MEWS Data\\MEWS_Essays\\MEWS_Essays\\Essays_all\\TestingEssays\", filename)) as f:\n",
    "       text = f.read()\n",
    "       #text = text.replace(\"ï»¿\",\"\")\n",
    "       #paragraphs = text.split('\\n\\n')\n",
    "       for line in text.split('\\n'):\n",
    "         print (\"This is \" + line + \" !\")\n",
    "       y = open(os.path.join(r\"D:\\UDE\\6th Semester\\MEMS\\MEWS Data\\MEWS_Essays\\MEWS_Essays\\Essays_all\\TestingEssays\", filename), 'r')\n",
    "       paragraph = 0\n",
    "       lines = y.readlines()\n",
    "       for idx, line in enumerate(lines):\n",
    "         if not line == '\\n':\n",
    "             m = re.search(r'\\w', line)\n",
    "             str = m.group(0)\n",
    "         try:\n",
    "            if line == '\\n' and str in lines[idx-1]:\n",
    "             paragraph +=1\n",
    "         except:\n",
    "             pass\n",
    "       if lines[-1] != '\\n': # if the last line is not a new line, count a paragraph.\n",
    "        paragraph +=1\n",
    "\n",
    "\n",
    "# for para in paragraphs:\n",
    "#     print(para)\n",
    "#     print(\"###########################\")\n",
    "\n",
    "print (paragraph)"
   ],
   "metadata": {
    "collapsed": false,
    "pycharm": {
     "name": "#%%\n"
    }
   }
  },
  {
   "cell_type": "code",
   "execution_count": 29,
   "outputs": [
    {
     "name": "stdout",
     "output_type": "stream",
     "text": [
      "\"Should it not be allowed to produce television advertising directed toward young children at the age between two and five?\".\n",
      "\n",
      "On this question is based the following text, which shows advantages and disadvantages  including my personal opinion.\n",
      "\n",
      "\n",
      "\n",
      "First, the main time a person is watching TV is during the evening.\n",
      "\n",
      "Some people also watch a movie after lunch while they want to have a short sleep.\n",
      "\n",
      "At this times a child aged two to five even sleeps too or it is playing with friends, so that the child can not see advertsisings.\n",
      "\n",
      "However the television can be nessecary, because some kids have an evening routine in which they watch one serie of their favourite movie \n",
      "\n",
      "and afterwards they go better to sleep. \n",
      "\n",
      "But during such a movie there is not more than one time advertising. \n",
      "\n",
      "The most children are not interested in this advertsing and do not watch them, so that it is unnessecary to produce television advertising directed to young children, then they do not see them.\n",
      "\n",
      "The most important argument is, that children aged two to five will never understand television advertising even if you show toys or pets, because they do not know the reason of advertising.\n",
      "\n",
      "\n",
      "\n",
      "At my own opinion I will say, that television advertising for young children can be allowed, but it is not nessecary, because they do not watch much films .\n",
      "\n",
      "Besides they do not care about the advertising and would not understand the background reasons for it.  \n",
      "\n",
      "\n",
      "\n",
      "3\n"
     ]
    }
   ],
   "source": [
    "import re\n",
    "f = open('test.txt', 'r')\n",
    "\n",
    "paragraph = 0\n",
    "\n",
    "lines = f.readlines()\n",
    "\n",
    "#print(lines)\n",
    "\n",
    "for idx, line in enumerate(lines):\n",
    "    print(line)\n",
    "    if not line == '\\n':\n",
    "        m = re.search(r'\\w', line)\n",
    "        str = m.group(0)\n",
    "\n",
    "    try:\n",
    "        # if the line is a newline, and the previous line has a str in it, then\n",
    "        # count it as a paragraph.\n",
    "        if line == '\\n' and str in lines[idx-1]:\n",
    "            paragraph +=1\n",
    "    except:\n",
    "        pass\n",
    "\n",
    "if lines[-1] != '\\n': # if the last line is not a new line, count a paragraph.\n",
    "    paragraph +=1\n",
    "\n",
    "print (paragraph)"
   ],
   "metadata": {
    "collapsed": false,
    "pycharm": {
     "name": "#%%\n"
    }
   }
  },
  {
   "cell_type": "code",
   "execution_count": 31,
   "outputs": [
    {
     "name": "stdout",
     "output_type": "stream",
     "text": [
      "\"Should it not be allowed to produce television advertising directed toward young children at the age between two and five?\".\n",
      "On this question is based the following text, which shows advantages and disadvantages  including my personal opinion.\n",
      "########################\n",
      "First, the main time a person is watching TV is during the evening.\n",
      "Some people also watch a movie after lunch while they want to have a short sleep.\n",
      "At this times a child aged two to five even sleeps too or it is playing with friends, so that the child can not see advertsisings.\n",
      "However the television can be nessecary, because some kids have an evening routine in which they watch one serie of their favourite movie \n",
      "and afterwards they go better to sleep. \n",
      "But during such a movie there is not more than one time advertising. \n",
      "The most children are not interested in this advertsing and do not watch them, so that it is unnessecary to produce television advertising directed to young children, then they do not see them.\n",
      "The most important argument is, that children aged two to five will never understand television advertising even if you show toys or pets, because they do not know the reason of advertising.\n",
      "########################\n",
      "At my own opinion I will say, that television advertising for young children can be allowed, but it is not nessecary, because they do not watch much films .\n",
      "Besides they do not care about the advertising and would not understand the background reasons for it.  \n",
      "########################\n",
      "\n",
      "########################\n",
      "4\n"
     ]
    }
   ],
   "source": [
    "f = open('test.txt', 'r')\n",
    "text = f.read()  #\\n\\n denotes there is a blank line in between paragraphs.\n",
    "\n",
    "text = text.split(\"\\n\\n\")\n",
    "\n",
    "for inp in text:\n",
    "    print(inp)\n",
    "    print(\"########################\")\n",
    "\n",
    "print(len(text))"
   ],
   "metadata": {
    "collapsed": false,
    "pycharm": {
     "name": "#%%\n"
    }
   }
  },
  {
   "cell_type": "markdown",
   "source": [
    "### structuring words"
   ],
   "metadata": {
    "collapsed": false,
    "pycharm": {
     "name": "#%% md\n"
    }
   }
  },
  {
   "cell_type": "code",
   "execution_count": 12,
   "outputs": [
    {
     "name": "stdout",
     "output_type": "stream",
     "text": [
      "['above all', 'accordingly', 'additionally', 'advantage', 'advantages', 'after', 'agree', 'all in all', 'all the same', 'all things considered', 'also', 'alternatively ', 'although', 'an other point', 'an other problem', 'and that would be', 'another advantage', 'another argument', 'another aspect', 'another good aspect', 'another point', 'apart from the point that', 'argument', 'arguments', 'as a matter of fact', 'as a result', 'as far as', 'as far as I am concerned', \"as far as I'm concerned\", 'as long as', 'as well', 'as well as', 'aspect', 'aspects', 'assuming that', 'at the beginning', 'at the same time', 'because of this', 'before', 'beginning', 'beginning with the cons', 'besides', 'both', 'but also', 'by contrast', 'compared to', 'concluding', 'consequence', 'consequences', 'consequently', 'continue', 'continuing', 'conversely', 'despite', 'despite the fact that', 'disadvantage', 'disadvantages', 'disagree', 'due to', 'e.g.', 'either', 'emphasise', 'emphasize', 'especially', 'espicially', 'even if', 'even though', 'eventhough', 'fact', 'facts', 'finally', 'first', 'first of all', 'firstly', 'for a start', 'for both parts', 'for example', 'for instance', 'for me', 'for me it is very important', 'for sure', 'for that', 'for this reason', 'further', 'furthermore', 'given that', 'hand', 'hence', 'however', 'I agree', 'I am against', 'I am for', 'I am going to', 'I do not agree', 'I do not think', \"I don't agree\", \"I don't think\", 'I intend to', 'I support', 'I think', 'I want to', 'I will', 'I will discuss', 'I would clearly say', 'I would like to', 'I would say', \"I'd like to\", \"I'll\", \"I'm against\", \"I'm for\", \"I'm going to\", 'in addition', 'in comparison to', 'in conclusion', 'in consequence', 'in contrast', 'in fact', 'in general', 'in my opinion', 'in my view', 'in order to', 'in particular', 'in retrospect', 'in spite of the fact that', 'in sum', 'in the end', 'in the event of', 'in the following', 'in the same way', 'indeed', 'insofar as', 'instead of', 'it can be concluded', 'it is needless to say', 'it is very important that', 'just as', 'last of all', 'lastly', 'less important', 'less relevant', 'meanwhile', 'more relevant', 'moreover', 'my intension is to', 'nevertheless', 'next', 'nonetheless', 'not only', 'of course', 'on one side', 'on reflection', 'on the contrary', 'on the one hand', 'on the one side ', 'on the other hand', 'on the other side', 'on the other side ', 'on top of that', 'one advantage', 'one argument is', 'one might say', 'otherwise', 'personally', 'point', 'points', 'provided that', 'rather', 'regardless of the fact that', 'second', 'secondly', 'shurely', 'side', 'sides', 'since', 'so', 'so long as', 'so that', 'solution', 'solutions', 'still', 'subsequently', 'such as', 'surely', 'that is why', \"that's why\", 'the most important', 'the most relevant', 'the only point against is', 'then', 'then again', 'therefore', 'third', 'thirdly', 'this is often good for', 'this leads to', 'this means', 'though', 'thus', 'to begin with', 'to conclude', 'to emphasize', 'to my mind', 'to sum up', 'what is more', \"what's more\", 'when', 'whether you agree or disagree', 'which is a good base for', 'which is good for', 'which leads to', 'which means that', 'while', 'with that being said', 'worse than', 'yet']\n"
     ]
    }
   ],
   "source": [
    "import os\n",
    "import pandas as pd\n",
    "\n",
    "listStructureWords =  []\n",
    "\n",
    "df = pd.read_excel(\"structureWords.xlsx\")\n",
    "listStructureWords = df.iloc[:,0].tolist()\n",
    "\n",
    "print(listStructureWords)"
   ],
   "metadata": {
    "collapsed": false,
    "pycharm": {
     "name": "#%%\n"
    }
   }
  },
  {
   "cell_type": "code",
   "execution_count": 15,
   "outputs": [
    {
     "name": "stdout",
     "output_type": "stream",
     "text": [
      "First of all,\n",
      "#################\n",
      "that it would be difficult to stop televison advertising which is directed toward young children in the ages from two to five.\n",
      "\"Televison advertising could be helpful especialy for parents if they don´t have an idea concerning to give a present to their child.\n",
      "\"But\n",
      "#################\n",
      ", watching telivison advertising in these ages can lead to the missing ability to appreciate things which are advertised in the TV,\n",
      "#################\n",
      "toys or electronic devises to play with. If they always want more toys, the parents maybe will follow their wishes to make their children happy and make these wishes come true, which can lead to the missing abilities mentioned\n",
      "#################\n",
      ". They\n",
      "#################\n",
      "wouldn´t know the value of these things.\n",
      "\"My opinion to this topic is, that televsion  advertising directed to young children should be stopped. Furthermore, the parents have to have an eye on their children if they watch TV. Watching TV in these ages can\n",
      "#################\n",
      "be discussed, whether it´s good for them.\n",
      "#################\n"
     ]
    }
   ],
   "source": [
    "import re\n",
    "\n",
    "regex = r\"\\b(?:{})\\b\".format(\"|\".join(listStructureWords))\n",
    "\n",
    "s = \"\"\"First of all,\n",
    "\n",
    "########### I would say #####\n",
    "\n",
    " that it would be difficult to stop televison advertising which is directed toward young children in the ages from two to five.\n",
    "\"Televison advertising could be helpful especialy for parents if they don´t have an idea concerning to give a present to their child.\n",
    "\"But\n",
    " #########   on the other hand   ###############\n",
    "\n",
    "\n",
    " , watching telivison advertising in these ages can lead to the missing ability to appreciate things which are advertised in the TV\n",
    "\n",
    "############## , such as #############\n",
    "\n",
    "  toys or electronic devises to play with. If they always want more toys, the parents maybe will follow their wishes to make their children happy and make these wishes come true, which can lead to the missing abilities mentioned before. They also wouldn´t know the value of these things.\n",
    "\"My opinion to this topic is, that televsion  advertising directed to young children should be stopped. Furthermore, the parents have to have an eye on their children if they watch TV. Watching TV in these ages can also be discussed, whether it´s good for them.\"\"\"\n",
    "\n",
    "res = [r.strip() for r in re.split(regex, s)]\n",
    "for s in res:\n",
    "    print(s)\n",
    "    print(\"#################\")"
   ],
   "metadata": {
    "collapsed": false,
    "pycharm": {
     "name": "#%%\n"
    }
   }
  }
 ],
 "metadata": {
  "kernelspec": {
   "display_name": "Python 3",
   "language": "python",
   "name": "python3"
  },
  "language_info": {
   "codemirror_mode": {
    "name": "ipython",
    "version": 2
   },
   "file_extension": ".py",
   "mimetype": "text/x-python",
   "name": "python",
   "nbconvert_exporter": "python",
   "pygments_lexer": "ipython2",
   "version": "2.7.6"
  }
 },
 "nbformat": 4,
 "nbformat_minor": 0
}