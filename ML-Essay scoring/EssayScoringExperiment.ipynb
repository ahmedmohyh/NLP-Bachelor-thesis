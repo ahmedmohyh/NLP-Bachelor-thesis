{
 "cells": [
  {
   "cell_type": "markdown",
   "source": [
    "### A plan how the essay scoring experiment will be done"
   ],
   "metadata": {
    "collapsed": false,
    "pycharm": {
     "name": "#%% md\n"
    }
   }
  },
  {
   "cell_type": "code",
   "execution_count": null,
   "outputs": [],
   "source": [
    "import scipy as scipy\n",
    "import stats as stats\n",
    "\n",
    "'''\n",
    "1- using the tfIDF vectroizer or the sbert pretrained model to vectroize the sentences into vectors and get the features vectors.\n",
    "\n",
    "2- then apped the clusters vectors an array of 19 elements to the end of the vectors array.\n",
    "\n",
    "\n",
    "3- train the model using of the shallow machine learning model.......\n",
    "\n",
    "'''"
   ],
   "metadata": {
    "collapsed": false,
    "pycharm": {
     "name": "#%%\n",
     "is_executing": true
    }
   }
  },
  {
   "cell_type": "code",
   "execution_count": 47,
   "outputs": [],
   "source": [
    "from keras.models import Sequential\n",
    "from keras import layers\n",
    "from keras_preprocessing.sequence import pad_sequences\n",
    "from keras.utils import np_utils\n",
    "import pandas as pd\n",
    "from sklearn.svm import SVC\n",
    "from sklearn import datasets, svm, tree, metrics\n",
    "from sklearn.model_selection import train_test_split\n",
    "from sklearn.feature_extraction.text import CountVectorizer\n",
    "from sklearn.feature_extraction.text import TfidfVectorizer\n",
    "from sklearn.linear_model import LogisticRegression\n",
    "from sklearn.metrics import confusion_matrix\n",
    "from sentence_transformers import SentenceTransformer\n",
    "from sklearn.metrics import accuracy_score\n",
    "from sklearn.metrics import cohen_kappa_score\n",
    "from sklearn.preprocessing import OneHotEncoder\n",
    "from sklearn.metrics import classification_report\n",
    "from sklearn.tree import DecisionTreeClassifier\n",
    "#from keras.preprocessing.sequence import pad_sequences\n",
    "from keras.preprocessing.text import Tokenizer\n",
    "import sys\n",
    "import numpy as np\n",
    "import seaborn as sns\n",
    "from scipy.sparse import csr_matrix, vstack, hstack\n",
    "from scipy import sparse\n",
    "from mpl_toolkits.mplot3d import Axes3D\n",
    "import nltk\n",
    "import re\n",
    "import matplotlib.pyplot as pltb\n",
    "from sklearn.preprocessing import StandardScaler"
   ],
   "metadata": {
    "collapsed": false,
    "pycharm": {
     "name": "#%%\n"
    }
   }
  },
  {
   "cell_type": "markdown",
   "source": [
    "### Building the right file names and reading the files"
   ],
   "metadata": {
    "collapsed": false,
    "pycharm": {
     "name": "#%% md\n"
    }
   }
  },
  {
   "cell_type": "code",
   "execution_count": 52,
   "outputs": [],
   "source": [
    "df = pd.read_csv(r\"D:\\UDE\\6th Semester\\MEMS\\MEWS Data\\TRACE_Datensatz_transposed_220308.csv\", sep='\\t')\n",
    "y = df['Code1_IN_AR_Gesamteindruck_Argumentation_3_4_0']  # y is the gold standards\n",
    "\n",
    "listEssayNames = df['DocumentID']\n",
    "\n",
    "listEssayNames = [i.removeprefix(\"00\") for i in listEssayNames]\n",
    "\n",
    "listEssayNames = [i.replace(\"al\",\"aI\") for i in listEssayNames]\n",
    "\n",
    "listRightNames = []\n",
    "for essay in listEssayNames:\n",
    "    x = essay.split(\"X\")\n",
    "    temp = x[0]+\"_\"+x[1]+\".txt\"\n",
    "    listRightNames.append(temp)\n",
    "    #print(x)\n",
    "\n",
    "from pathlib import Path\n",
    "\n",
    "essays =[]\n",
    "df_fileName = pd.DataFrame({})\n",
    "for essayRigt in listRightNames:\n",
    "    my_file = Path(r\"D:\\UDE\\6th Semester\\MEMS\\MEWS Data\\MEWS_Essays\\MEWS_Essays\\Essays_all\\ALLEssaysAllPrompts\", essayRigt)\n",
    "    if my_file.is_file():\n",
    "        text = my_file.read_text(encoding='utf-8-sig')\n",
    "        essays.append(text)\n",
    "\n",
    "#df_fileName.to_excel(\"essaysToFileName.xlsx\")"
   ],
   "metadata": {
    "collapsed": false,
    "pycharm": {
     "name": "#%%\n"
    }
   }
  },
  {
   "cell_type": "markdown",
   "source": [
    "### Accuracy and Adjcent Accuracy"
   ],
   "metadata": {
    "collapsed": false,
    "pycharm": {
     "name": "#%% md\n"
    }
   }
  },
  {
   "cell_type": "code",
   "execution_count": 53,
   "outputs": [],
   "source": [
    "def custom_adjacent_accuracy_score(y_true, y_pred):\n",
    "    y_true = np.array(y_true)\n",
    "    y_pred = np.array(y_pred)\n",
    "    return np.sum(np.abs(y_pred - y_true) <= 1) / len(y_pred)"
   ],
   "metadata": {
    "collapsed": false,
    "pycharm": {
     "name": "#%%\n"
    }
   }
  },
  {
   "cell_type": "markdown",
   "source": [
    "### CountVectorizer Test"
   ],
   "metadata": {
    "collapsed": false,
    "pycharm": {
     "name": "#%% md\n"
    }
   }
  },
  {
   "cell_type": "code",
   "execution_count": null,
   "outputs": [],
   "source": [
    "essays_train, essays_test, y_train, y_test = train_test_split(essays, y, test_size=0.25, random_state=1000)\n",
    "\n",
    "vectorizer = CountVectorizer()\n",
    "vectorizer.fit_transform(essays_train)\n",
    "X_train = vectorizer.transform(essays_train)\n",
    "X_test  = vectorizer.transform(essays_test)\n",
    "\n",
    "print(X_train.shape)\n",
    "print(X_test.shape)\n",
    "\n",
    "classifier = LogisticRegression(max_iter=100)\n",
    "classifier.fit(X_train, y_train)\n",
    "score1 = classifier.score(X_test, y_test)\n",
    "pred = classifier.predict(X_test)\n",
    "print(\"Accuracy:\", score1)\n",
    "print(\"ِAdjecent Accuracy:\",custom_adjacent_accuracy_score(y_test,pred))\n",
    "print(confusion_matrix(y_test, pred))"
   ],
   "metadata": {
    "collapsed": false,
    "pycharm": {
     "name": "#%%\n",
     "is_executing": true
    }
   }
  },
  {
   "cell_type": "markdown",
   "source": [
    "### Sbert Test With Clusters as Features"
   ],
   "metadata": {
    "collapsed": false,
    "pycharm": {
     "name": "#%% md\n"
    }
   }
  },
  {
   "cell_type": "code",
   "execution_count": null,
   "outputs": [],
   "source": [
    "#essays_train, essays_test, y_train, y_test = train_test_split(essays, y, test_size=0.25, random_state=1000)\n",
    "\n",
    "model = SentenceTransformer('all-mpnet-base-v2', device=\"cuda\")\n",
    "\n",
    "X_embeddings = model.encode(essays, show_progress_bar =True, device=\"cuda\")\n",
    "\n",
    "df_goldStandarsdClusters = pd.read_excel(\"FinalResults.xlsx\")\n",
    "\n",
    "clusterFeatureVectormulti = []\n",
    "finalX_Train = []\n",
    "\n",
    "for i in range (len(essays)):\n",
    "\n",
    "    clusterVectorFeatureSingle =  [0 for col in range(19)]\n",
    "\n",
    "    listEssayClusers = df_goldStandarsdClusters[df_goldStandarsdClusters['fileName'].str.contains(listRightNames[i])]['cluster']\n",
    "\n",
    "    if (len(listEssayClusers) ==0):\n",
    "        print(\"error\")\n",
    "\n",
    "    for cluster in listEssayClusers:\n",
    "        try:\n",
    "            clusterVectorFeatureSingle[cluster] = 1\n",
    "        except:\n",
    "            print(cluster)\n",
    "\n",
    "    clusterFeatureVectormulti.append(clusterVectorFeatureSingle)\n",
    "\n",
    "for i in range(len(X_embeddings)):\n",
    "    arr = np.append(X_embeddings[i],clusterFeatureVectormulti[i])\n",
    "    finalX_Train.append(arr)\n",
    "\n",
    "npa = np.asarray(finalX_Train, dtype=np.ndarray)\n",
    "\n",
    "X_train, X_test, y_train, y_test = train_test_split(npa, y, test_size=0.25, random_state=1000)\n",
    "\n",
    "print(X_train.shape)\n",
    "print(X_test.shape)\n",
    "\n",
    "classifier = SVC(kernel=\"linear\", C=0.025) #LogisticRegression()  #DecisionTreeClassifier(max_depth=4)\n",
    "classifier.fit(X_train, y_train)\n",
    "score1 = classifier.score(X_test, y_test)\n",
    "pred = classifier.predict(X_test)\n",
    "print(\"Accuracy:\", score1)\n",
    "\n",
    "print(confusion_matrix(y_test, pred))\n",
    "print(\"QWK: \", cohen_kappa_score(y_test,pred,weights=\"quadratic\"))"
   ],
   "metadata": {
    "collapsed": false,
    "pycharm": {
     "name": "#%%\n",
     "is_executing": true
    }
   }
  },
  {
   "cell_type": "markdown",
   "source": [
    "### Sbert test without clusters as Features"
   ],
   "metadata": {
    "collapsed": false,
    "pycharm": {
     "name": "#%% md\n"
    }
   }
  },
  {
   "cell_type": "code",
   "execution_count": null,
   "outputs": [],
   "source": [
    "essays_train, essays_test, y_train, y_test = train_test_split(essays, y, test_size=0.25, random_state=1000)\n",
    "\n",
    "model = SentenceTransformer('all-mpnet-base-v2', device=\"cuda\")\n",
    "\n",
    "X_train = model.encode(essays_train, show_progress_bar =True, device=\"cuda\")\n",
    "\n",
    "X_test  = model.encode(essays_test, show_progress_bar =True, device=\"cuda\")\n",
    "\n",
    "print(X_train.shape)\n",
    "print(X_test.shape)\n",
    "\n",
    "classifier = LogisticRegression() #SVC(kernel=\"linear\", C=0.025) #LogisticRegression()  #DecisionTreeClassifier(max_depth=4)\n",
    "classifier.fit(X_train, y_train)\n",
    "score1 = classifier.score(X_test, y_test)\n",
    "pred = classifier.predict(X_test)\n",
    "print(\"Accuracy:\", score1)\n",
    "print(\"ِAdjecent Accuracy:\",custom_adjacent_accuracy_score(y_test,pred))\n",
    "\n",
    "print(\"pearson correaltion 1 \",scipy.stats.pearsonr(y_test, pred))\n",
    "print(\"pearson correaltion 2\", stats.pearsonr(y_test, pred))\n",
    "\n",
    "print(confusion_matrix(y_test, pred))\n",
    "\n",
    "print(\"QWK: \", cohen_kappa_score(y_test,pred,weights=\"quadratic\"))"
   ],
   "metadata": {
    "collapsed": false,
    "pycharm": {
     "name": "#%%\n",
     "is_executing": true
    }
   }
  },
  {
   "cell_type": "code",
   "execution_count": null,
   "outputs": [],
   "source": [
    "classifier = DecisionTreeClassifier(max_depth=1) #SVC(kernel=\"linear\", C=0.025) #LogisticRegression()  #DecisionTreeClassifier(max_depth=4)\n",
    "classifier.fit(X_train, y_train)\n",
    "score1 = classifier.score(X_test, y_test)\n",
    "pred = classifier.predict(X_test)\n",
    "print(\"Accuracy:\", score1)\n",
    "print(\"ِAdjecent Accuracy:\",custom_adjacent_accuracy_score(y_test,pred))\n",
    "print(\"pearson correaltion 1 \",scipy.stats.pearsonr(y_test, pred))\n",
    "print(\"pearson correaltion 2\", stats.pearsonr(y_test, pred))\n",
    "print(confusion_matrix(y_test, pred))\n",
    "\n",
    "print(\"QWK: \", cohen_kappa_score(y_test,pred,weights=\"quadratic\"))\n",
    "\n",
    "\n",
    "# type(essays_train[0])\n",
    "# df_essaysNames = pd.read_excel(\"essaysToFileName.xlsx\")\n",
    "# df_goldStandarsdClusters = pd.read_excel(\"FinalResults.xlsx\")\n",
    "# # essayName = df_essaysNames.query(f\"essay == {essays_train[0]}\")['fileName'].iloc[0]\n",
    "#\n",
    "# res = df_essaysNames[df_essaysNames['essay'].str.contains(essays_train[0])].iloc[0]['fileName']\n",
    "#\n",
    "# print(res)\n",
    "#\n",
    "# listEssayClusers  = df_goldStandarsdClusters[df_goldStandarsdClusters['fileName'].str.contains(res)]['FinalCluster']\n",
    "#\n",
    "# for inn in listEssayClusers:\n",
    "#     print(inn)"
   ],
   "metadata": {
    "collapsed": false,
    "pycharm": {
     "name": "#%%\n",
     "is_executing": true
    }
   }
  },
  {
   "cell_type": "markdown",
   "source": [
    "### tfIdf vectorizer with only n-gram baseline"
   ],
   "metadata": {
    "collapsed": false,
    "pycharm": {
     "name": "#%% md\n"
    }
   }
  },
  {
   "cell_type": "code",
   "execution_count": null,
   "outputs": [],
   "source": [
    "from scipy.stats import stats\n",
    "import scipy\n",
    "from sklearn.preprocessing import normalize\n",
    "from sklearn.metrics import precision_recall_fscore_support as score\n",
    "x\n",
    "essays_train, essays_test, y_train, y_test = train_test_split(essays, y, test_size=0.25, random_state=1000)\n",
    "\n",
    "vectorizer = TfidfVectorizer(min_df=1, stop_words='english')\n",
    "vectorizer.fit_transform(essays_train)\n",
    "X_train = vectorizer.transform(essays_train)\n",
    "X_test  = vectorizer.transform(essays_test)\n",
    "\n",
    "# X_train = normalize (X_train)\n",
    "# X_test = normalize (X_test)\n",
    "\n",
    "print(X_train.shape)\n",
    "print(X_test.shape)\n",
    "\n",
    "classifier = SVC(kernel=\"linear\") ##LogisticRegression() #SVC(kernel=\"linear\", C=0.025) #\n",
    "classifier.fit(X_train, y_train)\n",
    "score1 = classifier.score(X_test, y_test)\n",
    "pred = classifier.predict(X_test)\n",
    "\n",
    "precision, recall, fscore, support = score(y_test, pred)\n",
    "\n",
    "print(\"Accuracy:\", score1)\n",
    "print(\"ِAdjecent Accuracy:\",custom_adjacent_accuracy_score(y_test,pred))\n",
    "# print(\"recall:\", recall, \"fscore:\", fscore, \"support:\", support, \"precision:\", precision)\n",
    "print(confusion_matrix(y_test, pred))\n",
    "\n",
    "print(\"pearson correaltion 1 \",scipy.stats.pearsonr(y_test, pred))\n",
    "print(\"pearson correaltion 2\", stats.pearsonr(y_test, pred))\n",
    "#print(np.corrcoef(\"the value for person correaltaion is: \",np.array(y_test).any(), np.array(pred).any()))\n",
    "print(\"weighted kappa: \", cohen_kappa_score(y_test,pred,weights=\"quadratic\"))"
   ],
   "metadata": {
    "collapsed": false,
    "pycharm": {
     "name": "#%%\n",
     "is_executing": true
    }
   }
  },
  {
   "cell_type": "markdown",
   "source": [
    "### tfIdf vectorizer with Clusters as Features"
   ],
   "metadata": {
    "collapsed": false,
    "pycharm": {
     "name": "#%% md\n"
    }
   }
  },
  {
   "cell_type": "code",
   "execution_count": null,
   "outputs": [],
   "source": [
    "vectorizer = TfidfVectorizer(min_df=1, stop_words='english')\n",
    "vectorizer.fit_transform(essays)\n",
    "X_embeddings = vectorizer.transform(essays)\n",
    "\n",
    "df_goldStandarsdClusters = pd.read_excel(\"FinalResults.xlsx\")\n",
    "\n",
    "clusterFeatureVectormulti = []\n",
    "finalX_Train = []\n",
    "\n",
    "for i in range (len(essays)):\n",
    "\n",
    "    clusterVectorFeatureSingle =  [0 for col in range(19)]\n",
    "\n",
    "    listEssayClusers = df_goldStandarsdClusters[df_goldStandarsdClusters['fileName'].str.contains(listRightNames[i])]['cluster']\n",
    "\n",
    "    if (len(listEssayClusers) ==0):\n",
    "        print(\"error\")\n",
    "\n",
    "    for cluster in listEssayClusers:\n",
    "        clusterVectorFeatureSingle[cluster] = clusterVectorFeatureSingle[cluster] + 1\n",
    "\n",
    "    clusterFeatureVectormulti.append(clusterVectorFeatureSingle)\n",
    "\n",
    "Xa = X_embeddings[0]\n",
    "Xb = sparse.csr_matrix(clusterFeatureVectormulti[0])\n",
    "diff_n_rows = Xa.shape[0] - Xb.shape[0]\n",
    "Xb_new = vstack((Xb, csr_matrix((diff_n_rows, Xb.shape[1]))))\n",
    "X_final = hstack((Xa, Xb_new))\n",
    "\n",
    "for i in range(1,len(essays)):\n",
    "    Xa = X_embeddings[i]\n",
    "    Xb = sparse.csr_matrix(clusterFeatureVectormulti[i])\n",
    "    diff_n_rows = Xa.shape[0] - Xb.shape[0]\n",
    "    Xb_new = vstack((Xb, csr_matrix((diff_n_rows, Xb.shape[1]))))\n",
    "    X_semiFinal = hstack((Xa, Xb_new))\n",
    "    X_final = vstack((X_final, X_semiFinal))\n",
    "\n",
    "X_train, X_test, y_train, y_test = train_test_split(X_final, y, test_size=0.25, random_state=1000)\n",
    "\n",
    "print(X_train.shape)\n",
    "print(X_test.shape)\n",
    "\n",
    "classifier = LogisticRegression() #LogisticRegression()  #DecisionTreeClassifier(max_depth=4)\n",
    "classifier.fit(X_train, y_train)\n",
    "score1 = classifier.score(X_test, y_test)\n",
    "pred = classifier.predict(X_test)\n",
    "print(\"Accuracy:\", score1)\n",
    "\n",
    "print(confusion_matrix(y_test, pred))\n",
    "\n",
    "print(cohen_kappa_score(y_test,pred,weights=\"quadratic\"))"
   ],
   "metadata": {
    "collapsed": false,
    "pycharm": {
     "name": "#%%\n",
     "is_executing": true
    }
   }
  },
  {
   "cell_type": "markdown",
   "source": [
    "### Testing"
   ],
   "metadata": {
    "collapsed": false,
    "pycharm": {
     "name": "#%% md\n"
    }
   }
  },
  {
   "cell_type": "code",
   "execution_count": 29,
   "outputs": [],
   "source": [
    "# listFinal = []\n",
    "# Xa = X_embeddings[0]\n",
    "# Xb = sparse.csr_matrix(clusterFeatureVectormulti[0])\n",
    "#\n",
    "#\n",
    "# diff_n_rows = Xa.shape[0] - Xb.shape[0]\n",
    "#\n",
    "# Xb_new = vstack((Xb, csr_matrix((diff_n_rows, Xb.shape[1]))))\n",
    "# #where diff_n_rows is the difference of the number of rows between Xa and Xb\n",
    "#\n",
    "# X_final = hstack((Xa, Xb_new))\n",
    "#\n",
    "#\n",
    "# Xa = X_embeddings[1]\n",
    "# Xb = sparse.csr_matrix(clusterFeatureVectormulti[1])\n",
    "#\n",
    "#\n",
    "# diff_n_rows = Xa.shape[0] - Xb.shape[0]\n",
    "#\n",
    "# Xb_new = vstack((Xb, csr_matrix((diff_n_rows, Xb.shape[1]))))\n",
    "# #where diff_n_rows is the difference of the number of rows between Xa and Xb\n",
    "#\n",
    "# X_final1 = hstack((Xa, Xb_new))\n",
    "\n",
    "\n",
    "# t = sparse.csr_matrix(clusterFeatureVectormulti[0])\n",
    "# t\n",
    "# X_embeddings[0]\n",
    "\n",
    "# X_final\n",
    "# X_final = vstack((X_final, X_final1))\n",
    "\n",
    "\n",
    "# an_array = np.array([1, 2])\n",
    "# another_array = np.array([3, 4])\n",
    "# stacked_array = np.vstack((an_array, another_array))"
   ],
   "metadata": {
    "collapsed": false,
    "pycharm": {
     "name": "#%%\n"
    }
   }
  },
  {
   "cell_type": "code",
   "execution_count": 30,
   "outputs": [],
   "source": [
    "# text= ['hello my name is ahmed and I am a data scientist','data science is very important field','data science is not that hard']\n",
    "# text1 = ['you are watching unfold data science']\n",
    "# vectorizer = CountVectorizer()\n",
    "#\n",
    "# v = vectorizer.fit(text)\n",
    "# xv = vectorizer.fit_transform(text)\n",
    "# print(xv.toarray())\n",
    "# print(xv.shape)\n",
    "# vectorizer.get_feature_names_out()\n",
    "# cv = TfidfVectorizer(min_df=1, stop_words='english')\n",
    "# xv = cv.fit_transform(text)\n",
    "# cv.get_feature_names_out()\n",
    "# print(xv.toarray())"
   ],
   "metadata": {
    "collapsed": false,
    "pycharm": {
     "name": "#%%\n"
    }
   }
  },
  {
   "cell_type": "code",
   "execution_count": null,
   "outputs": [],
   "source": [
    "# from sklearn.preprocessing import normalize\n",
    "#\n",
    "# norm = normalize (X_train_WithClusers)\n",
    "# norm\n",
    "# scaler = StandardScaler()\n",
    "# scaler.fit(X_train_WithClusers)\n",
    "# X_TrainedScaled = scaler.fit_transform(X_train_WithClusers)\n",
    "#X_TrainedScaled[0]# from sklearn.preprocessing import normalize\n",
    "#\n",
    "# norm = normalize (X_train_WithClusers)\n",
    "# norm\n",
    "# scaler = StandardScaler()\n",
    "# scaler.fit(X_train_WithClusers)\n",
    "# X_TrainedScaled = scaler.fit_transform(X_train_WithClusers)\n",
    "#X_TrainedScaled[0]"
   ],
   "metadata": {
    "collapsed": false,
    "pycharm": {
     "name": "#%%\n"
    }
   }
  },
  {
   "cell_type": "markdown",
   "source": [
    "# Quadratically weighted Kabba - Ready functions"
   ],
   "metadata": {
    "collapsed": false,
    "pycharm": {
     "name": "#%% md\n"
    }
   }
  },
  {
   "cell_type": "code",
   "execution_count": 33,
   "outputs": [],
   "source": [
    "# The following 3 functions have been taken from Ben Hamner's github repository\n",
    "# https://github.com/benhamner/Metrics\n",
    "def Cmatrix(rater_a, rater_b, min_rating=None, max_rating=None):\n",
    "    \"\"\"\n",
    "    Returns the confusion matrix between rater's ratings\n",
    "    \"\"\"\n",
    "    assert(len(rater_a) == len(rater_b))\n",
    "    if min_rating is None:\n",
    "        min_rating = min(rater_a + rater_b)\n",
    "    if max_rating is None:\n",
    "        max_rating = max(rater_a + rater_b)\n",
    "    num_ratings = int(max_rating - min_rating + 1)\n",
    "    conf_mat = [[0 for i in range(num_ratings)]\n",
    "                for j in range(num_ratings)]\n",
    "    for a, b in zip(rater_a, rater_b):\n",
    "        conf_mat[a - min_rating][b - min_rating] += 1\n",
    "    return conf_mat\n",
    "\n",
    "\n",
    "def histogram(ratings, min_rating=None, max_rating=None):\n",
    "    \"\"\"\n",
    "    Returns the counts of each type of rating that a rater made\n",
    "    \"\"\"\n",
    "    if min_rating is None:\n",
    "        min_rating = min(ratings)\n",
    "    if max_rating is None:\n",
    "        max_rating = max(ratings)\n",
    "    num_ratings = int(max_rating - min_rating + 1)\n",
    "    hist_ratings = [0 for x in range(num_ratings)]\n",
    "    for r in ratings:\n",
    "        hist_ratings[r - min_rating] += 1\n",
    "    return hist_ratings\n",
    "\n",
    "\n",
    "def quadratic_weighted_kappa(y, y_pred):\n",
    "    \"\"\"\n",
    "    Calculates the quadratic weighted kappa\n",
    "    axquadratic_weighted_kappa calculates the quadratic weighted kappa\n",
    "    value, which is a measure of inter-rater agreement between two raters\n",
    "    that provide discrete numeric ratings.  Potential values range from -1\n",
    "    (representing complete disagreement) to 1 (representing complete\n",
    "    agreement).  A kappa value of 0 is expected if all agreement is due to\n",
    "    chance.\n",
    "    quadratic_weighted_kappa(rater_a, rater_b), where rater_a and rater_b\n",
    "    each correspond to a list of integer ratings.  These lists must have the\n",
    "    same length.\n",
    "    The ratings should be integers, and it is assumed that they contain\n",
    "    the complete range of possible ratings.\n",
    "    quadratic_weighted_kappa(X, min_rating, max_rating), where min_rating\n",
    "    is the minimum possible rating, and max_rating is the maximum possible\n",
    "    rating\n",
    "    \"\"\"\n",
    "    rater_a = y\n",
    "    rater_b = y_pred\n",
    "    min_rating=None\n",
    "    max_rating=None\n",
    "    rater_a = np.array(rater_a, dtype=int)\n",
    "    rater_b = np.array(rater_b, dtype=int)\n",
    "    assert(len(rater_a) == len(rater_b))\n",
    "    if min_rating is None:\n",
    "        min_rating = min(min(rater_a), min(rater_b))\n",
    "    if max_rating is None:\n",
    "        max_rating = max(max(rater_a), max(rater_b))\n",
    "    conf_mat = Cmatrix(rater_a, rater_b,\n",
    "                                min_rating, max_rating)\n",
    "    num_ratings = len(conf_mat)\n",
    "    num_scored_items = float(len(rater_a))\n",
    "\n",
    "    hist_rater_a = histogram(rater_a, min_rating, max_rating)\n",
    "    hist_rater_b = histogram(rater_b, min_rating, max_rating)\n",
    "\n",
    "    numerator = 0.0\n",
    "    denominator = 0.0\n",
    "\n",
    "    for i in range(num_ratings):\n",
    "        for j in range(num_ratings):\n",
    "            expected_count = (hist_rater_a[i] * hist_rater_b[j]\n",
    "                              / num_scored_items)\n",
    "            d = pow(i - j, 2.0) / pow(num_ratings - 1, 2.0)\n",
    "            numerator += d * conf_mat[i][j] / num_scored_items\n",
    "            denominator += d * expected_count / num_scored_items\n",
    "\n",
    "    return (1.0 - numerator / denominator)"
   ],
   "metadata": {
    "collapsed": false,
    "pycharm": {
     "name": "#%%\n"
    }
   }
  },
  {
   "cell_type": "markdown",
   "source": [
    "### QWK between the first and the second rater"
   ],
   "metadata": {
    "collapsed": false,
    "pycharm": {
     "name": "#%% md\n"
    }
   }
  },
  {
   "cell_type": "code",
   "execution_count": 6,
   "outputs": [
    {
     "data": {
      "text/plain": "0.3977300242869025"
     },
     "execution_count": 6,
     "metadata": {},
     "output_type": "execute_result"
    }
   ],
   "source": [
    "y1QWK = df['Code1_IN_AR_Gesamteindruck_Argumentation_3_4_0']\n",
    "y2QWK = df['Code2_IN_AR_Gesamteindruck_Argumentation_3_4_0']\n",
    "\n",
    "# cohen_kappa_score(y_test,pred,weights=\"quadratic\")\n",
    "\n",
    "cohen_kappa_score(y1QWK,y2QWK,weights=\"quadratic\")"
   ],
   "metadata": {
    "collapsed": false,
    "pycharm": {
     "name": "#%%\n"
    }
   }
  },
  {
   "cell_type": "markdown",
   "source": [
    "### Fuctions to append the clusters to the feature vectors"
   ],
   "metadata": {
    "collapsed": false,
    "pycharm": {
     "name": "#%% md\n"
    }
   }
  },
  {
   "cell_type": "code",
   "execution_count": 89,
   "outputs": [],
   "source": [
    "def readTextFromFileName(listNames):\n",
    "    returnList= []\n",
    "    for i in range (len(listNames)):\n",
    "        my_file = Path(r\"D:\\UDE\\6th Semester\\MEMS\\MEWS Data\\MEWS_Essays\\MEWS_Essays\\Essays_all\\ALLEssaysAllPrompts\", listNames[i])\n",
    "        if my_file.is_file():\n",
    "            text = my_file.read_text(encoding='utf-8-sig')\n",
    "            returnList.append(text)\n",
    "    return returnList\n",
    "\n",
    "def AppendClustersToTfIDf(essaysNamesList , tfIDFVectorsArray, vectorizer):\n",
    "\n",
    "    df_goldStandarsdClusters = pd.read_excel(\"FinalResults.xlsx\")\n",
    "    clusterFeatureVectormulti = []\n",
    "\n",
    "    for i in range (len(essaysNamesList)):\n",
    "        clusterVectorFeatureSingle =  [0 for col in range(19)]\n",
    "        listEssayClusers = df_goldStandarsdClusters[df_goldStandarsdClusters['fileName'].str.contains(essaysNamesList[i])]['cluster']\n",
    "\n",
    "        if (len(listEssayClusers) ==0):\n",
    "            print(\"error\")\n",
    "\n",
    "        for cluster in listEssayClusers:\n",
    "            clusterVectorFeatureSingle[cluster] = clusterVectorFeatureSingle[cluster] + 1\n",
    "\n",
    "        clusterFeatureVectormulti.append(clusterVectorFeatureSingle)\n",
    "\n",
    "    if (vectorizer == \"tfidf\"):\n",
    "        print(\"tfIDf\")\n",
    "        ### append logic ############\n",
    "        Xa = tfIDFVectorsArray[0]\n",
    "        Xb = sparse.csr_matrix(clusterFeatureVectormulti[0])\n",
    "        diff_n_rows = Xa.shape[0] - Xb.shape[0]\n",
    "        Xb_new = vstack((Xb, csr_matrix((diff_n_rows, Xb.shape[1]))))\n",
    "        X_final = hstack((Xa, Xb_new))\n",
    "\n",
    "        for i in range(1,len(essaysNamesList)):\n",
    "            Xa = tfIDFVectorsArray[i]\n",
    "            Xb = sparse.csr_matrix(clusterFeatureVectormulti[i])\n",
    "            diff_n_rows = Xa.shape[0] - Xb.shape[0]\n",
    "            Xb_new = vstack((Xb, csr_matrix((diff_n_rows, Xb.shape[1]))))\n",
    "            X_semiFinal = hstack((Xa, Xb_new))\n",
    "            X_final = vstack((X_final, X_semiFinal))\n",
    "        return X_final\n",
    "    else:\n",
    "        print(\"sbert\")\n",
    "        finalX_Train = []\n",
    "        for i in range(len(tfIDFVectorsArray)):\n",
    "            arr = np.append(tfIDFVectorsArray[i],clusterFeatureVectormulti[i])\n",
    "            finalX_Train.append(arr)\n",
    "        npa = np.asarray(finalX_Train, dtype=np.ndarray)\n",
    "        return npa\n"
   ],
   "metadata": {
    "collapsed": false,
    "pycharm": {
     "name": "#%%\n"
    }
   }
  },
  {
   "cell_type": "markdown",
   "source": [
    "### TFIDF with features Clusters - Increasing the feature vector instead of binary values"
   ],
   "metadata": {
    "collapsed": false,
    "pycharm": {
     "name": "#%% md\n"
    }
   }
  },
  {
   "cell_type": "code",
   "execution_count": null,
   "outputs": [],
   "source": [
    "essaysNames_train, essaysNames_test, y_train, y_test = train_test_split(listRightNames, y, test_size=0.25, random_state=1000)\n",
    "\n",
    "essays_train=readTextFromFileName(essaysNames_train)\n",
    "essays_test =readTextFromFileName(essaysNames_test)\n",
    "\n",
    "\n",
    "vectorizer = TfidfVectorizer(min_df=1, stop_words='english')\n",
    "vectorizer.fit_transform(essays_train)\n",
    "X_train = vectorizer.transform(essays_train)\n",
    "X_test  = vectorizer.transform(essays_test)\n",
    "print(X_train.shape)\n",
    "print(X_test.shape)\n",
    "\n",
    "X_train_WithClusers = AppendClustersToTfIDf(essaysNames_train,X_train,\"tfidf\")\n",
    "X_test_WithClusters = AppendClustersToTfIDf(essaysNames_test,X_test,\"tfidf\")\n",
    "print(X_train_WithClusers.shape)\n",
    "print(X_test_WithClusters.shape)\n",
    "\n",
    "### classification logic #######################\n",
    "\n",
    "classifier = LogisticRegression() #LogisticRegression()  #DecisionTreeClassifier(max_depth=4)\n",
    "classifier.fit(X_train_WithClusers, y_train)\n",
    "score1 = classifier.score(X_test_WithClusters, y_test)\n",
    "pred = classifier.predict(X_test_WithClusters)\n",
    "print(\"Accuracy:\", score1)\n",
    "print(\"ِAdjecent Accuracy:\",custom_adjacent_accuracy_score(y_test,pred))\n",
    "print(\"pearson correaltion 1 \",scipy.stats.pearsonr(y_test, pred))\n",
    "print(\"pearson correaltion 2\", stats.pearsonr(y_test, pred))\n",
    "print(confusion_matrix(y_test, pred))\n",
    "\n",
    "print(cohen_kappa_score(y_test,pred,weights=\"quadratic\"))"
   ],
   "metadata": {
    "collapsed": false,
    "pycharm": {
     "name": "#%%\n",
     "is_executing": true
    }
   }
  },
  {
   "cell_type": "code",
   "execution_count": null,
   "outputs": [],
   "source": [
    "classifier = SVC(kernel=\"linear\") #LogisticRegression()  #DecisionTreeClassifier(max_depth=4)\n",
    "classifier.fit(X_train_WithClusers, y_train)\n",
    "score1 = classifier.score(X_test_WithClusters, y_test)\n",
    "pred = classifier.predict(X_test_WithClusters)\n",
    "print(\"Accuracy:\", score1)\n",
    "print(\"ِAdjecent Accuracy:\",custom_adjacent_accuracy_score(y_test,pred))\n",
    "\n",
    "print(\"pearson correaltion 1 \",scipy.stats.pearsonr(y_test, pred))\n",
    "print(\"pearson correaltion 2\", stats.pearsonr(y_test, pred))\n",
    "print(confusion_matrix(y_test, pred))\n",
    "\n",
    "print(cohen_kappa_score(y_test,pred,weights=\"quadratic\"))"
   ],
   "metadata": {
    "collapsed": false,
    "pycharm": {
     "name": "#%%\n",
     "is_executing": true
    }
   }
  },
  {
   "cell_type": "markdown",
   "source": [
    "### Sbert with clusters as features with normalized feature vector"
   ],
   "metadata": {
    "collapsed": false,
    "pycharm": {
     "name": "#%% md\n"
    }
   }
  },
  {
   "cell_type": "code",
   "execution_count": null,
   "outputs": [],
   "source": [
    "essaysNames_train, essaysNames_test, y_train, y_test = train_test_split(listRightNames, y, test_size=0.25, random_state=1000)\n",
    "\n",
    "essays_train=readTextFromFileName(essaysNames_train)\n",
    "essays_test =readTextFromFileName(essaysNames_test)\n",
    "\n",
    "\n",
    "model = SentenceTransformer('all-mpnet-base-v2', device=\"cuda\")\n",
    "X_train = model.encode(essays_train, show_progress_bar =True, device=\"cuda\")\n",
    "X_test  = model.encode(essays_test, show_progress_bar =True, device=\"cuda\")\n",
    "\n",
    "print(X_train.shape)\n",
    "print(X_test.shape)\n",
    "\n",
    "X_train_WithClusers = AppendClustersToTfIDf(essaysNames_train,X_train,\"sbert\")\n",
    "X_test_WithClusters = AppendClustersToTfIDf(essaysNames_test,X_test,\"sbert\")\n",
    "\n",
    "scaler = StandardScaler()\n",
    "scaler.fit(X_train_WithClusers)\n",
    "X_TrainedScaled = scaler.fit_transform(X_train_WithClusers)\n",
    "X_TestScaled = scaler.fit_transform(X_test_WithClusters)\n",
    "\n",
    "print(X_TrainedScaled.shape)\n",
    "print(X_TestScaled.shape)\n",
    "\n",
    "### classification logic #######################\n",
    "\n",
    "classifier = LogisticRegression() #LogisticRegression()  #DecisionTreeClassifier(max_depth=4)\n",
    "classifier.fit(X_TrainedScaled, y_train)\n",
    "score1 = classifier.score(X_TestScaled, y_test)\n",
    "pred = classifier.predict(X_TestScaled)\n",
    "print(\"Accuracy:\", score1)\n",
    "print(\"ِAdjecent Accuracy:\",custom_adjacent_accuracy_score(y_test,pred))\n",
    "print(confusion_matrix(y_test, pred))\n",
    "\n",
    "print(cohen_kappa_score(y_test,pred,weights=\"quadratic\"))"
   ],
   "metadata": {
    "collapsed": false,
    "pycharm": {
     "name": "#%%\n",
     "is_executing": true
    }
   }
  },
  {
   "cell_type": "code",
   "execution_count": null,
   "outputs": [],
   "source": [
    "classifier = SVC(kernel=\"linear\") #LogisticRegression()  #DecisionTreeClassifier(max_depth=4)\n",
    "classifier.fit(X_TrainedScaled, y_train)\n",
    "score1 = classifier.score(X_TestScaled, y_test)\n",
    "pred = classifier.predict(X_TestScaled)\n",
    "print(\"Accuracy:\", score1)\n",
    "print(\"ِAdjecent Accuracy:\",custom_adjacent_accuracy_score(y_test,pred))\n",
    "\n",
    "print(\"pearson correaltion 1 \",scipy.stats.pearsonr(y_test, pred))\n",
    "print(\"pearson correaltion 2\", stats.pearsonr(y_test, pred))\n",
    "\n",
    "print(confusion_matrix(y_test, pred))\n",
    "\n",
    "print(cohen_kappa_score(y_test,pred,weights=\"quadratic\"))"
   ],
   "metadata": {
    "collapsed": false,
    "pycharm": {
     "name": "#%%\n",
     "is_executing": true
    }
   }
  },
  {
   "cell_type": "code",
   "execution_count": 2,
   "outputs": [],
   "source": [
    "import fasttext"
   ],
   "metadata": {
    "collapsed": false,
    "pycharm": {
     "name": "#%%\n"
    }
   }
  },
  {
   "cell_type": "code",
   "execution_count": 9,
   "outputs": [],
   "source": [
    "model = fasttext.train_unsupervised('data/test.txt', model='cbow',minCount=1)"
   ],
   "metadata": {
    "collapsed": false,
    "pycharm": {
     "name": "#%%\n"
    }
   }
  },
  {
   "cell_type": "code",
   "execution_count": null,
   "outputs": [],
   "source": [
    "test = \"This is a exmaple of fastText\"\n",
    "\n",
    "model = fasttext.train_supervised('data/test.txt')"
   ],
   "metadata": {
    "collapsed": false,
    "pycharm": {
     "name": "#%%\n"
    }
   }
  },
  {
   "cell_type": "code",
   "execution_count": null,
   "outputs": [],
   "source": [
    "print(model.words)\n",
    "print(model.labels)"
   ],
   "metadata": {
    "collapsed": false,
    "pycharm": {
     "name": "#%%\n",
     "is_executing": true
    }
   }
  }
 ],
 "metadata": {
  "kernelspec": {
   "display_name": "Python 3",
   "language": "python",
   "name": "python3"
  },
  "language_info": {
   "codemirror_mode": {
    "name": "ipython",
    "version": 2
   },
   "file_extension": ".py",
   "mimetype": "text/x-python",
   "name": "python",
   "nbconvert_exporter": "python",
   "pygments_lexer": "ipython2",
   "version": "2.7.6"
  }
 },
 "nbformat": 4,
 "nbformat_minor": 0
}