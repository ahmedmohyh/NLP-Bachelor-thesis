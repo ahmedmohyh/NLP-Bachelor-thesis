{
 "cells": [
  {
   "cell_type": "markdown",
   "source": [
    "### A plan how the essay scoring experiment will be done"
   ],
   "metadata": {
    "collapsed": false,
    "pycharm": {
     "name": "#%% md\n"
    }
   }
  },
  {
   "cell_type": "code",
   "execution_count": null,
   "outputs": [],
   "source": [
    "'''\n",
    "1- using the tfIDF vectroizer or the sbert pretrained model to vectroize the sentences into vectors and get the features vectors.\n",
    "\n",
    "2- then apped the clusters vectors an array of 19 elements to the end of the vectors array.\n",
    "\n",
    "\n",
    "3- train the model using of the shallow machine learning model.......\n",
    "\n",
    "'''"
   ],
   "metadata": {
    "collapsed": false,
    "pycharm": {
     "name": "#%%\n",
     "is_executing": true
    }
   }
  },
  {
   "cell_type": "code",
   "execution_count": 136,
   "outputs": [],
   "source": [
    "from keras.models import Sequential\n",
    "from keras import layers\n",
    "from keras_preprocessing.sequence import pad_sequences\n",
    "from keras.utils import np_utils\n",
    "import pandas as pd\n",
    "from sklearn.svm import SVC\n",
    "from sklearn import datasets, svm, tree, metrics\n",
    "from sklearn.model_selection import train_test_split\n",
    "from sklearn.feature_extraction.text import CountVectorizer\n",
    "from sklearn.feature_extraction.text import TfidfVectorizer\n",
    "from sklearn.linear_model import LogisticRegression\n",
    "from sklearn.metrics import confusion_matrix\n",
    "from sentence_transformers import SentenceTransformer\n",
    "from sklearn.metrics import accuracy_score\n",
    "from sklearn.metrics import cohen_kappa_score\n",
    "from sklearn.preprocessing import OneHotEncoder\n",
    "from sklearn.metrics import classification_report\n",
    "from sklearn.tree import DecisionTreeClassifier\n",
    "#from keras.preprocessing.sequence import pad_sequences\n",
    "from keras.preprocessing.text import Tokenizer\n",
    "import sys\n",
    "import numpy as np\n",
    "import seaborn as sns\n",
    "from mpl_toolkits.mplot3d import Axes3D\n",
    "import nltk\n",
    "import re\n",
    "import matplotlib.pyplot as pltb"
   ],
   "metadata": {
    "collapsed": false,
    "pycharm": {
     "name": "#%%\n"
    }
   }
  },
  {
   "cell_type": "code",
   "execution_count": null,
   "outputs": [],
   "source": [
    "# text= ['hello my name is ahmed and I am a data scientist','data science is very important field','data science is not that hard']\n",
    "# text1 = ['you are watching unfold data science']\n",
    "# vectorizer = CountVectorizer()\n",
    "#\n",
    "# v = vectorizer.fit(text)\n",
    "# xv = vectorizer.fit_transform(text)\n",
    "# print(xv.toarray())\n",
    "# print(xv.shape)\n",
    "# vectorizer.get_feature_names_out()\n",
    "# cv = TfidfVectorizer(min_df=1, stop_words='english')\n",
    "# xv = cv.fit_transform(text)\n",
    "# cv.get_feature_names_out()\n",
    "# print(xv.toarray())"
   ],
   "metadata": {
    "collapsed": false,
    "pycharm": {
     "name": "#%%\n",
     "is_executing": true
    }
   }
  },
  {
   "cell_type": "markdown",
   "source": [
    "### Building the right file names and reading the files"
   ],
   "metadata": {
    "collapsed": false,
    "pycharm": {
     "name": "#%% md\n"
    }
   }
  },
  {
   "cell_type": "code",
   "execution_count": null,
   "outputs": [],
   "source": [
    "df = pd.read_csv(r\"D:\\UDE\\6th Semester\\MEMS\\MEWS Data\\TRACE_Datensatz_transposed_220308.csv\", sep='\\t')\n",
    "y = df['Code1_IN_AR_Gesamteindruck_Argumentation_3_4_0']  # y is the gold standards\n",
    "\n",
    "listEssayNames = df['DocumentID']\n",
    "\n",
    "listEssayNames = [i.removeprefix(\"00\") for i in listEssayNames]\n",
    "\n",
    "listEssayNames = [i.replace(\"al\",\"aI\") for i in listEssayNames]\n",
    "\n",
    "listRightNames = []\n",
    "for essay in listEssayNames:\n",
    "    x = essay.split(\"X\")\n",
    "    temp = x[0]+\"_\"+x[1]+\".txt\"\n",
    "    listRightNames.append(temp)\n",
    "    #print(x)\n",
    "\n",
    "from pathlib import Path\n",
    "\n",
    "essays =[]\n",
    "for essayRigt in listRightNames:\n",
    "    my_file = Path(r\"D:\\UDE\\6th Semester\\MEMS\\MEWS Data\\MEWS_Essays\\MEWS_Essays\\Essays_all\\ALLEssaysAllPrompts\", essayRigt)\n",
    "    if my_file.is_file():\n",
    "        essays.append(my_file.read_text(encoding='utf-8-sig'))"
   ],
   "metadata": {
    "collapsed": false,
    "pycharm": {
     "name": "#%%\n",
     "is_executing": true
    }
   }
  },
  {
   "cell_type": "markdown",
   "source": [
    "### CountVectorizer Test"
   ],
   "metadata": {
    "collapsed": false,
    "pycharm": {
     "name": "#%% md\n"
    }
   }
  },
  {
   "cell_type": "code",
   "execution_count": null,
   "outputs": [],
   "source": [
    "essays_train, essays_test, y_train, y_test = train_test_split(essays, y, test_size=0.25, random_state=1000)\n",
    "\n",
    "vectorizer = CountVectorizer(analyzer='word', ngram_range=(7, 7))\n",
    "vectorizer.fit_transform(essays_train)\n",
    "X_train = vectorizer.transform(essays_train)\n",
    "X_test  = vectorizer.transform(essays_test)\n",
    "\n",
    "print(X_train.shape)\n",
    "print(X_test.shape)\n",
    "\n",
    "classifier = LogisticRegression(max_iter=100)\n",
    "classifier.fit(X_train, y_train)\n",
    "score1 = classifier.score(X_test, y_test)\n",
    "pred = classifier.predict(X_test)\n",
    "print(\"Accuracy:\", score1)\n",
    "\n",
    "print(confusion_matrix(y_test, pred))"
   ],
   "metadata": {
    "collapsed": false,
    "pycharm": {
     "name": "#%%\n",
     "is_executing": true
    }
   }
  },
  {
   "cell_type": "markdown",
   "source": [
    "### Sbert Test"
   ],
   "metadata": {
    "collapsed": false,
    "pycharm": {
     "name": "#%% md\n"
    }
   }
  },
  {
   "cell_type": "code",
   "execution_count": null,
   "outputs": [],
   "source": [
    "# essays_train, essays_test, y_train, y_test = train_test_split(essays, y, test_size=0.25, random_state=1000)\n",
    "#\n",
    "# model = SentenceTransformer('all-mpnet-base-v2', device=\"cuda\")\n",
    "#\n",
    "# X_train = model.encode(essays_train, show_progress_bar =True, device=\"cuda\")\n",
    "#\n",
    "# X_test  = model.encode(essays_test, show_progress_bar =True, device=\"cuda\")\n",
    "#\n",
    "# print(X_train.shape)\n",
    "# print(X_test.shape)\n",
    "\n",
    "classifier = SVC(kernel=\"linear\", C=0.025) #LogisticRegression()  #DecisionTreeClassifier(max_depth=4)\n",
    "classifier.fit(X_train, y_train)\n",
    "score1 = classifier.score(X_test, y_test)\n",
    "pred = classifier.predict(X_test)\n",
    "print(\"Accuracy:\", score1)\n",
    "\n",
    "print(confusion_matrix(y_test, pred))"
   ],
   "metadata": {
    "collapsed": false,
    "pycharm": {
     "name": "#%%\n",
     "is_executing": true
    }
   }
  },
  {
   "cell_type": "markdown",
   "source": [
    "### tfIdf vectorizer test"
   ],
   "metadata": {
    "collapsed": false,
    "pycharm": {
     "name": "#%% md\n"
    }
   }
  },
  {
   "cell_type": "code",
   "execution_count": null,
   "outputs": [],
   "source": [
    "from sklearn.metrics import precision_recall_fscore_support as score\n",
    "\n",
    "essays_train, essays_test, y_train, y_test = train_test_split(essays, y, test_size=0.25, random_state=1000)\n",
    "\n",
    "vectorizer = TfidfVectorizer(min_df=1, stop_words='english')\n",
    "vectorizer.fit_transform(essays_train)\n",
    "X_train = vectorizer.transform(essays_train)\n",
    "X_test  = vectorizer.transform(essays_test)\n",
    "\n",
    "print(X_train.shape)\n",
    "print(X_test.shape)\n",
    "\n",
    "classifier = LogisticRegression()\n",
    "classifier.fit(X_train, y_train)\n",
    "score1 = classifier.score(X_test, y_test)\n",
    "pred = classifier.predict(X_test)\n",
    "\n",
    "precision, recall, fscore, support = score(y_test, pred)\n",
    "\n",
    "print(\"Accuracy:\", score1)\n",
    "\n",
    "print(\"recall:\", recall, \"fscore:\", fscore, \"support:\", support, \"precision:\", precision)\n",
    "print(confusion_matrix(y_test, pred))"
   ],
   "metadata": {
    "collapsed": false,
    "pycharm": {
     "name": "#%%\n",
     "is_executing": true
    }
   }
  }
 ],
 "metadata": {
  "kernelspec": {
   "display_name": "Python 3",
   "language": "python",
   "name": "python3"
  },
  "language_info": {
   "codemirror_mode": {
    "name": "ipython",
    "version": 2
   },
   "file_extension": ".py",
   "mimetype": "text/x-python",
   "name": "python",
   "nbconvert_exporter": "python",
   "pygments_lexer": "ipython2",
   "version": "2.7.6"
  }
 },
 "nbformat": 4,
 "nbformat_minor": 0
}