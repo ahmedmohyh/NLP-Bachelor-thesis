{
 "cells": [
  {
   "cell_type": "code",
   "execution_count": 1,
   "metadata": {
    "pycharm": {
     "name": "#%%\n"
    }
   },
   "outputs": [
    {
     "data": {
      "text/html": [
       "<style>/* Style des gesamten Dokuments */\n",
       "#notebook-container {\n",
       "\tfont-family: \"NimbusMonL-ReguObli\";\n",
       "\tfont-size: 120%\n",
       "}\n",
       "\n",
       "/* Style fÃ¼r die Ãœberschrift: Zentriert diese und stellt sie fett dar. */\n",
       ".headline {\n",
       "\ttext-align: center;\n",
       "\tfont-weight: bold;\n",
       "\tfont-size: 185.7%\n",
       "}\n",
       "\n",
       "/* Style fÃ¼r die Aufgabenbeschreibung. Z.B.: \"Ãœbung zum Thema...\" */\n",
       ".description {\n",
       "\ttext-align: center;\n",
       "\tfont-size: 145.7%\n",
       "}\n",
       "\n",
       "/* Hebt das Abgabedatum fett und kursiv hervor */\n",
       "#submission {\n",
       "\tfont-weight: bold;\n",
       "}\n",
       "\n",
       "/* Style fÃ¼r das eigentliche Thema. Z.B.: \"Intelligenz\" */\n",
       "#topic {\n",
       "\tfont-style: italic;\n",
       "}\n",
       "\n",
       ".task_description {\n",
       "\tmargin-bottom: 20px;\n",
       "}\n",
       "\n",
       "/* Hebt die Aufgabennummerierung fett hervor. */\n",
       ".task {\n",
       "\tfont-style: normal;\n",
       "\tfont-weight: bold;\n",
       "\tfont-size: 120%;\n",
       "\tborder-bottom: 2px solid black;\n",
       "  background-color: #97CAEF;\n",
       "  color: black;\n",
       "\tpadding: 2px;\n",
       "  padding-left: 50px;\n",
       "  padding-right: 50px;\n",
       "}\n",
       "\n",
       ".subtask {\n",
       "\tfont-style: normal;\n",
       "\tfont-size: 100%;\n",
       "  background-color: #CAFAFE;\n",
       "  color: black;\n",
       "\tpadding: 2px;\n",
       "  padding-left: 25px;\n",
       "  padding-right: 25px;\n",
       "}\n",
       "\n",
       ".l1 {\n",
       "\tfont-style: normal;\n",
       "\tfont-size: 100%;\n",
       "  background-color: #14A76C;\n",
       "  color: black;\n",
       "\tpadding: 2px;\n",
       "  padding-left: 5px;\n",
       "  padding-right: 5px;\n",
       "}\n",
       "\n",
       ".l2 {\n",
       "\tfont-style: normal;\n",
       "\tfont-size: 100%;\n",
       "  background-color: #FFE400;\n",
       "  color: black;\n",
       "\tpadding: 2px;\n",
       "  padding-left: 5px;\n",
       "  padding-right: 5px;\n",
       "}\n",
       "\n",
       ".l3 {\n",
       "\tfont-style: normal;\n",
       "\tfont-size: 100%;\n",
       "  background-color: #FF652F;\n",
       "  color: black;\n",
       "\tpadding: 2px;\n",
       "  padding-left: 5px;\n",
       "  padding-right: 5px;\n",
       "}\n",
       "\n",
       ".points {\n",
       "\tfont-style: italic;\n",
       "}\n",
       "\n",
       "ol.lower_roman {\n",
       "    list-style-type: lower-roman;\n",
       "}\n",
       "\n",
       "ol.characters {\n",
       "    list-style-type: lower-alpha;\n",
       "}\n",
       "\n",
       "/* Style einer Code-Cell */\n",
       ".CodeMirror-code {\n",
       "\tbackground-color: #ededed\n",
       "}\n",
       "\n",
       "/* Style eines Kommentars im Code Ã¤ndern. */\n",
       ".cm-s-ipython span.cm-comment {\n",
       "\n",
       "}\n",
       "\n",
       ".cm-s-ipython span.cm-atom {\n",
       "\n",
       "}\n",
       "\n",
       ".cm-s-ipython span.cm-number {\n",
       "\n",
       "}\n",
       "\n",
       "/* Style eines Python-Keywords Ã¤ndern */\n",
       ".cm-s-ipython span.cm-keyword {\n",
       "\tcolor: #B000B0\n",
       "}\n",
       "\n",
       ".cm-s-ipython span.cm-def {\n",
       "\n",
       "}\n",
       "\n",
       "/* Style einer Python-Variable Ã¤ndern */\n",
       ".cm-s-ipython span.cm-variable {\n",
       "\n",
       "}\n",
       "\n",
       "/* Style einer Property Ã¤ndern */\n",
       ".cm-s-ipython span.cm-property {\n",
       "\n",
       "}\n",
       "\n",
       "/* Style eines Python-Operators Ã¤ndern */\n",
       ".cm-s-ipython span.cm-operator {\n",
       "\n",
       "}\n",
       "\n",
       "/* Style eines Python-Strings Ã¤ndern */\n",
       ".cm-s-ipython span.cm-string {\n",
       "\tcolor: brown;\n",
       "}\n",
       "\n",
       "/* Style einer eingebauten Funktion Ã¤ndern (z.B. \"open\") */\n",
       ".cm-s-ipython span.cm-builtin {\n",
       "\n",
       "}\n",
       "\n",
       "/* Hebt hervor, welche Klammern zueinander passen */\n",
       ".cm-s-ipython .CodeMirror-matchingbracket {\n",
       "\n",
       "}\n",
       "\n",
       ".cm-s-ipython span.cm-variable-2 {\n",
       "\n",
       "}\n",
       "\n",
       "</style>"
      ],
      "text/plain": [
       "<IPython.core.display.HTML object>"
      ]
     },
     "execution_count": 1,
     "metadata": {},
     "output_type": "execute_result"
    }
   ],
   "source": [
    "from IPython.core.display import HTML\n",
    "HTML(\"<style>\" + open(\"style.css\").read() + \"</style>\")"
   ]
  },
  {
   "cell_type": "markdown",
   "metadata": {
    "pycharm": {
     "name": "#%% md\n"
    }
   },
   "source": [
    "<div class=\"headline\">\n",
    "Language Technology / Sprachtechnologie\n",
    "<br><br>\n",
    "Wintersemester 2021/2022\n",
    "</div>\n",
    "<br>\n",
    "<div class=\"description\">\n",
    "    Übung zum Thema <i id=\"topic\">\"Essay Scoring\"</i>\n",
    "    <br><br>\n",
    "    Deadline Abgabe: <i #id=\"submission\">Freitag, 17.12.2021 (11:55 Uhr)</i>\n",
    "</div>"
   ]
  },
  {
   "cell_type": "code",
   "execution_count": 1,
   "metadata": {
    "pycharm": {
     "name": "#%%\n"
    }
   },
   "outputs": [],
   "source": [
    "from keras.models import Sequential\n",
    "from keras import layers\n",
    "from keras_preprocessing.sequence import pad_sequences\n",
    "from keras.utils import np_utils\n",
    "import pandas as pd\n",
    "from sklearn import datasets, svm, tree, metrics\n",
    "from sklearn.model_selection import train_test_split\n",
    "from sklearn.feature_extraction.text import CountVectorizer\n",
    "from sklearn.linear_model import LogisticRegression\n",
    "from sklearn.metrics import confusion_matrix\n",
    "from sklearn.metrics import accuracy_score\n",
    "from sklearn.metrics import cohen_kappa_score\n",
    "from sklearn.preprocessing import OneHotEncoder\n",
    "from sklearn.metrics import classification_report\n",
    "from sklearn.tree import DecisionTreeClassifier\n",
    "#from keras.preprocessing.sequence import pad_sequences\n",
    "from keras.preprocessing.text import Tokenizer\n",
    "import sys\n",
    "import numpy as np\n",
    "import seaborn as sns\n",
    "from mpl_toolkits.mplot3d import Axes3D\n",
    "import nltk\n",
    "import re\n",
    "import matplotlib.pyplot as plt"
   ]
  },
  {
   "cell_type": "code",
   "execution_count": 21,
   "metadata": {
    "pycharm": {
     "name": "#%%\n"
    }
   },
   "outputs": [
    {
     "data": {
      "text/html": [
       "<div>\n",
       "<style scoped>\n",
       "    .dataframe tbody tr th:only-of-type {\n",
       "        vertical-align: middle;\n",
       "    }\n",
       "\n",
       "    .dataframe tbody tr th {\n",
       "        vertical-align: top;\n",
       "    }\n",
       "\n",
       "    .dataframe thead th {\n",
       "        text-align: right;\n",
       "    }\n",
       "</style>\n",
       "<table border=\"1\" class=\"dataframe\">\n",
       "  <thead>\n",
       "    <tr style=\"text-align: right;\">\n",
       "      <th></th>\n",
       "      <th>mean radius</th>\n",
       "      <th>mean texture</th>\n",
       "      <th>mean perimeter</th>\n",
       "      <th>mean area</th>\n",
       "      <th>mean smoothness</th>\n",
       "      <th>mean compactness</th>\n",
       "      <th>mean concavity</th>\n",
       "      <th>mean concave points</th>\n",
       "      <th>mean symmetry</th>\n",
       "      <th>mean fractal dimension</th>\n",
       "      <th>...</th>\n",
       "      <th>worst radius</th>\n",
       "      <th>worst texture</th>\n",
       "      <th>worst perimeter</th>\n",
       "      <th>worst area</th>\n",
       "      <th>worst smoothness</th>\n",
       "      <th>worst compactness</th>\n",
       "      <th>worst concavity</th>\n",
       "      <th>worst concave points</th>\n",
       "      <th>worst symmetry</th>\n",
       "      <th>worst fractal dimension</th>\n",
       "    </tr>\n",
       "  </thead>\n",
       "  <tbody>\n",
       "    <tr>\n",
       "      <th>0</th>\n",
       "      <td>17.99</td>\n",
       "      <td>10.38</td>\n",
       "      <td>122.80</td>\n",
       "      <td>1001.0</td>\n",
       "      <td>0.11840</td>\n",
       "      <td>0.27760</td>\n",
       "      <td>0.30010</td>\n",
       "      <td>0.14710</td>\n",
       "      <td>0.2419</td>\n",
       "      <td>0.07871</td>\n",
       "      <td>...</td>\n",
       "      <td>25.380</td>\n",
       "      <td>17.33</td>\n",
       "      <td>184.60</td>\n",
       "      <td>2019.0</td>\n",
       "      <td>0.16220</td>\n",
       "      <td>0.66560</td>\n",
       "      <td>0.7119</td>\n",
       "      <td>0.2654</td>\n",
       "      <td>0.4601</td>\n",
       "      <td>0.11890</td>\n",
       "    </tr>\n",
       "    <tr>\n",
       "      <th>1</th>\n",
       "      <td>20.57</td>\n",
       "      <td>17.77</td>\n",
       "      <td>132.90</td>\n",
       "      <td>1326.0</td>\n",
       "      <td>0.08474</td>\n",
       "      <td>0.07864</td>\n",
       "      <td>0.08690</td>\n",
       "      <td>0.07017</td>\n",
       "      <td>0.1812</td>\n",
       "      <td>0.05667</td>\n",
       "      <td>...</td>\n",
       "      <td>24.990</td>\n",
       "      <td>23.41</td>\n",
       "      <td>158.80</td>\n",
       "      <td>1956.0</td>\n",
       "      <td>0.12380</td>\n",
       "      <td>0.18660</td>\n",
       "      <td>0.2416</td>\n",
       "      <td>0.1860</td>\n",
       "      <td>0.2750</td>\n",
       "      <td>0.08902</td>\n",
       "    </tr>\n",
       "    <tr>\n",
       "      <th>2</th>\n",
       "      <td>19.69</td>\n",
       "      <td>21.25</td>\n",
       "      <td>130.00</td>\n",
       "      <td>1203.0</td>\n",
       "      <td>0.10960</td>\n",
       "      <td>0.15990</td>\n",
       "      <td>0.19740</td>\n",
       "      <td>0.12790</td>\n",
       "      <td>0.2069</td>\n",
       "      <td>0.05999</td>\n",
       "      <td>...</td>\n",
       "      <td>23.570</td>\n",
       "      <td>25.53</td>\n",
       "      <td>152.50</td>\n",
       "      <td>1709.0</td>\n",
       "      <td>0.14440</td>\n",
       "      <td>0.42450</td>\n",
       "      <td>0.4504</td>\n",
       "      <td>0.2430</td>\n",
       "      <td>0.3613</td>\n",
       "      <td>0.08758</td>\n",
       "    </tr>\n",
       "    <tr>\n",
       "      <th>3</th>\n",
       "      <td>11.42</td>\n",
       "      <td>20.38</td>\n",
       "      <td>77.58</td>\n",
       "      <td>386.1</td>\n",
       "      <td>0.14250</td>\n",
       "      <td>0.28390</td>\n",
       "      <td>0.24140</td>\n",
       "      <td>0.10520</td>\n",
       "      <td>0.2597</td>\n",
       "      <td>0.09744</td>\n",
       "      <td>...</td>\n",
       "      <td>14.910</td>\n",
       "      <td>26.50</td>\n",
       "      <td>98.87</td>\n",
       "      <td>567.7</td>\n",
       "      <td>0.20980</td>\n",
       "      <td>0.86630</td>\n",
       "      <td>0.6869</td>\n",
       "      <td>0.2575</td>\n",
       "      <td>0.6638</td>\n",
       "      <td>0.17300</td>\n",
       "    </tr>\n",
       "    <tr>\n",
       "      <th>4</th>\n",
       "      <td>20.29</td>\n",
       "      <td>14.34</td>\n",
       "      <td>135.10</td>\n",
       "      <td>1297.0</td>\n",
       "      <td>0.10030</td>\n",
       "      <td>0.13280</td>\n",
       "      <td>0.19800</td>\n",
       "      <td>0.10430</td>\n",
       "      <td>0.1809</td>\n",
       "      <td>0.05883</td>\n",
       "      <td>...</td>\n",
       "      <td>22.540</td>\n",
       "      <td>16.67</td>\n",
       "      <td>152.20</td>\n",
       "      <td>1575.0</td>\n",
       "      <td>0.13740</td>\n",
       "      <td>0.20500</td>\n",
       "      <td>0.4000</td>\n",
       "      <td>0.1625</td>\n",
       "      <td>0.2364</td>\n",
       "      <td>0.07678</td>\n",
       "    </tr>\n",
       "    <tr>\n",
       "      <th>...</th>\n",
       "      <td>...</td>\n",
       "      <td>...</td>\n",
       "      <td>...</td>\n",
       "      <td>...</td>\n",
       "      <td>...</td>\n",
       "      <td>...</td>\n",
       "      <td>...</td>\n",
       "      <td>...</td>\n",
       "      <td>...</td>\n",
       "      <td>...</td>\n",
       "      <td>...</td>\n",
       "      <td>...</td>\n",
       "      <td>...</td>\n",
       "      <td>...</td>\n",
       "      <td>...</td>\n",
       "      <td>...</td>\n",
       "      <td>...</td>\n",
       "      <td>...</td>\n",
       "      <td>...</td>\n",
       "      <td>...</td>\n",
       "      <td>...</td>\n",
       "    </tr>\n",
       "    <tr>\n",
       "      <th>564</th>\n",
       "      <td>21.56</td>\n",
       "      <td>22.39</td>\n",
       "      <td>142.00</td>\n",
       "      <td>1479.0</td>\n",
       "      <td>0.11100</td>\n",
       "      <td>0.11590</td>\n",
       "      <td>0.24390</td>\n",
       "      <td>0.13890</td>\n",
       "      <td>0.1726</td>\n",
       "      <td>0.05623</td>\n",
       "      <td>...</td>\n",
       "      <td>25.450</td>\n",
       "      <td>26.40</td>\n",
       "      <td>166.10</td>\n",
       "      <td>2027.0</td>\n",
       "      <td>0.14100</td>\n",
       "      <td>0.21130</td>\n",
       "      <td>0.4107</td>\n",
       "      <td>0.2216</td>\n",
       "      <td>0.2060</td>\n",
       "      <td>0.07115</td>\n",
       "    </tr>\n",
       "    <tr>\n",
       "      <th>565</th>\n",
       "      <td>20.13</td>\n",
       "      <td>28.25</td>\n",
       "      <td>131.20</td>\n",
       "      <td>1261.0</td>\n",
       "      <td>0.09780</td>\n",
       "      <td>0.10340</td>\n",
       "      <td>0.14400</td>\n",
       "      <td>0.09791</td>\n",
       "      <td>0.1752</td>\n",
       "      <td>0.05533</td>\n",
       "      <td>...</td>\n",
       "      <td>23.690</td>\n",
       "      <td>38.25</td>\n",
       "      <td>155.00</td>\n",
       "      <td>1731.0</td>\n",
       "      <td>0.11660</td>\n",
       "      <td>0.19220</td>\n",
       "      <td>0.3215</td>\n",
       "      <td>0.1628</td>\n",
       "      <td>0.2572</td>\n",
       "      <td>0.06637</td>\n",
       "    </tr>\n",
       "    <tr>\n",
       "      <th>566</th>\n",
       "      <td>16.60</td>\n",
       "      <td>28.08</td>\n",
       "      <td>108.30</td>\n",
       "      <td>858.1</td>\n",
       "      <td>0.08455</td>\n",
       "      <td>0.10230</td>\n",
       "      <td>0.09251</td>\n",
       "      <td>0.05302</td>\n",
       "      <td>0.1590</td>\n",
       "      <td>0.05648</td>\n",
       "      <td>...</td>\n",
       "      <td>18.980</td>\n",
       "      <td>34.12</td>\n",
       "      <td>126.70</td>\n",
       "      <td>1124.0</td>\n",
       "      <td>0.11390</td>\n",
       "      <td>0.30940</td>\n",
       "      <td>0.3403</td>\n",
       "      <td>0.1418</td>\n",
       "      <td>0.2218</td>\n",
       "      <td>0.07820</td>\n",
       "    </tr>\n",
       "    <tr>\n",
       "      <th>567</th>\n",
       "      <td>20.60</td>\n",
       "      <td>29.33</td>\n",
       "      <td>140.10</td>\n",
       "      <td>1265.0</td>\n",
       "      <td>0.11780</td>\n",
       "      <td>0.27700</td>\n",
       "      <td>0.35140</td>\n",
       "      <td>0.15200</td>\n",
       "      <td>0.2397</td>\n",
       "      <td>0.07016</td>\n",
       "      <td>...</td>\n",
       "      <td>25.740</td>\n",
       "      <td>39.42</td>\n",
       "      <td>184.60</td>\n",
       "      <td>1821.0</td>\n",
       "      <td>0.16500</td>\n",
       "      <td>0.86810</td>\n",
       "      <td>0.9387</td>\n",
       "      <td>0.2650</td>\n",
       "      <td>0.4087</td>\n",
       "      <td>0.12400</td>\n",
       "    </tr>\n",
       "    <tr>\n",
       "      <th>568</th>\n",
       "      <td>7.76</td>\n",
       "      <td>24.54</td>\n",
       "      <td>47.92</td>\n",
       "      <td>181.0</td>\n",
       "      <td>0.05263</td>\n",
       "      <td>0.04362</td>\n",
       "      <td>0.00000</td>\n",
       "      <td>0.00000</td>\n",
       "      <td>0.1587</td>\n",
       "      <td>0.05884</td>\n",
       "      <td>...</td>\n",
       "      <td>9.456</td>\n",
       "      <td>30.37</td>\n",
       "      <td>59.16</td>\n",
       "      <td>268.6</td>\n",
       "      <td>0.08996</td>\n",
       "      <td>0.06444</td>\n",
       "      <td>0.0000</td>\n",
       "      <td>0.0000</td>\n",
       "      <td>0.2871</td>\n",
       "      <td>0.07039</td>\n",
       "    </tr>\n",
       "  </tbody>\n",
       "</table>\n",
       "<p>569 rows × 30 columns</p>\n",
       "</div>"
      ],
      "text/plain": [
       "     mean radius  mean texture  mean perimeter  mean area  mean smoothness  \\\n",
       "0          17.99         10.38          122.80     1001.0          0.11840   \n",
       "1          20.57         17.77          132.90     1326.0          0.08474   \n",
       "2          19.69         21.25          130.00     1203.0          0.10960   \n",
       "3          11.42         20.38           77.58      386.1          0.14250   \n",
       "4          20.29         14.34          135.10     1297.0          0.10030   \n",
       "..           ...           ...             ...        ...              ...   \n",
       "564        21.56         22.39          142.00     1479.0          0.11100   \n",
       "565        20.13         28.25          131.20     1261.0          0.09780   \n",
       "566        16.60         28.08          108.30      858.1          0.08455   \n",
       "567        20.60         29.33          140.10     1265.0          0.11780   \n",
       "568         7.76         24.54           47.92      181.0          0.05263   \n",
       "\n",
       "     mean compactness  mean concavity  mean concave points  mean symmetry  \\\n",
       "0             0.27760         0.30010              0.14710         0.2419   \n",
       "1             0.07864         0.08690              0.07017         0.1812   \n",
       "2             0.15990         0.19740              0.12790         0.2069   \n",
       "3             0.28390         0.24140              0.10520         0.2597   \n",
       "4             0.13280         0.19800              0.10430         0.1809   \n",
       "..                ...             ...                  ...            ...   \n",
       "564           0.11590         0.24390              0.13890         0.1726   \n",
       "565           0.10340         0.14400              0.09791         0.1752   \n",
       "566           0.10230         0.09251              0.05302         0.1590   \n",
       "567           0.27700         0.35140              0.15200         0.2397   \n",
       "568           0.04362         0.00000              0.00000         0.1587   \n",
       "\n",
       "     mean fractal dimension  ...  worst radius  worst texture  \\\n",
       "0                   0.07871  ...        25.380          17.33   \n",
       "1                   0.05667  ...        24.990          23.41   \n",
       "2                   0.05999  ...        23.570          25.53   \n",
       "3                   0.09744  ...        14.910          26.50   \n",
       "4                   0.05883  ...        22.540          16.67   \n",
       "..                      ...  ...           ...            ...   \n",
       "564                 0.05623  ...        25.450          26.40   \n",
       "565                 0.05533  ...        23.690          38.25   \n",
       "566                 0.05648  ...        18.980          34.12   \n",
       "567                 0.07016  ...        25.740          39.42   \n",
       "568                 0.05884  ...         9.456          30.37   \n",
       "\n",
       "     worst perimeter  worst area  worst smoothness  worst compactness  \\\n",
       "0             184.60      2019.0           0.16220            0.66560   \n",
       "1             158.80      1956.0           0.12380            0.18660   \n",
       "2             152.50      1709.0           0.14440            0.42450   \n",
       "3              98.87       567.7           0.20980            0.86630   \n",
       "4             152.20      1575.0           0.13740            0.20500   \n",
       "..               ...         ...               ...                ...   \n",
       "564           166.10      2027.0           0.14100            0.21130   \n",
       "565           155.00      1731.0           0.11660            0.19220   \n",
       "566           126.70      1124.0           0.11390            0.30940   \n",
       "567           184.60      1821.0           0.16500            0.86810   \n",
       "568            59.16       268.6           0.08996            0.06444   \n",
       "\n",
       "     worst concavity  worst concave points  worst symmetry  \\\n",
       "0             0.7119                0.2654          0.4601   \n",
       "1             0.2416                0.1860          0.2750   \n",
       "2             0.4504                0.2430          0.3613   \n",
       "3             0.6869                0.2575          0.6638   \n",
       "4             0.4000                0.1625          0.2364   \n",
       "..               ...                   ...             ...   \n",
       "564           0.4107                0.2216          0.2060   \n",
       "565           0.3215                0.1628          0.2572   \n",
       "566           0.3403                0.1418          0.2218   \n",
       "567           0.9387                0.2650          0.4087   \n",
       "568           0.0000                0.0000          0.2871   \n",
       "\n",
       "     worst fractal dimension  \n",
       "0                    0.11890  \n",
       "1                    0.08902  \n",
       "2                    0.08758  \n",
       "3                    0.17300  \n",
       "4                    0.07678  \n",
       "..                       ...  \n",
       "564                  0.07115  \n",
       "565                  0.06637  \n",
       "566                  0.07820  \n",
       "567                  0.12400  \n",
       "568                  0.07039  \n",
       "\n",
       "[569 rows x 30 columns]"
      ]
     },
     "execution_count": 21,
     "metadata": {},
     "output_type": "execute_result"
    }
   ],
   "source": [
    "from sklearn.datasets import load_breast_cancer\n",
    "data = load_breast_cancer()\n",
    "\n",
    "dataset = pd.DataFrame(data = data['data'] , columns = data['feature_names'])\n",
    "\n",
    "dataset"
   ]
  },
  {
   "cell_type": "markdown",
   "metadata": {
    "pycharm": {
     "name": "#%% md\n"
    }
   },
   "source": [
    "## Warm-up"
   ]
  },
  {
   "cell_type": "markdown",
   "metadata": {
    "pycharm": {
     "name": "#%% md\n"
    }
   },
   "source": [
    "<div class=\"task_description\">\n",
    "    <i class=\"task\">Task 7.1:</i> <br>\n",
    "</div>\n",
    "\n",
    "Which of the following statements are true?\n",
    "\n",
    "1. Character n-grams are more robust against grammatical errors than token n-grams.\n",
    "2. Length features are always good in essay scoring.\n",
    "3. Length features are more susceptible to cheating than n-gram features.\n",
    "4. Essay scoring is potentially unfair to very creative learners."
   ]
  },
  {
   "cell_type": "markdown",
   "metadata": {
    "pycharm": {
     "name": "#%% md\n"
    }
   },
   "source": [
    "<strong style=\"color: blue\">Lösung: </strong>\n",
    "\n",
    "1. Not necessarily, character n-grams are robust against spelling variation. With grammatical errors, the problem is often not that the word does not exist, but that the wrong form is used.\n",
    "2. False, they are only a good indicator when essays are written under a time constraint.\n",
    "3. True. You can influence length easily (repeating the same words over and over). For n-gram features you will probably have to cover some correct content.\n",
    "4. True. If someone writes something we have never seen in the training data, the algorithm will probably not know what to do with it. If someone writes mainstream, chances are high we can score it more accurately."
   ]
  },
  {
   "cell_type": "markdown",
   "metadata": {
    "pycharm": {
     "name": "#%% md\n"
    }
   },
   "source": [
    "## Features and Machine Learning"
   ]
  },
  {
   "cell_type": "markdown",
   "metadata": {
    "pycharm": {
     "name": "#%% md\n"
    }
   },
   "source": [
    "<div class=\"task_description\">\n",
    "    <i class=\"task\">Task 7.2:</i> <br>\n",
    "</div>"
   ]
  },
  {
   "cell_type": "markdown",
   "metadata": {
    "pycharm": {
     "name": "#%% md\n"
    }
   },
   "source": [
    "<div class=\"task_description\">\n",
    "   <i class=\"subtask\">7.2.1</i> <i class=\"l1\">L1</i> <br>\n",
    "</div>\n",
    "Import the following data file. It contains a number of linguistic features for essay scoring determined on the first prompt of the ASAP data record. \n",
    "<br> Output the NrofTokens feature."
   ]
  },
  {
   "cell_type": "code",
   "execution_count": 3,
   "metadata": {
    "pycharm": {
     "name": "#%%\n"
    }
   },
   "outputs": [],
   "source": [
    "df = pd.read_csv('data/featureFileAsap1.tsv', sep='\\t')"
   ]
  },
  {
   "cell_type": "markdown",
   "metadata": {
    "pycharm": {
     "name": "#%% md\n"
    }
   },
   "source": [
    "<strong style=\"color: blue\">Lösung: </strong>"
   ]
  },
  {
   "cell_type": "code",
   "execution_count": 4,
   "metadata": {
    "pycharm": {
     "name": "#%%\n"
    }
   },
   "outputs": [
    {
     "name": "stdout",
     "output_type": "stream",
     "text": [
      "[730. 336. 347. ... 590. 350. 449.]\n",
      "1783\n"
     ]
    }
   ],
   "source": [
    "f1 = df['NrofTokens'].values\n",
    "print(f1)\n",
    "print(len(f1))"
   ]
  },
  {
   "cell_type": "markdown",
   "metadata": {
    "pycharm": {
     "name": "#%% md\n"
    }
   },
   "source": [
    "You can plot the individual features across the different total scores."
   ]
  },
  {
   "cell_type": "code",
   "execution_count": 5,
   "metadata": {
    "pycharm": {
     "name": "#%%\n"
    }
   },
   "outputs": [
    {
     "name": "stderr",
     "output_type": "stream",
     "text": [
      "C:\\Users\\Ahmed\\AppData\\Local\\Programs\\Python\\Python39\\lib\\site-packages\\seaborn\\_core.py:1057: FutureWarning: reindexing with a non-unique Index is deprecated and will raise in a future version.\n",
      "  comp_col.loc[orig.index] = pd.to_numeric(axis.convert_units(orig))\n"
     ]
    },
    {
     "ename": "ValueError",
     "evalue": "cannot reindex on an axis with duplicate labels",
     "output_type": "error",
     "traceback": [
      "\u001B[1;31m---------------------------------------------------------------------------\u001B[0m",
      "\u001B[1;31mValueError\u001B[0m                                Traceback (most recent call last)",
      "Input \u001B[1;32mIn [5]\u001B[0m, in \u001B[0;36m<cell line: 15>\u001B[1;34m()\u001B[0m\n\u001B[0;32m     13\u001B[0m sns\u001B[38;5;241m.\u001B[39mkdeplot(data[label], label\u001B[38;5;241m=\u001B[39m\u001B[38;5;124m'\u001B[39m\u001B[38;5;124mScore 5\u001B[39m\u001B[38;5;124m'\u001B[39m)\n\u001B[0;32m     14\u001B[0m data \u001B[38;5;241m=\u001B[39m df[df\u001B[38;5;241m.\u001B[39moutcome \u001B[38;5;241m==\u001B[39m \u001B[38;5;241m6\u001B[39m]\n\u001B[1;32m---> 15\u001B[0m \u001B[43msns\u001B[49m\u001B[38;5;241;43m.\u001B[39;49m\u001B[43mkdeplot\u001B[49m\u001B[43m(\u001B[49m\u001B[43mdata\u001B[49m\u001B[43m[\u001B[49m\u001B[43mlabel\u001B[49m\u001B[43m]\u001B[49m\u001B[43m,\u001B[49m\u001B[43m \u001B[49m\u001B[43mlabel\u001B[49m\u001B[38;5;241;43m=\u001B[39;49m\u001B[38;5;124;43m'\u001B[39;49m\u001B[38;5;124;43mScore 6\u001B[39;49m\u001B[38;5;124;43m'\u001B[39;49m\u001B[43m)\u001B[49m\n\u001B[0;32m     16\u001B[0m data \u001B[38;5;241m=\u001B[39m df[df\u001B[38;5;241m.\u001B[39moutcome \u001B[38;5;241m==\u001B[39m \u001B[38;5;241m7\u001B[39m]\n\u001B[0;32m     17\u001B[0m sns\u001B[38;5;241m.\u001B[39mkdeplot(data[label], label\u001B[38;5;241m=\u001B[39m\u001B[38;5;124m'\u001B[39m\u001B[38;5;124mScore 7\u001B[39m\u001B[38;5;124m'\u001B[39m)\n",
      "File \u001B[1;32m~\\AppData\\Local\\Programs\\Python\\Python39\\lib\\site-packages\\seaborn\\_decorators.py:46\u001B[0m, in \u001B[0;36m_deprecate_positional_args.<locals>.inner_f\u001B[1;34m(*args, **kwargs)\u001B[0m\n\u001B[0;32m     36\u001B[0m     warnings\u001B[38;5;241m.\u001B[39mwarn(\n\u001B[0;32m     37\u001B[0m         \u001B[38;5;124m\"\u001B[39m\u001B[38;5;124mPass the following variable\u001B[39m\u001B[38;5;132;01m{}\u001B[39;00m\u001B[38;5;124m as \u001B[39m\u001B[38;5;132;01m{}\u001B[39;00m\u001B[38;5;124mkeyword arg\u001B[39m\u001B[38;5;132;01m{}\u001B[39;00m\u001B[38;5;124m: \u001B[39m\u001B[38;5;132;01m{}\u001B[39;00m\u001B[38;5;124m. \u001B[39m\u001B[38;5;124m\"\u001B[39m\n\u001B[0;32m     38\u001B[0m         \u001B[38;5;124m\"\u001B[39m\u001B[38;5;124mFrom version 0.12, the only valid positional argument \u001B[39m\u001B[38;5;124m\"\u001B[39m\n\u001B[1;32m   (...)\u001B[0m\n\u001B[0;32m     43\u001B[0m         \u001B[38;5;167;01mFutureWarning\u001B[39;00m\n\u001B[0;32m     44\u001B[0m     )\n\u001B[0;32m     45\u001B[0m kwargs\u001B[38;5;241m.\u001B[39mupdate({k: arg \u001B[38;5;28;01mfor\u001B[39;00m k, arg \u001B[38;5;129;01min\u001B[39;00m \u001B[38;5;28mzip\u001B[39m(sig\u001B[38;5;241m.\u001B[39mparameters, args)})\n\u001B[1;32m---> 46\u001B[0m \u001B[38;5;28;01mreturn\u001B[39;00m f(\u001B[38;5;241m*\u001B[39m\u001B[38;5;241m*\u001B[39mkwargs)\n",
      "File \u001B[1;32m~\\AppData\\Local\\Programs\\Python\\Python39\\lib\\site-packages\\seaborn\\distributions.py:1770\u001B[0m, in \u001B[0;36mkdeplot\u001B[1;34m(x, y, shade, vertical, kernel, bw, gridsize, cut, clip, legend, cumulative, shade_lowest, cbar, cbar_ax, cbar_kws, ax, weights, hue, palette, hue_order, hue_norm, multiple, common_norm, common_grid, levels, thresh, bw_method, bw_adjust, log_scale, color, fill, data, data2, warn_singular, **kwargs)\u001B[0m\n\u001B[0;32m   1767\u001B[0m     \u001B[38;5;28;01mif\u001B[39;00m color \u001B[38;5;129;01mis\u001B[39;00m \u001B[38;5;129;01mnot\u001B[39;00m \u001B[38;5;28;01mNone\u001B[39;00m:\n\u001B[0;32m   1768\u001B[0m         plot_kws[\u001B[38;5;124m\"\u001B[39m\u001B[38;5;124mcolor\u001B[39m\u001B[38;5;124m\"\u001B[39m] \u001B[38;5;241m=\u001B[39m color\n\u001B[1;32m-> 1770\u001B[0m     p\u001B[38;5;241m.\u001B[39mplot_univariate_density(\n\u001B[0;32m   1771\u001B[0m         multiple\u001B[38;5;241m=\u001B[39mmultiple,\n\u001B[0;32m   1772\u001B[0m         common_norm\u001B[38;5;241m=\u001B[39mcommon_norm,\n\u001B[0;32m   1773\u001B[0m         common_grid\u001B[38;5;241m=\u001B[39mcommon_grid,\n\u001B[0;32m   1774\u001B[0m         fill\u001B[38;5;241m=\u001B[39mfill,\n\u001B[0;32m   1775\u001B[0m         legend\u001B[38;5;241m=\u001B[39mlegend,\n\u001B[0;32m   1776\u001B[0m         warn_singular\u001B[38;5;241m=\u001B[39mwarn_singular,\n\u001B[0;32m   1777\u001B[0m         estimate_kws\u001B[38;5;241m=\u001B[39mestimate_kws,\n\u001B[0;32m   1778\u001B[0m         \u001B[38;5;241m*\u001B[39m\u001B[38;5;241m*\u001B[39mplot_kws,\n\u001B[0;32m   1779\u001B[0m     )\n\u001B[0;32m   1781\u001B[0m \u001B[38;5;28;01melse\u001B[39;00m:\n\u001B[0;32m   1783\u001B[0m     p\u001B[38;5;241m.\u001B[39mplot_bivariate_density(\n\u001B[0;32m   1784\u001B[0m         common_norm\u001B[38;5;241m=\u001B[39mcommon_norm,\n\u001B[0;32m   1785\u001B[0m         fill\u001B[38;5;241m=\u001B[39mfill,\n\u001B[1;32m   (...)\u001B[0m\n\u001B[0;32m   1795\u001B[0m         \u001B[38;5;241m*\u001B[39m\u001B[38;5;241m*\u001B[39mkwargs,\n\u001B[0;32m   1796\u001B[0m     )\n",
      "File \u001B[1;32m~\\AppData\\Local\\Programs\\Python\\Python39\\lib\\site-packages\\seaborn\\distributions.py:928\u001B[0m, in \u001B[0;36m_DistributionPlotter.plot_univariate_density\u001B[1;34m(self, multiple, common_norm, common_grid, warn_singular, fill, legend, estimate_kws, **plot_kws)\u001B[0m\n\u001B[0;32m    925\u001B[0m log_scale \u001B[38;5;241m=\u001B[39m \u001B[38;5;28mself\u001B[39m\u001B[38;5;241m.\u001B[39m_log_scaled(\u001B[38;5;28mself\u001B[39m\u001B[38;5;241m.\u001B[39mdata_variable)\n\u001B[0;32m    927\u001B[0m \u001B[38;5;66;03m# Do the computation\u001B[39;00m\n\u001B[1;32m--> 928\u001B[0m densities \u001B[38;5;241m=\u001B[39m \u001B[38;5;28;43mself\u001B[39;49m\u001B[38;5;241;43m.\u001B[39;49m\u001B[43m_compute_univariate_density\u001B[49m\u001B[43m(\u001B[49m\n\u001B[0;32m    929\u001B[0m \u001B[43m    \u001B[49m\u001B[38;5;28;43mself\u001B[39;49m\u001B[38;5;241;43m.\u001B[39;49m\u001B[43mdata_variable\u001B[49m\u001B[43m,\u001B[49m\n\u001B[0;32m    930\u001B[0m \u001B[43m    \u001B[49m\u001B[43mcommon_norm\u001B[49m\u001B[43m,\u001B[49m\n\u001B[0;32m    931\u001B[0m \u001B[43m    \u001B[49m\u001B[43mcommon_grid\u001B[49m\u001B[43m,\u001B[49m\n\u001B[0;32m    932\u001B[0m \u001B[43m    \u001B[49m\u001B[43mestimate_kws\u001B[49m\u001B[43m,\u001B[49m\n\u001B[0;32m    933\u001B[0m \u001B[43m    \u001B[49m\u001B[43mlog_scale\u001B[49m\u001B[43m,\u001B[49m\n\u001B[0;32m    934\u001B[0m \u001B[43m    \u001B[49m\u001B[43mwarn_singular\u001B[49m\u001B[43m,\u001B[49m\n\u001B[0;32m    935\u001B[0m \u001B[43m\u001B[49m\u001B[43m)\u001B[49m\n\u001B[0;32m    937\u001B[0m \u001B[38;5;66;03m# Adjust densities based on the `multiple` rule\u001B[39;00m\n\u001B[0;32m    938\u001B[0m densities, baselines \u001B[38;5;241m=\u001B[39m \u001B[38;5;28mself\u001B[39m\u001B[38;5;241m.\u001B[39m_resolve_multiple(densities, multiple)\n",
      "File \u001B[1;32m~\\AppData\\Local\\Programs\\Python\\Python39\\lib\\site-packages\\seaborn\\distributions.py:303\u001B[0m, in \u001B[0;36m_DistributionPlotter._compute_univariate_density\u001B[1;34m(self, data_variable, common_norm, common_grid, estimate_kws, log_scale, warn_singular)\u001B[0m\n\u001B[0;32m    299\u001B[0m     common_norm \u001B[38;5;241m=\u001B[39m \u001B[38;5;28;01mFalse\u001B[39;00m\n\u001B[0;32m    301\u001B[0m densities \u001B[38;5;241m=\u001B[39m {}\n\u001B[1;32m--> 303\u001B[0m \u001B[38;5;28;01mfor\u001B[39;00m sub_vars, sub_data \u001B[38;5;129;01min\u001B[39;00m \u001B[38;5;28mself\u001B[39m\u001B[38;5;241m.\u001B[39miter_data(\u001B[38;5;124m\"\u001B[39m\u001B[38;5;124mhue\u001B[39m\u001B[38;5;124m\"\u001B[39m, from_comp_data\u001B[38;5;241m=\u001B[39m\u001B[38;5;28;01mTrue\u001B[39;00m):\n\u001B[0;32m    304\u001B[0m \n\u001B[0;32m    305\u001B[0m     \u001B[38;5;66;03m# Extract the data points from this sub set and remove nulls\u001B[39;00m\n\u001B[0;32m    306\u001B[0m     sub_data \u001B[38;5;241m=\u001B[39m sub_data\u001B[38;5;241m.\u001B[39mdropna()\n\u001B[0;32m    307\u001B[0m     observations \u001B[38;5;241m=\u001B[39m sub_data[data_variable]\n",
      "File \u001B[1;32m~\\AppData\\Local\\Programs\\Python\\Python39\\lib\\site-packages\\seaborn\\_core.py:983\u001B[0m, in \u001B[0;36mVectorPlotter.iter_data\u001B[1;34m(self, grouping_vars, reverse, from_comp_data)\u001B[0m\n\u001B[0;32m    978\u001B[0m grouping_vars \u001B[38;5;241m=\u001B[39m [\n\u001B[0;32m    979\u001B[0m     var \u001B[38;5;28;01mfor\u001B[39;00m var \u001B[38;5;129;01min\u001B[39;00m grouping_vars \u001B[38;5;28;01mif\u001B[39;00m var \u001B[38;5;129;01min\u001B[39;00m \u001B[38;5;28mself\u001B[39m\u001B[38;5;241m.\u001B[39mvariables\n\u001B[0;32m    980\u001B[0m ]\n\u001B[0;32m    982\u001B[0m \u001B[38;5;28;01mif\u001B[39;00m from_comp_data:\n\u001B[1;32m--> 983\u001B[0m     data \u001B[38;5;241m=\u001B[39m \u001B[38;5;28;43mself\u001B[39;49m\u001B[38;5;241;43m.\u001B[39;49m\u001B[43mcomp_data\u001B[49m\n\u001B[0;32m    984\u001B[0m \u001B[38;5;28;01melse\u001B[39;00m:\n\u001B[0;32m    985\u001B[0m     data \u001B[38;5;241m=\u001B[39m \u001B[38;5;28mself\u001B[39m\u001B[38;5;241m.\u001B[39mplot_data\n",
      "File \u001B[1;32m~\\AppData\\Local\\Programs\\Python\\Python39\\lib\\site-packages\\seaborn\\_core.py:1057\u001B[0m, in \u001B[0;36mVectorPlotter.comp_data\u001B[1;34m(self)\u001B[0m\n\u001B[0;32m   1055\u001B[0m     orig \u001B[38;5;241m=\u001B[39m \u001B[38;5;28mself\u001B[39m\u001B[38;5;241m.\u001B[39mplot_data[var]\u001B[38;5;241m.\u001B[39mdropna()\n\u001B[0;32m   1056\u001B[0m comp_col \u001B[38;5;241m=\u001B[39m pd\u001B[38;5;241m.\u001B[39mSeries(index\u001B[38;5;241m=\u001B[39morig\u001B[38;5;241m.\u001B[39mindex, dtype\u001B[38;5;241m=\u001B[39m\u001B[38;5;28mfloat\u001B[39m, name\u001B[38;5;241m=\u001B[39mvar)\n\u001B[1;32m-> 1057\u001B[0m comp_col\u001B[38;5;241m.\u001B[39mloc[orig\u001B[38;5;241m.\u001B[39mindex] \u001B[38;5;241m=\u001B[39m pd\u001B[38;5;241m.\u001B[39mto_numeric(axis\u001B[38;5;241m.\u001B[39mconvert_units(orig))\n\u001B[0;32m   1059\u001B[0m \u001B[38;5;28;01mif\u001B[39;00m axis\u001B[38;5;241m.\u001B[39mget_scale() \u001B[38;5;241m==\u001B[39m \u001B[38;5;124m\"\u001B[39m\u001B[38;5;124mlog\u001B[39m\u001B[38;5;124m\"\u001B[39m:\n\u001B[0;32m   1060\u001B[0m     comp_col \u001B[38;5;241m=\u001B[39m np\u001B[38;5;241m.\u001B[39mlog10(comp_col)\n",
      "File \u001B[1;32m~\\AppData\\Local\\Programs\\Python\\Python39\\lib\\site-packages\\pandas\\core\\indexing.py:716\u001B[0m, in \u001B[0;36m_LocationIndexer.__setitem__\u001B[1;34m(self, key, value)\u001B[0m\n\u001B[0;32m    713\u001B[0m \u001B[38;5;28mself\u001B[39m\u001B[38;5;241m.\u001B[39m_has_valid_setitem_indexer(key)\n\u001B[0;32m    715\u001B[0m iloc \u001B[38;5;241m=\u001B[39m \u001B[38;5;28mself\u001B[39m \u001B[38;5;28;01mif\u001B[39;00m \u001B[38;5;28mself\u001B[39m\u001B[38;5;241m.\u001B[39mname \u001B[38;5;241m==\u001B[39m \u001B[38;5;124m\"\u001B[39m\u001B[38;5;124miloc\u001B[39m\u001B[38;5;124m\"\u001B[39m \u001B[38;5;28;01melse\u001B[39;00m \u001B[38;5;28mself\u001B[39m\u001B[38;5;241m.\u001B[39mobj\u001B[38;5;241m.\u001B[39miloc\n\u001B[1;32m--> 716\u001B[0m \u001B[43miloc\u001B[49m\u001B[38;5;241;43m.\u001B[39;49m\u001B[43m_setitem_with_indexer\u001B[49m\u001B[43m(\u001B[49m\u001B[43mindexer\u001B[49m\u001B[43m,\u001B[49m\u001B[43m \u001B[49m\u001B[43mvalue\u001B[49m\u001B[43m,\u001B[49m\u001B[43m \u001B[49m\u001B[38;5;28;43mself\u001B[39;49m\u001B[38;5;241;43m.\u001B[39;49m\u001B[43mname\u001B[49m\u001B[43m)\u001B[49m\n",
      "File \u001B[1;32m~\\AppData\\Local\\Programs\\Python\\Python39\\lib\\site-packages\\pandas\\core\\indexing.py:1690\u001B[0m, in \u001B[0;36m_iLocIndexer._setitem_with_indexer\u001B[1;34m(self, indexer, value, name)\u001B[0m\n\u001B[0;32m   1688\u001B[0m     \u001B[38;5;28mself\u001B[39m\u001B[38;5;241m.\u001B[39m_setitem_with_indexer_split_path(indexer, value, name)\n\u001B[0;32m   1689\u001B[0m \u001B[38;5;28;01melse\u001B[39;00m:\n\u001B[1;32m-> 1690\u001B[0m     \u001B[38;5;28;43mself\u001B[39;49m\u001B[38;5;241;43m.\u001B[39;49m\u001B[43m_setitem_single_block\u001B[49m\u001B[43m(\u001B[49m\u001B[43mindexer\u001B[49m\u001B[43m,\u001B[49m\u001B[43m \u001B[49m\u001B[43mvalue\u001B[49m\u001B[43m,\u001B[49m\u001B[43m \u001B[49m\u001B[43mname\u001B[49m\u001B[43m)\u001B[49m\n",
      "File \u001B[1;32m~\\AppData\\Local\\Programs\\Python\\Python39\\lib\\site-packages\\pandas\\core\\indexing.py:1929\u001B[0m, in \u001B[0;36m_iLocIndexer._setitem_single_block\u001B[1;34m(self, indexer, value, name)\u001B[0m\n\u001B[0;32m   1923\u001B[0m     indexer \u001B[38;5;241m=\u001B[39m maybe_convert_ix(\u001B[38;5;241m*\u001B[39mindexer)  \u001B[38;5;66;03m# e.g. test_setitem_frame_align\u001B[39;00m\n\u001B[0;32m   1925\u001B[0m \u001B[38;5;28;01mif\u001B[39;00m (\u001B[38;5;28misinstance\u001B[39m(value, ABCSeries) \u001B[38;5;129;01mand\u001B[39;00m name \u001B[38;5;241m!=\u001B[39m \u001B[38;5;124m\"\u001B[39m\u001B[38;5;124miloc\u001B[39m\u001B[38;5;124m\"\u001B[39m) \u001B[38;5;129;01mor\u001B[39;00m \u001B[38;5;28misinstance\u001B[39m(value, \u001B[38;5;28mdict\u001B[39m):\n\u001B[0;32m   1926\u001B[0m     \u001B[38;5;66;03m# TODO(EA): ExtensionBlock.setitem this causes issues with\u001B[39;00m\n\u001B[0;32m   1927\u001B[0m     \u001B[38;5;66;03m# setting for extensionarrays that store dicts. Need to decide\u001B[39;00m\n\u001B[0;32m   1928\u001B[0m     \u001B[38;5;66;03m# if it's worth supporting that.\u001B[39;00m\n\u001B[1;32m-> 1929\u001B[0m     value \u001B[38;5;241m=\u001B[39m \u001B[38;5;28;43mself\u001B[39;49m\u001B[38;5;241;43m.\u001B[39;49m\u001B[43m_align_series\u001B[49m\u001B[43m(\u001B[49m\u001B[43mindexer\u001B[49m\u001B[43m,\u001B[49m\u001B[43m \u001B[49m\u001B[43mSeries\u001B[49m\u001B[43m(\u001B[49m\u001B[43mvalue\u001B[49m\u001B[43m)\u001B[49m\u001B[43m)\u001B[49m\n\u001B[0;32m   1931\u001B[0m \u001B[38;5;28;01melif\u001B[39;00m \u001B[38;5;28misinstance\u001B[39m(value, ABCDataFrame) \u001B[38;5;129;01mand\u001B[39;00m name \u001B[38;5;241m!=\u001B[39m \u001B[38;5;124m\"\u001B[39m\u001B[38;5;124miloc\u001B[39m\u001B[38;5;124m\"\u001B[39m:\n\u001B[0;32m   1932\u001B[0m     value \u001B[38;5;241m=\u001B[39m \u001B[38;5;28mself\u001B[39m\u001B[38;5;241m.\u001B[39m_align_frame(indexer, value)\n",
      "File \u001B[1;32m~\\AppData\\Local\\Programs\\Python\\Python39\\lib\\site-packages\\pandas\\core\\indexing.py:2091\u001B[0m, in \u001B[0;36m_iLocIndexer._align_series\u001B[1;34m(self, indexer, ser, multiindex_indexer)\u001B[0m\n\u001B[0;32m   2089\u001B[0m \u001B[38;5;28;01mif\u001B[39;00m obj\u001B[38;5;241m.\u001B[39mndim \u001B[38;5;241m==\u001B[39m \u001B[38;5;241m2\u001B[39m \u001B[38;5;129;01mand\u001B[39;00m is_empty_indexer(indexer[\u001B[38;5;241m0\u001B[39m], ser\u001B[38;5;241m.\u001B[39m_values):\n\u001B[0;32m   2090\u001B[0m     \u001B[38;5;28;01mreturn\u001B[39;00m ser\u001B[38;5;241m.\u001B[39m_values\u001B[38;5;241m.\u001B[39mcopy()\n\u001B[1;32m-> 2091\u001B[0m ser \u001B[38;5;241m=\u001B[39m \u001B[43mser\u001B[49m\u001B[38;5;241;43m.\u001B[39;49m\u001B[43mreindex\u001B[49m\u001B[43m(\u001B[49m\u001B[43mobj\u001B[49m\u001B[38;5;241;43m.\u001B[39;49m\u001B[43maxes\u001B[49m\u001B[43m[\u001B[49m\u001B[38;5;241;43m0\u001B[39;49m\u001B[43m]\u001B[49m\u001B[43m[\u001B[49m\u001B[43mindexer\u001B[49m\u001B[43m[\u001B[49m\u001B[38;5;241;43m0\u001B[39;49m\u001B[43m]\u001B[49m\u001B[43m]\u001B[49m\u001B[43m,\u001B[49m\u001B[43m \u001B[49m\u001B[43mcopy\u001B[49m\u001B[38;5;241;43m=\u001B[39;49m\u001B[38;5;28;43;01mTrue\u001B[39;49;00m\u001B[43m)\u001B[49m\u001B[38;5;241m.\u001B[39m_values\n\u001B[0;32m   2093\u001B[0m \u001B[38;5;66;03m# single indexer\u001B[39;00m\n\u001B[0;32m   2094\u001B[0m \u001B[38;5;28;01mif\u001B[39;00m \u001B[38;5;28mlen\u001B[39m(indexer) \u001B[38;5;241m>\u001B[39m \u001B[38;5;241m1\u001B[39m \u001B[38;5;129;01mand\u001B[39;00m \u001B[38;5;129;01mnot\u001B[39;00m multiindex_indexer:\n",
      "File \u001B[1;32m~\\AppData\\Local\\Programs\\Python\\Python39\\lib\\site-packages\\pandas\\core\\series.py:4672\u001B[0m, in \u001B[0;36mSeries.reindex\u001B[1;34m(self, *args, **kwargs)\u001B[0m\n\u001B[0;32m   4668\u001B[0m         \u001B[38;5;28;01mraise\u001B[39;00m \u001B[38;5;167;01mTypeError\u001B[39;00m(\n\u001B[0;32m   4669\u001B[0m             \u001B[38;5;124m\"\u001B[39m\u001B[38;5;124m'\u001B[39m\u001B[38;5;124mindex\u001B[39m\u001B[38;5;124m'\u001B[39m\u001B[38;5;124m passed as both positional and keyword argument\u001B[39m\u001B[38;5;124m\"\u001B[39m\n\u001B[0;32m   4670\u001B[0m         )\n\u001B[0;32m   4671\u001B[0m     kwargs\u001B[38;5;241m.\u001B[39mupdate({\u001B[38;5;124m\"\u001B[39m\u001B[38;5;124mindex\u001B[39m\u001B[38;5;124m\"\u001B[39m: index})\n\u001B[1;32m-> 4672\u001B[0m \u001B[38;5;28;01mreturn\u001B[39;00m \u001B[38;5;28msuper\u001B[39m()\u001B[38;5;241m.\u001B[39mreindex(\u001B[38;5;241m*\u001B[39m\u001B[38;5;241m*\u001B[39mkwargs)\n",
      "File \u001B[1;32m~\\AppData\\Local\\Programs\\Python\\Python39\\lib\\site-packages\\pandas\\core\\generic.py:4966\u001B[0m, in \u001B[0;36mNDFrame.reindex\u001B[1;34m(self, *args, **kwargs)\u001B[0m\n\u001B[0;32m   4963\u001B[0m     \u001B[38;5;28;01mreturn\u001B[39;00m \u001B[38;5;28mself\u001B[39m\u001B[38;5;241m.\u001B[39m_reindex_multi(axes, copy, fill_value)\n\u001B[0;32m   4965\u001B[0m \u001B[38;5;66;03m# perform the reindex on the axes\u001B[39;00m\n\u001B[1;32m-> 4966\u001B[0m \u001B[38;5;28;01mreturn\u001B[39;00m \u001B[38;5;28;43mself\u001B[39;49m\u001B[38;5;241;43m.\u001B[39;49m\u001B[43m_reindex_axes\u001B[49m\u001B[43m(\u001B[49m\n\u001B[0;32m   4967\u001B[0m \u001B[43m    \u001B[49m\u001B[43maxes\u001B[49m\u001B[43m,\u001B[49m\u001B[43m \u001B[49m\u001B[43mlevel\u001B[49m\u001B[43m,\u001B[49m\u001B[43m \u001B[49m\u001B[43mlimit\u001B[49m\u001B[43m,\u001B[49m\u001B[43m \u001B[49m\u001B[43mtolerance\u001B[49m\u001B[43m,\u001B[49m\u001B[43m \u001B[49m\u001B[43mmethod\u001B[49m\u001B[43m,\u001B[49m\u001B[43m \u001B[49m\u001B[43mfill_value\u001B[49m\u001B[43m,\u001B[49m\u001B[43m \u001B[49m\u001B[43mcopy\u001B[49m\n\u001B[0;32m   4968\u001B[0m \u001B[43m\u001B[49m\u001B[43m)\u001B[49m\u001B[38;5;241m.\u001B[39m__finalize__(\u001B[38;5;28mself\u001B[39m, method\u001B[38;5;241m=\u001B[39m\u001B[38;5;124m\"\u001B[39m\u001B[38;5;124mreindex\u001B[39m\u001B[38;5;124m\"\u001B[39m)\n",
      "File \u001B[1;32m~\\AppData\\Local\\Programs\\Python\\Python39\\lib\\site-packages\\pandas\\core\\generic.py:4986\u001B[0m, in \u001B[0;36mNDFrame._reindex_axes\u001B[1;34m(self, axes, level, limit, tolerance, method, fill_value, copy)\u001B[0m\n\u001B[0;32m   4981\u001B[0m new_index, indexer \u001B[38;5;241m=\u001B[39m ax\u001B[38;5;241m.\u001B[39mreindex(\n\u001B[0;32m   4982\u001B[0m     labels, level\u001B[38;5;241m=\u001B[39mlevel, limit\u001B[38;5;241m=\u001B[39mlimit, tolerance\u001B[38;5;241m=\u001B[39mtolerance, method\u001B[38;5;241m=\u001B[39mmethod\n\u001B[0;32m   4983\u001B[0m )\n\u001B[0;32m   4985\u001B[0m axis \u001B[38;5;241m=\u001B[39m \u001B[38;5;28mself\u001B[39m\u001B[38;5;241m.\u001B[39m_get_axis_number(a)\n\u001B[1;32m-> 4986\u001B[0m obj \u001B[38;5;241m=\u001B[39m \u001B[43mobj\u001B[49m\u001B[38;5;241;43m.\u001B[39;49m\u001B[43m_reindex_with_indexers\u001B[49m\u001B[43m(\u001B[49m\n\u001B[0;32m   4987\u001B[0m \u001B[43m    \u001B[49m\u001B[43m{\u001B[49m\u001B[43maxis\u001B[49m\u001B[43m:\u001B[49m\u001B[43m \u001B[49m\u001B[43m[\u001B[49m\u001B[43mnew_index\u001B[49m\u001B[43m,\u001B[49m\u001B[43m \u001B[49m\u001B[43mindexer\u001B[49m\u001B[43m]\u001B[49m\u001B[43m}\u001B[49m\u001B[43m,\u001B[49m\n\u001B[0;32m   4988\u001B[0m \u001B[43m    \u001B[49m\u001B[43mfill_value\u001B[49m\u001B[38;5;241;43m=\u001B[39;49m\u001B[43mfill_value\u001B[49m\u001B[43m,\u001B[49m\n\u001B[0;32m   4989\u001B[0m \u001B[43m    \u001B[49m\u001B[43mcopy\u001B[49m\u001B[38;5;241;43m=\u001B[39;49m\u001B[43mcopy\u001B[49m\u001B[43m,\u001B[49m\n\u001B[0;32m   4990\u001B[0m \u001B[43m    \u001B[49m\u001B[43mallow_dups\u001B[49m\u001B[38;5;241;43m=\u001B[39;49m\u001B[38;5;28;43;01mFalse\u001B[39;49;00m\u001B[43m,\u001B[49m\n\u001B[0;32m   4991\u001B[0m \u001B[43m\u001B[49m\u001B[43m)\u001B[49m\n\u001B[0;32m   4992\u001B[0m \u001B[38;5;66;03m# If we've made a copy once, no need to make another one\u001B[39;00m\n\u001B[0;32m   4993\u001B[0m copy \u001B[38;5;241m=\u001B[39m \u001B[38;5;28;01mFalse\u001B[39;00m\n",
      "File \u001B[1;32m~\\AppData\\Local\\Programs\\Python\\Python39\\lib\\site-packages\\pandas\\core\\generic.py:5032\u001B[0m, in \u001B[0;36mNDFrame._reindex_with_indexers\u001B[1;34m(self, reindexers, fill_value, copy, allow_dups)\u001B[0m\n\u001B[0;32m   5029\u001B[0m     indexer \u001B[38;5;241m=\u001B[39m ensure_platform_int(indexer)\n\u001B[0;32m   5031\u001B[0m \u001B[38;5;66;03m# TODO: speed up on homogeneous DataFrame objects (see _reindex_multi)\u001B[39;00m\n\u001B[1;32m-> 5032\u001B[0m new_data \u001B[38;5;241m=\u001B[39m \u001B[43mnew_data\u001B[49m\u001B[38;5;241;43m.\u001B[39;49m\u001B[43mreindex_indexer\u001B[49m\u001B[43m(\u001B[49m\n\u001B[0;32m   5033\u001B[0m \u001B[43m    \u001B[49m\u001B[43mindex\u001B[49m\u001B[43m,\u001B[49m\n\u001B[0;32m   5034\u001B[0m \u001B[43m    \u001B[49m\u001B[43mindexer\u001B[49m\u001B[43m,\u001B[49m\n\u001B[0;32m   5035\u001B[0m \u001B[43m    \u001B[49m\u001B[43maxis\u001B[49m\u001B[38;5;241;43m=\u001B[39;49m\u001B[43mbaxis\u001B[49m\u001B[43m,\u001B[49m\n\u001B[0;32m   5036\u001B[0m \u001B[43m    \u001B[49m\u001B[43mfill_value\u001B[49m\u001B[38;5;241;43m=\u001B[39;49m\u001B[43mfill_value\u001B[49m\u001B[43m,\u001B[49m\n\u001B[0;32m   5037\u001B[0m \u001B[43m    \u001B[49m\u001B[43mallow_dups\u001B[49m\u001B[38;5;241;43m=\u001B[39;49m\u001B[43mallow_dups\u001B[49m\u001B[43m,\u001B[49m\n\u001B[0;32m   5038\u001B[0m \u001B[43m    \u001B[49m\u001B[43mcopy\u001B[49m\u001B[38;5;241;43m=\u001B[39;49m\u001B[43mcopy\u001B[49m\u001B[43m,\u001B[49m\n\u001B[0;32m   5039\u001B[0m \u001B[43m\u001B[49m\u001B[43m)\u001B[49m\n\u001B[0;32m   5040\u001B[0m \u001B[38;5;66;03m# If we've made a copy once, no need to make another one\u001B[39;00m\n\u001B[0;32m   5041\u001B[0m copy \u001B[38;5;241m=\u001B[39m \u001B[38;5;28;01mFalse\u001B[39;00m\n",
      "File \u001B[1;32m~\\AppData\\Local\\Programs\\Python\\Python39\\lib\\site-packages\\pandas\\core\\internals\\managers.py:679\u001B[0m, in \u001B[0;36mBaseBlockManager.reindex_indexer\u001B[1;34m(self, new_axis, indexer, axis, fill_value, allow_dups, copy, consolidate, only_slice, use_na_proxy)\u001B[0m\n\u001B[0;32m    677\u001B[0m \u001B[38;5;66;03m# some axes don't allow reindexing with dups\u001B[39;00m\n\u001B[0;32m    678\u001B[0m \u001B[38;5;28;01mif\u001B[39;00m \u001B[38;5;129;01mnot\u001B[39;00m allow_dups:\n\u001B[1;32m--> 679\u001B[0m     \u001B[38;5;28;43mself\u001B[39;49m\u001B[38;5;241;43m.\u001B[39;49m\u001B[43maxes\u001B[49m\u001B[43m[\u001B[49m\u001B[43maxis\u001B[49m\u001B[43m]\u001B[49m\u001B[38;5;241;43m.\u001B[39;49m\u001B[43m_validate_can_reindex\u001B[49m\u001B[43m(\u001B[49m\u001B[43mindexer\u001B[49m\u001B[43m)\u001B[49m\n\u001B[0;32m    681\u001B[0m \u001B[38;5;28;01mif\u001B[39;00m axis \u001B[38;5;241m>\u001B[39m\u001B[38;5;241m=\u001B[39m \u001B[38;5;28mself\u001B[39m\u001B[38;5;241m.\u001B[39mndim:\n\u001B[0;32m    682\u001B[0m     \u001B[38;5;28;01mraise\u001B[39;00m \u001B[38;5;167;01mIndexError\u001B[39;00m(\u001B[38;5;124m\"\u001B[39m\u001B[38;5;124mRequested axis not found in manager\u001B[39m\u001B[38;5;124m\"\u001B[39m)\n",
      "File \u001B[1;32m~\\AppData\\Local\\Programs\\Python\\Python39\\lib\\site-packages\\pandas\\core\\indexes\\base.py:4107\u001B[0m, in \u001B[0;36mIndex._validate_can_reindex\u001B[1;34m(self, indexer)\u001B[0m\n\u001B[0;32m   4105\u001B[0m \u001B[38;5;66;03m# trying to reindex on an axis with duplicates\u001B[39;00m\n\u001B[0;32m   4106\u001B[0m \u001B[38;5;28;01mif\u001B[39;00m \u001B[38;5;129;01mnot\u001B[39;00m \u001B[38;5;28mself\u001B[39m\u001B[38;5;241m.\u001B[39m_index_as_unique \u001B[38;5;129;01mand\u001B[39;00m \u001B[38;5;28mlen\u001B[39m(indexer):\n\u001B[1;32m-> 4107\u001B[0m     \u001B[38;5;28;01mraise\u001B[39;00m \u001B[38;5;167;01mValueError\u001B[39;00m(\u001B[38;5;124m\"\u001B[39m\u001B[38;5;124mcannot reindex on an axis with duplicate labels\u001B[39m\u001B[38;5;124m\"\u001B[39m)\n",
      "\u001B[1;31mValueError\u001B[0m: cannot reindex on an axis with duplicate labels"
     ]
    },
    {
     "data": {
      "text/plain": "<Figure size 1440x720 with 1 Axes>",
      "image/png": "[encoded data removed]"
     },
     "metadata": {
      "needs_background": "light"
     },
     "output_type": "display_data"
    }
   ],
   "source": [
    "label ='avgNumCharsToken'\n",
    "\n",
    "plt.figure(figsize=(20, 10))\n",
    "plt.title(label+' vs Scores')\n",
    "plt.xlabel(label)\n",
    "plt.ylabel('Density')\n",
    "\n",
    "data = df[df.outcome == 2]\n",
    "sns.kdeplot(data[label], label='Score 2')\n",
    "data = df[df.outcome == 4]\n",
    "sns.kdeplot(data[label], label='Score 4')\n",
    "data = df[df.outcome == 5]\n",
    "sns.kdeplot(data[label], label='Score 5')\n",
    "data = df[df.outcome == 6]\n",
    "sns.kdeplot(data[label], label='Score 6')\n",
    "data = df[df.outcome == 7]\n",
    "sns.kdeplot(data[label], label='Score 7')\n",
    "data = df[df.outcome == 8]\n",
    "sns.kdeplot(data[label], label='Score 8')\n",
    "data = df[df.outcome == 9]\n",
    "sns.kdeplot(data[label], label='Score 9')\n",
    "data = df[df.outcome == 10]\n",
    "sns.kdeplot(data[label], label='Score 10')\n",
    "data = df[df.outcome == 11]\n",
    "sns.kdeplot(data[label], label='Score 11')\n",
    "data = df[df.outcome == 12]\n",
    "sns.kdeplot(data[label], label='Score 12')\n",
    "\n",
    "plt.legend(prop={'size': 15})\n",
    "\n",
    "plt.show()"
   ]
  },
  {
   "cell_type": "markdown",
   "metadata": {
    "pycharm": {
     "name": "#%% md\n"
    }
   },
   "source": [
    "<div class=\"task_description\">\n",
    "   <i class=\"subtask\">7.2.2</i> <i class=\"l1\">L1</i> <br>\n",
    "</div>\n",
    "\n",
    "Compare the plots for the three features, NrofTokens (essay length), avgNumCharsToken (word length) and PronounRatioI (what proportion of pronouns is 'I'). Which feature separates the different essay levels particularly well and which does not?"
   ]
  },
  {
   "cell_type": "markdown",
   "metadata": {
    "pycharm": {
     "name": "#%% md\n"
    }
   },
   "source": [
    "<strong style=\"color: blue\">Lösung: </strong>\n",
    "\n",
    "Essay length works particularly well, the pronoun feature does not work well."
   ]
  },
  {
   "cell_type": "markdown",
   "metadata": {
    "pycharm": {
     "name": "#%% md\n"
    }
   },
   "source": [
    "<div class=\"task_description\">\n",
    "   <i class=\"subtask\">7.2.3</i> <i class=\"l2\">L2</i> <br>\n",
    "</div>\n",
    "\n",
    "Train a Decision Tree Model on the data with last week's code and evaluate."
   ]
  },
  {
   "cell_type": "markdown",
   "metadata": {
    "pycharm": {
     "name": "#%% md\n"
    }
   },
   "source": [
    "<strong style=\"color: blue\">Lösung: </strong>"
   ]
  },
  {
   "cell_type": "code",
   "execution_count": 6,
   "metadata": {
    "pycharm": {
     "name": "#%%\n"
    }
   },
   "outputs": [
    {
     "name": "stdout",
     "output_type": "stream",
     "text": [
      "              precision    recall  f1-score   support\n",
      "\n",
      "           2       1.00      0.75      0.86         4\n",
      "           4       0.00      0.00      0.00         1\n",
      "           5       0.00      0.00      0.00         3\n",
      "           6       0.68      0.59      0.63        22\n",
      "           7       0.55      0.30      0.39        20\n",
      "           8       0.60      0.83      0.70       145\n",
      "           9       0.32      0.12      0.18        74\n",
      "          10       0.38      0.54      0.45        61\n",
      "          11       0.00      0.00      0.00        20\n",
      "          12       0.00      0.00      0.00         7\n",
      "\n",
      "    accuracy                           0.52       357\n",
      "   macro avg       0.35      0.31      0.32       357\n",
      "weighted avg       0.46      0.52      0.47       357\n",
      "\n"
     ]
    },
    {
     "name": "stderr",
     "output_type": "stream",
     "text": [
      "C:\\Users\\Ahmed\\AppData\\Local\\Programs\\Python\\Python39\\lib\\site-packages\\sklearn\\metrics\\_classification.py:1327: UndefinedMetricWarning: Precision and F-score are ill-defined and being set to 0.0 in labels with no predicted samples. Use `zero_division` parameter to control this behavior.\n",
      "  _warn_prf(average, modifier, msg_start, len(result))\n",
      "C:\\Users\\Ahmed\\AppData\\Local\\Programs\\Python\\Python39\\lib\\site-packages\\sklearn\\metrics\\_classification.py:1327: UndefinedMetricWarning: Precision and F-score are ill-defined and being set to 0.0 in labels with no predicted samples. Use `zero_division` parameter to control this behavior.\n",
      "  _warn_prf(average, modifier, msg_start, len(result))\n",
      "C:\\Users\\Ahmed\\AppData\\Local\\Programs\\Python\\Python39\\lib\\site-packages\\sklearn\\metrics\\_classification.py:1327: UndefinedMetricWarning: Precision and F-score are ill-defined and being set to 0.0 in labels with no predicted samples. Use `zero_division` parameter to control this behavior.\n",
      "  _warn_prf(average, modifier, msg_start, len(result))\n"
     ]
    }
   ],
   "source": [
    "x = df.iloc[:, 1:len(df.columns)-1]\n",
    "y = df.iloc[:, [len(df.columns)-1]]\n",
    "\n",
    "x_train, x_test, y_train, y_test = train_test_split(x, y, test_size=0.2)\n",
    "\n",
    "c_tree = DecisionTreeClassifier(max_depth=4)\n",
    "c_tree.fit(x_train, y_train)\n",
    "\n",
    "predicted = list(c_tree.predict(x_test))\n",
    "gold = list(y_test.loc[:, \"outcome\"])\n",
    "print(classification_report(gold,predicted))"
   ]
  },
  {
   "cell_type": "code",
   "execution_count": 7,
   "metadata": {
    "pycharm": {
     "name": "#%%\n"
    }
   },
   "outputs": [
    {
     "data": {
      "text/plain": "          outcome\n0.064309        8\n0.082237        8\n0.085995       10\n0.049505        8\n0.067568        9\n...           ...\n0.092652        8\n0.077731       12\n0.083507        9\n0.072555        8\n0.053991       10\n\n[1426 rows x 1 columns]",
      "text/html": "<div>\n<style scoped>\n    .dataframe tbody tr th:only-of-type {\n        vertical-align: middle;\n    }\n\n    .dataframe tbody tr th {\n        vertical-align: top;\n    }\n\n    .dataframe thead th {\n        text-align: right;\n    }\n</style>\n<table border=\"1\" class=\"dataframe\">\n  <thead>\n    <tr style=\"text-align: right;\">\n      <th></th>\n      <th>outcome</th>\n    </tr>\n  </thead>\n  <tbody>\n    <tr>\n      <th>0.064309</th>\n      <td>8</td>\n    </tr>\n    <tr>\n      <th>0.082237</th>\n      <td>8</td>\n    </tr>\n    <tr>\n      <th>0.085995</th>\n      <td>10</td>\n    </tr>\n    <tr>\n      <th>0.049505</th>\n      <td>8</td>\n    </tr>\n    <tr>\n      <th>0.067568</th>\n      <td>9</td>\n    </tr>\n    <tr>\n      <th>...</th>\n      <td>...</td>\n    </tr>\n    <tr>\n      <th>0.092652</th>\n      <td>8</td>\n    </tr>\n    <tr>\n      <th>0.077731</th>\n      <td>12</td>\n    </tr>\n    <tr>\n      <th>0.083507</th>\n      <td>9</td>\n    </tr>\n    <tr>\n      <th>0.072555</th>\n      <td>8</td>\n    </tr>\n    <tr>\n      <th>0.053991</th>\n      <td>10</td>\n    </tr>\n  </tbody>\n</table>\n<p>1426 rows × 1 columns</p>\n</div>"
     },
     "execution_count": 7,
     "metadata": {},
     "output_type": "execute_result"
    }
   ],
   "source": [
    "y_train"
   ]
  },
  {
   "cell_type": "markdown",
   "metadata": {
    "pycharm": {
     "name": "#%% md\n"
    }
   },
   "source": [
    "<div class=\"task_description\">\n",
    "    <i class=\"task\">Task 7.3:</i> <br>\n",
    "</div>\n",
    "The following code reads the essays from the first prompt of the ASAP dataset and their corresponding scores."
   ]
  },
  {
   "cell_type": "code",
   "execution_count": 8,
   "metadata": {
    "pycharm": {
     "name": "#%%\n"
    }
   },
   "outputs": [],
   "source": [
    "df = pd.read_csv('data/prompt1.tsv', sep='\\t')\n",
    "essays = df['text']\n",
    "y = df['score1'].values\n",
    "\n",
    "# Essays are randomly split into 75% training data and 25% test data\n",
    "essays_train, essays_test, y_train, y_test = train_test_split(essays, y, test_size=0.25, random_state=1000)"
   ]
  },
  {
   "cell_type": "markdown",
   "metadata": {
    "pycharm": {
     "name": "#%% md\n"
    }
   },
   "source": [
    "We convert the texts into a matrix of token counts based on the words in the training data. <br>\n",
    "This is a vector that counts for each word in the train data how often it occurs in an essay:"
   ]
  },
  {
   "cell_type": "code",
   "execution_count": 9,
   "metadata": {
    "pycharm": {
     "name": "#%%\n"
    }
   },
   "outputs": [],
   "source": [
    "vectorizer = CountVectorizer()\n",
    "vectorizer.fit(essays_train)\n",
    "X_train = vectorizer.transform(essays_train)\n",
    "X_test  = vectorizer.transform(essays_test)"
   ]
  },
  {
   "cell_type": "markdown",
   "metadata": {
    "pycharm": {
     "name": "#%% md\n"
    }
   },
   "source": [
    "<div class=\"task_description\">\n",
    "   <i class=\"subtask\">7.3.1</i> <i class=\"l2\">L2</i> <br>\n",
    "</div>\n",
    "\n",
    "Print the shape of the train and test data. <br> How many essays do we have? How many features does each essay have?"
   ]
  },
  {
   "cell_type": "markdown",
   "metadata": {
    "pycharm": {
     "name": "#%% md\n"
    }
   },
   "source": [
    "<strong style=\"color: blue\">Lösung: </strong>"
   ]
  },
  {
   "cell_type": "code",
   "execution_count": 10,
   "metadata": {
    "scrolled": true,
    "pycharm": {
     "name": "#%%\n"
    }
   },
   "outputs": [
    {
     "name": "stdout",
     "output_type": "stream",
     "text": [
      "(1337, 13349)\n",
      "(446, 13349)\n"
     ]
    }
   ],
   "source": [
    "print(X_train.shape)\n",
    "print(X_test.shape)"
   ]
  },
  {
   "cell_type": "code",
   "execution_count": 14,
   "metadata": {
    "scrolled": true,
    "pycharm": {
     "name": "#%%\n"
    }
   },
   "outputs": [
    {
     "data": {
      "text/plain": "<1337x13349 sparse matrix of type '<class 'numpy.int64'>'\n\twith 221085 stored elements in Compressed Sparse Row format>"
     },
     "execution_count": 14,
     "metadata": {},
     "output_type": "execute_result"
    }
   ],
   "source": [
    "X_train"
   ]
  },
  {
   "cell_type": "code",
   "execution_count": 13,
   "metadata": {
    "pycharm": {
     "name": "#%%\n"
    }
   },
   "outputs": [],
   "source": [
    "vectorizer2 = CountVectorizer(analyzer='word', ngram_range=(2, 2))"
   ]
  },
  {
   "cell_type": "code",
   "execution_count": 14,
   "metadata": {
    "pycharm": {
     "name": "#%%\n"
    }
   },
   "outputs": [],
   "source": [
    "X2 = vectorizer2.fit_transform(essays_train)"
   ]
  },
  {
   "cell_type": "code",
   "execution_count": 15,
   "metadata": {
    "pycharm": {
     "name": "#%%\n"
    }
   },
   "outputs": [
    {
     "data": {
      "text/plain": [
       "array(['000 calories', '000 dollar', '00pm if', ..., 'zoo thus',\n",
       "       'zoom all', 'zoom in'], dtype=object)"
      ]
     },
     "execution_count": 15,
     "metadata": {},
     "output_type": "execute_result"
    }
   ],
   "source": [
    "vectorizer2.get_feature_names_out()"
   ]
  },
  {
   "cell_type": "code",
   "execution_count": 17,
   "metadata": {
    "pycharm": {
     "name": "#%%\n"
    }
   },
   "outputs": [
    {
     "name": "stdout",
     "output_type": "stream",
     "text": [
      "<class 'scipy.sparse._csr.csr_matrix'>\n"
     ]
    }
   ],
   "source": [
    "print(type(X2))"
   ]
  },
  {
   "cell_type": "markdown",
   "metadata": {
    "pycharm": {
     "name": "#%% md\n"
    }
   },
   "source": [
    "1337 training essays, 446 test essays, 13349 features"
   ]
  },
  {
   "cell_type": "markdown",
   "metadata": {
    "pycharm": {
     "name": "#%% md\n"
    }
   },
   "source": [
    "First we use a standard shallow learning classifier on these features"
   ]
  },
  {
   "cell_type": "code",
   "execution_count": 28,
   "metadata": {
    "pycharm": {
     "name": "#%%\n"
    }
   },
   "outputs": [
    {
     "name": "stdout",
     "output_type": "stream",
     "text": [
      "Accuracy: 0.5\n"
     ]
    },
    {
     "name": "stderr",
     "output_type": "stream",
     "text": [
      "C:\\Users\\Ahmed\\AppData\\Local\\Programs\\Python\\Python39\\lib\\site-packages\\sklearn\\linear_model\\_logistic.py:444: ConvergenceWarning: lbfgs failed to converge (status=1):\n",
      "STOP: TOTAL NO. of ITERATIONS REACHED LIMIT.\n",
      "\n",
      "Increase the number of iterations (max_iter) or scale the data as shown in:\n",
      "    https://scikit-learn.org/stable/modules/preprocessing.html\n",
      "Please also refer to the documentation for alternative solver options:\n",
      "    https://scikit-learn.org/stable/modules/linear_model.html#logistic-regression\n",
      "  n_iter_i = _check_optimize_result(\n"
     ]
    }
   ],
   "source": [
    "classifier = LogisticRegression()\n",
    "classifier.fit(X_train, y_train)\n",
    "score = classifier.score(X_test, y_test)\n",
    "pred = classifier.predict(X_test)\n",
    "print(\"Accuracy:\", score)"
   ]
  },
  {
   "cell_type": "markdown",
   "metadata": {
    "pycharm": {
     "name": "#%% md\n"
    }
   },
   "source": [
    "We also print a confusion matrix, with the lines being the true labels:"
   ]
  },
  {
   "cell_type": "code",
   "execution_count": 29,
   "metadata": {
    "pycharm": {
     "name": "#%%\n"
    }
   },
   "outputs": [
    {
     "name": "stdout",
     "output_type": "stream",
     "text": [
      "[[  1   0   2   0   0   0]\n",
      " [  0   1   7   1   0   0]\n",
      " [  0   1  13  27   2   1]\n",
      " [  0   1  17 151  51   3]\n",
      " [  0   0   2  65  55  15]\n",
      " [  0   0   0  11  17   2]]\n"
     ]
    }
   ],
   "source": [
    "print(confusion_matrix(y_test, pred))"
   ]
  },
  {
   "cell_type": "markdown",
   "metadata": {
    "pycharm": {
     "name": "#%% md\n"
    }
   },
   "source": [
    "Now we build our first neural model. <br> We add two layers after the input: the first one with 10 nodes, the second one with 6 nodes, one per possible class. We print the summary of the model."
   ]
  },
  {
   "cell_type": "code",
   "execution_count": 13,
   "metadata": {
    "pycharm": {
     "name": "#%%\n"
    }
   },
   "outputs": [
    {
     "name": "stdout",
     "output_type": "stream",
     "text": [
      "Model: \"sequential\"\n",
      "_________________________________________________________________\n",
      " Layer (type)                Output Shape              Param #   \n",
      "=================================================================\n",
      " dense (Dense)               (None, 10)                133500    \n",
      "                                                                 \n",
      " dense_1 (Dense)             (None, 6)                 66        \n",
      "                                                                 \n",
      "=================================================================\n",
      "Total params: 133,566\n",
      "Trainable params: 133,566\n",
      "Non-trainable params: 0\n",
      "_________________________________________________________________\n"
     ]
    }
   ],
   "source": [
    "model = Sequential()\n",
    "input_dim = X_train.shape[1]\n",
    "model.add(layers.Dense(10, input_dim=input_dim, activation='relu'))\n",
    "model.add(layers.Dense(6, activation='softmax'))\n",
    "model.compile(loss='categorical_crossentropy', \n",
    "               optimizer='adam', \n",
    "               metrics=['accuracy'])\n",
    "model.summary()"
   ]
  },
  {
   "cell_type": "markdown",
   "metadata": {
    "pycharm": {
     "name": "#%% md\n"
    }
   },
   "source": [
    "We transform the output value to vectors, instead of '3' We would like to have '[0,0,1,0,0,0]'"
   ]
  },
  {
   "cell_type": "code",
   "execution_count": 14,
   "metadata": {
    "pycharm": {
     "name": "#%%\n"
    }
   },
   "outputs": [],
   "source": [
    "y_test_orig = y_test\n",
    "y_train = np.interp(y_train, (1, 6), (0, 5))\n",
    "y_test = np.interp(y_test, (1, 6), (0, 5))\n",
    "y_train = np_utils.to_categorical(y_train)\n",
    "y_test = np_utils.to_categorical(y_test)"
   ]
  },
  {
   "cell_type": "markdown",
   "metadata": {
    "pycharm": {
     "name": "#%% md\n"
    }
   },
   "source": [
    "Now we do the actual training, we train 10 times on the training data."
   ]
  },
  {
   "cell_type": "code",
   "execution_count": 15,
   "metadata": {
    "pycharm": {
     "name": "#%%\n"
    }
   },
   "outputs": [
    {
     "name": "stdout",
     "output_type": "stream",
     "text": [
      "Epoch 1/10\n"
     ]
    },
    {
     "name": "stderr",
     "output_type": "stream",
     "text": [
      "C:\\Users\\Ahmed\\AppData\\Local\\Programs\\Python\\Python39\\lib\\site-packages\\tensorflow\\python\\framework\\indexed_slices.py:444: UserWarning: Converting sparse IndexedSlices(IndexedSlices(indices=Tensor(\"gradient_tape/sequential/dense/embedding_lookup_sparse/Reshape_1:0\", shape=(None,), dtype=int32), values=Tensor(\"gradient_tape/sequential/dense/embedding_lookup_sparse/Reshape:0\", shape=(None, 10), dtype=float32), dense_shape=Tensor(\"gradient_tape/sequential/dense/embedding_lookup_sparse/Cast:0\", shape=(2,), dtype=int32))) to a dense Tensor of unknown shape. This may consume a large amount of memory.\n",
      "  warnings.warn(\n"
     ]
    },
    {
     "name": "stdout",
     "output_type": "stream",
     "text": [
      "134/134 [==============================] - 1s 3ms/step - loss: 1.2423 - accuracy: 0.5093 - val_loss: 1.1892 - val_accuracy: 0.5045\n",
      "Epoch 2/10\n",
      "134/134 [==============================] - 0s 2ms/step - loss: 0.9876 - accuracy: 0.6485 - val_loss: 1.1806 - val_accuracy: 0.5090\n",
      "Epoch 3/10\n",
      "134/134 [==============================] - 0s 3ms/step - loss: 0.7507 - accuracy: 0.7382 - val_loss: 1.1224 - val_accuracy: 0.5022\n",
      "Epoch 4/10\n",
      "134/134 [==============================] - 0s 2ms/step - loss: 0.4848 - accuracy: 0.8654 - val_loss: 1.1891 - val_accuracy: 0.5045\n",
      "Epoch 5/10\n",
      "134/134 [==============================] - 0s 2ms/step - loss: 0.3122 - accuracy: 0.9349 - val_loss: 1.2349 - val_accuracy: 0.5067\n",
      "Epoch 6/10\n",
      "134/134 [==============================] - 0s 2ms/step - loss: 0.2010 - accuracy: 0.9596 - val_loss: 1.4318 - val_accuracy: 0.4955\n",
      "Epoch 7/10\n",
      "134/134 [==============================] - 0s 2ms/step - loss: 0.1343 - accuracy: 0.9716 - val_loss: 1.4672 - val_accuracy: 0.4596\n",
      "Epoch 8/10\n",
      "134/134 [==============================] - 0s 2ms/step - loss: 0.0935 - accuracy: 0.9813 - val_loss: 1.5481 - val_accuracy: 0.5000\n",
      "Epoch 9/10\n",
      "134/134 [==============================] - 0s 2ms/step - loss: 0.0646 - accuracy: 0.9880 - val_loss: 1.5928 - val_accuracy: 0.4709\n",
      "Epoch 10/10\n",
      "134/134 [==============================] - 0s 2ms/step - loss: 0.0462 - accuracy: 0.9910 - val_loss: 1.6505 - val_accuracy: 0.4821\n"
     ]
    },
    {
     "data": {
      "text/plain": [
       "<keras.callbacks.History at 0x24b7ccda5b0>"
      ]
     },
     "execution_count": 15,
     "metadata": {},
     "output_type": "execute_result"
    }
   ],
   "source": [
    "model.fit(X_train, y_train,\n",
    "                     epochs=10,\n",
    "                     verbose=True,\n",
    "                     validation_data=(X_test, y_test),\n",
    "                     batch_size=10)"
   ]
  },
  {
   "cell_type": "markdown",
   "metadata": {
    "pycharm": {
     "name": "#%% md\n"
    }
   },
   "source": [
    "We evaluate the loss on the training data and on the validation data."
   ]
  },
  {
   "cell_type": "code",
   "execution_count": 16,
   "metadata": {
    "pycharm": {
     "name": "#%%\n"
    }
   },
   "outputs": [
    {
     "name": "stdout",
     "output_type": "stream",
     "text": [
      "42/42 [==============================] - 0s 2ms/step - loss: 0.0375 - accuracy: 0.9933\n",
      "Training Accuracy: 0.9933\n",
      "14/14 [==============================] - 0s 2ms/step - loss: 1.6505 - accuracy: 0.4821\n",
      "Testing Accuracy:  0.4821\n"
     ]
    }
   ],
   "source": [
    "loss, accuracy = model.evaluate(X_train, y_train, verbose=True)\n",
    "print(\"Training Accuracy: {:.4f}\".format(accuracy))\n",
    "loss, accuracy = model.evaluate(X_test, y_test, verbose=True)\n",
    "print(\"Testing Accuracy:  {:.4f}\".format(accuracy))"
   ]
  },
  {
   "cell_type": "markdown",
   "metadata": {
    "pycharm": {
     "name": "#%% md\n"
    }
   },
   "source": [
    "<div class=\"task_description\">\n",
    "   <i class=\"subtask\">7.3.2</i> <i class=\"l1\">L1</i> <br>\n",
    "</div>\n",
    "\n",
    "Observe how the performance develops. Can you explain what is going on here?"
   ]
  },
  {
   "cell_type": "markdown",
   "metadata": {
    "pycharm": {
     "name": "#%% md\n"
    }
   },
   "source": [
    "<strong style=\"color: blue\">Lösung: </strong>\n",
    "\n",
    "We overfit on the training data, i.e. our training performance gets better, but we fit so specifically on the training data, that our performance on the test data does not improve anymore."
   ]
  },
  {
   "cell_type": "markdown",
   "metadata": {
    "pycharm": {
     "name": "#%% md\n"
    }
   },
   "source": [
    "___\n",
    "We now get the predictions on the test data and compute a confusion matrix."
   ]
  },
  {
   "cell_type": "code",
   "execution_count": 17,
   "metadata": {
    "pycharm": {
     "name": "#%%\n"
    }
   },
   "outputs": [
    {
     "name": "stdout",
     "output_type": "stream",
     "text": [
      "14/14 [==============================] - 0s 1ms/step\n",
      "[[  0   0   3   0   0   0]\n",
      " [  0   0   5   4   0   0]\n",
      " [  0   0   9  33   2   0]\n",
      " [  0   0  15 160  46   2]\n",
      " [  0   0   2  84  46   5]\n",
      " [  0   0   0  15  15   0]]\n"
     ]
    }
   ],
   "source": [
    "pred = model.predict(X_test)\n",
    "predarray = []\n",
    "for p in pred:\n",
    "    predarray.append(p.argmax()+1)\n",
    "print(confusion_matrix(y_test_orig, predarray))"
   ]
  },
  {
   "cell_type": "markdown",
   "metadata": {
    "pycharm": {
     "name": "#%% md\n"
    }
   },
   "source": [
    "In the first net, we represented each essays with an feature vector of fixed length, a BOW model. <br>\n",
    "Now we represent our input as a sequence of tokens, each token is represented by its index."
   ]
  },
  {
   "cell_type": "code",
   "execution_count": 18,
   "metadata": {
    "pycharm": {
     "name": "#%%\n"
    }
   },
   "outputs": [],
   "source": [
    "tokenizer = Tokenizer()\n",
    "tokenizer.fit_on_texts(essays_train)\n",
    "\n",
    "X_train = tokenizer.texts_to_sequences(essays_train)\n",
    "X_test = tokenizer.texts_to_sequences(essays_test)\n",
    "\n",
    "vocab_size = len(tokenizer.word_index) + 1  # Adding 1 because of reserved 0 index                                                                                                   "
   ]
  },
  {
   "cell_type": "markdown",
   "metadata": {
    "pycharm": {
     "name": "#%% md\n"
    }
   },
   "source": [
    "With CountVectorizer, we had stacked vectors of word counts, and each vector was the same length (the size of the total corpus vocabulary). With Tokenizer, the resulting vectors equal the length of each text, and the numbers don’t denote counts, but rather correspond to the word values from the dictionary tokenizer.word_index.\n",
    " <br> <br>\n",
    " ___\n",
    " We consider only the first 500 words per essay, if there are less words, we pad the remaining words with 0s.\n",
    "\n",
    "\n"
   ]
  },
  {
   "cell_type": "code",
   "execution_count": 19,
   "metadata": {
    "pycharm": {
     "name": "#%%\n"
    }
   },
   "outputs": [
    {
     "name": "stdout",
     "output_type": "stream",
     "text": [
      "Model: \"sequential_1\"\n",
      "_________________________________________________________________\n",
      " Layer (type)                Output Shape              Param #   \n",
      "=================================================================\n",
      " embedding (Embedding)       (None, 500, 50)           689750    \n",
      "                                                                 \n",
      " flatten (Flatten)           (None, 25000)             0         \n",
      "                                                                 \n",
      " dense_2 (Dense)             (None, 10)                250010    \n",
      "                                                                 \n",
      " dense_3 (Dense)             (None, 6)                 66        \n",
      "                                                                 \n",
      "=================================================================\n",
      "Total params: 939,826\n",
      "Trainable params: 939,826\n",
      "Non-trainable params: 0\n",
      "_________________________________________________________________\n",
      "Epoch 1/20\n",
      "134/134 [==============================] - 2s 13ms/step - loss: 0.9819 - accuracy: 0.6253 - val_loss: 0.8684 - val_accuracy: 0.6143\n",
      "Epoch 2/20\n",
      "134/134 [==============================] - 2s 12ms/step - loss: 0.4954 - accuracy: 0.8422 - val_loss: 0.8643 - val_accuracy: 0.6166\n",
      "Epoch 3/20\n",
      "134/134 [==============================] - 2s 12ms/step - loss: 0.1146 - accuracy: 0.9746 - val_loss: 0.8969 - val_accuracy: 0.6390\n",
      "Epoch 4/20\n",
      "134/134 [==============================] - 2s 12ms/step - loss: 0.0511 - accuracy: 0.9813 - val_loss: 0.9840 - val_accuracy: 0.6345\n",
      "Epoch 5/20\n",
      "134/134 [==============================] - 2s 12ms/step - loss: 0.0396 - accuracy: 0.9835 - val_loss: 1.0444 - val_accuracy: 0.6390\n",
      "Epoch 6/20\n",
      "134/134 [==============================] - 2s 12ms/step - loss: 0.0270 - accuracy: 0.9925 - val_loss: 1.0990 - val_accuracy: 0.6457\n",
      "Epoch 7/20\n",
      "134/134 [==============================] - 2s 12ms/step - loss: 0.0175 - accuracy: 0.9948 - val_loss: 1.0993 - val_accuracy: 0.6457\n",
      "Epoch 8/20\n",
      "134/134 [==============================] - 2s 12ms/step - loss: 0.0134 - accuracy: 0.9948 - val_loss: 1.1187 - val_accuracy: 0.6480\n",
      "Epoch 9/20\n",
      "134/134 [==============================] - 2s 13ms/step - loss: 0.0115 - accuracy: 0.9948 - val_loss: 1.1603 - val_accuracy: 0.6457\n",
      "Epoch 10/20\n",
      "134/134 [==============================] - 2s 12ms/step - loss: 0.0107 - accuracy: 0.9948 - val_loss: 1.1746 - val_accuracy: 0.6457\n",
      "Epoch 11/20\n",
      "134/134 [==============================] - 2s 11ms/step - loss: 0.0099 - accuracy: 0.9948 - val_loss: 1.1867 - val_accuracy: 0.6480\n",
      "Epoch 12/20\n",
      "134/134 [==============================] - 2s 12ms/step - loss: 0.0092 - accuracy: 0.9948 - val_loss: 1.2159 - val_accuracy: 0.6502\n",
      "Epoch 13/20\n",
      "134/134 [==============================] - 2s 12ms/step - loss: 0.0080 - accuracy: 1.0000 - val_loss: 1.2349 - val_accuracy: 0.6502\n",
      "Epoch 14/20\n",
      "134/134 [==============================] - 2s 12ms/step - loss: 0.0059 - accuracy: 1.0000 - val_loss: 1.2543 - val_accuracy: 0.6502\n",
      "Epoch 15/20\n",
      "134/134 [==============================] - 2s 13ms/step - loss: 0.0029 - accuracy: 1.0000 - val_loss: 1.2938 - val_accuracy: 0.6413\n",
      "Epoch 16/20\n",
      "134/134 [==============================] - 2s 12ms/step - loss: 0.0012 - accuracy: 1.0000 - val_loss: 1.2994 - val_accuracy: 0.6390\n",
      "Epoch 17/20\n",
      "134/134 [==============================] - 2s 12ms/step - loss: 7.5410e-04 - accuracy: 1.0000 - val_loss: 1.3221 - val_accuracy: 0.6413\n",
      "Epoch 18/20\n",
      "134/134 [==============================] - 2s 12ms/step - loss: 5.4601e-04 - accuracy: 1.0000 - val_loss: 1.3399 - val_accuracy: 0.6413\n",
      "Epoch 19/20\n",
      "134/134 [==============================] - 2s 12ms/step - loss: 4.3216e-04 - accuracy: 1.0000 - val_loss: 1.3541 - val_accuracy: 0.6413\n",
      "Epoch 20/20\n",
      "134/134 [==============================] - 2s 12ms/step - loss: 3.4581e-04 - accuracy: 1.0000 - val_loss: 1.3531 - val_accuracy: 0.6390\n",
      "42/42 [==============================] - 0s 3ms/step - loss: 2.9478e-04 - accuracy: 1.0000\n",
      "Training Accuracy: 1.0000\n",
      "14/14 [==============================] - 0s 3ms/step - loss: 1.3531 - accuracy: 0.6390\n",
      "Testing Accuracy:  0.6390\n",
      "14/14 [==============================] - 0s 3ms/step\n",
      "[[  3   0   0   0   0   0]\n",
      " [  3   3   3   0   0   0]\n",
      " [  0   0  26  18   0   0]\n",
      " [  0   0   9 181  33   0]\n",
      " [  0   0   0  60  71   6]\n",
      " [  0   0   0   4  25   1]]\n"
     ]
    }
   ],
   "source": [
    "maxlen = 500\n",
    "X_train = pad_sequences(X_train, padding='post', maxlen=maxlen)\n",
    "X_test = pad_sequences(X_test, padding='post', maxlen=maxlen)\n",
    "\n",
    "embedding_dim = 50\n",
    "model2 = Sequential()\n",
    "model2.add(layers.Embedding(input_dim=vocab_size, \n",
    "                           output_dim=embedding_dim, \n",
    "                           input_length=maxlen))\n",
    "model2.add(layers.Flatten())\n",
    "model2.add(layers.Dense(10, activation='relu'))\n",
    "model2.add(layers.Dense(6, activation='softmax'))\n",
    "model2.compile(optimizer='adam',\n",
    "              loss='categorical_crossentropy',\n",
    "              metrics=['accuracy'])\n",
    "model2.summary()\n",
    "history = model2.fit(X_train, y_train,\n",
    "                    epochs=20,\n",
    "                    verbose=True,\n",
    "                    validation_data=(X_test, y_test),\n",
    "                    batch_size=10)\n",
    "loss, accuracy = model2.evaluate(X_train, y_train, verbose=True)\n",
    "print(\"Training Accuracy: {:.4f}\".format(accuracy))\n",
    "loss, accuracy = model2.evaluate(X_test, y_test, verbose=True)\n",
    "print(\"Testing Accuracy:  {:.4f}\".format(accuracy))\n",
    "\n",
    "pred = model2.predict(X_test)\n",
    "predarray = []\n",
    "for p in pred:\n",
    "    predarray.append(p.argmax()+1)\n",
    "print(confusion_matrix(y_test_orig, predarray))"
   ]
  },
  {
   "cell_type": "markdown",
   "metadata": {
    "pycharm": {
     "name": "#%% md\n"
    }
   },
   "source": [
    "In the following variant of the model, we use pretrained word-embeddings. <br>\n",
    "PS: Download the text file \"glove.6B.100d.txt\" from Moodle"
   ]
  },
  {
   "cell_type": "code",
   "execution_count": 20,
   "metadata": {
    "pycharm": {
     "name": "#%%\n"
    }
   },
   "outputs": [
    {
     "ename": "FileNotFoundError",
     "evalue": "[Errno 2] No such file or directory: 'glove.6B.100d.txt'",
     "output_type": "error",
     "traceback": [
      "\u001B[1;31m---------------------------------------------------------------------------\u001B[0m",
      "\u001B[1;31mFileNotFoundError\u001B[0m                         Traceback (most recent call last)",
      "Input \u001B[1;32mIn [20]\u001B[0m, in \u001B[0;36m<cell line: 16>\u001B[1;34m()\u001B[0m\n\u001B[0;32m     12\u001B[0m     \u001B[38;5;28;01mreturn\u001B[39;00m embedding_matrix\n\u001B[0;32m     15\u001B[0m embedding_dim \u001B[38;5;241m=\u001B[39m \u001B[38;5;241m100\u001B[39m\n\u001B[1;32m---> 16\u001B[0m embedding_matrix \u001B[38;5;241m=\u001B[39m \u001B[43mcreate_embedding_matrix\u001B[49m\u001B[43m(\u001B[49m\n\u001B[0;32m     17\u001B[0m \u001B[43m     \u001B[49m\u001B[38;5;124;43m'\u001B[39;49m\u001B[38;5;124;43mglove.6B.100d.txt\u001B[39;49m\u001B[38;5;124;43m'\u001B[39;49m\u001B[43m,\u001B[49m\n\u001B[0;32m     18\u001B[0m \u001B[43m     \u001B[49m\u001B[43mtokenizer\u001B[49m\u001B[38;5;241;43m.\u001B[39;49m\u001B[43mword_index\u001B[49m\u001B[43m,\u001B[49m\u001B[43m \u001B[49m\u001B[43membedding_dim\u001B[49m\u001B[43m)\u001B[49m\n\u001B[0;32m     21\u001B[0m model3 \u001B[38;5;241m=\u001B[39m Sequential()\n\u001B[0;32m     22\u001B[0m model3\u001B[38;5;241m.\u001B[39madd(layers\u001B[38;5;241m.\u001B[39mEmbedding(vocab_size, embedding_dim, \n\u001B[0;32m     23\u001B[0m                            weights\u001B[38;5;241m=\u001B[39m[embedding_matrix], \n\u001B[0;32m     24\u001B[0m                            input_length\u001B[38;5;241m=\u001B[39mmaxlen, \n\u001B[0;32m     25\u001B[0m                            trainable\u001B[38;5;241m=\u001B[39m\u001B[38;5;28;01mTrue\u001B[39;00m))\n",
      "Input \u001B[1;32mIn [20]\u001B[0m, in \u001B[0;36mcreate_embedding_matrix\u001B[1;34m(filepath, word_index, embedding_dim)\u001B[0m\n\u001B[0;32m      2\u001B[0m vocab_size \u001B[38;5;241m=\u001B[39m \u001B[38;5;28mlen\u001B[39m(word_index) \u001B[38;5;241m+\u001B[39m \u001B[38;5;241m1\u001B[39m  \u001B[38;5;66;03m# Adding again 1 because of reserved 0 index\u001B[39;00m\n\u001B[0;32m      3\u001B[0m embedding_matrix \u001B[38;5;241m=\u001B[39m np\u001B[38;5;241m.\u001B[39mzeros((vocab_size, embedding_dim))\n\u001B[1;32m----> 5\u001B[0m \u001B[38;5;28;01mwith\u001B[39;00m \u001B[38;5;28;43mopen\u001B[39;49m\u001B[43m(\u001B[49m\u001B[43mfilepath\u001B[49m\u001B[43m)\u001B[49m \u001B[38;5;28;01mas\u001B[39;00m f:\n\u001B[0;32m      6\u001B[0m     \u001B[38;5;28;01mfor\u001B[39;00m line \u001B[38;5;129;01min\u001B[39;00m f:\n\u001B[0;32m      7\u001B[0m         word, \u001B[38;5;241m*\u001B[39mvector \u001B[38;5;241m=\u001B[39m line\u001B[38;5;241m.\u001B[39msplit()\n",
      "\u001B[1;31mFileNotFoundError\u001B[0m: [Errno 2] No such file or directory: 'glove.6B.100d.txt'"
     ]
    }
   ],
   "source": [
    "def create_embedding_matrix(filepath, word_index, embedding_dim):\n",
    "    vocab_size = len(word_index) + 1  # Adding again 1 because of reserved 0 index\n",
    "    embedding_matrix = np.zeros((vocab_size, embedding_dim))\n",
    "\n",
    "    with open(filepath) as f:\n",
    "        for line in f:\n",
    "            word, *vector = line.split()\n",
    "            if word in word_index:\n",
    "                idx = word_index[word] \n",
    "                embedding_matrix[idx] = np.array(\n",
    "                    vector, dtype=np.float32)[:embedding_dim]\n",
    "    return embedding_matrix\n",
    "\n",
    "\n",
    "embedding_dim = 100\n",
    "embedding_matrix = create_embedding_matrix(\n",
    "     'glove.6B.100d.txt',\n",
    "     tokenizer.word_index, embedding_dim)\n",
    "\n",
    "\n",
    "model3 = Sequential()\n",
    "model3.add(layers.Embedding(vocab_size, embedding_dim, \n",
    "                           weights=[embedding_matrix], \n",
    "                           input_length=maxlen, \n",
    "                           trainable=True))\n",
    "model3.add(layers.Flatten())\n",
    "model3.add(layers.Dense(10, activation='relu'))\n",
    "model3.add(layers.Dense(6, activation='softmax'))\n",
    "model3.compile(optimizer='adam',\n",
    "              loss='categorical_crossentropy',\n",
    "              metrics=['accuracy'])\n",
    "model3.summary()\n",
    "history = model3.fit(X_train, y_train,\n",
    "                    epochs=20,\n",
    "                    verbose=True,\n",
    "                    validation_data=(X_test, y_test),\n",
    "                    batch_size=10)\n",
    "loss, accuracy = model3.evaluate(X_train, y_train, verbose=True)\n",
    "print(\"Training Accuracy: {:.4f}\".format(accuracy))\n",
    "loss, accuracy = model3.evaluate(X_test, y_test, verbose=True)\n",
    "print(\"Testing Accuracy:  {:.4f}\".format(accuracy))\n",
    "\n",
    "pred = model3.predict(X_test)\n",
    "predarray = []\n",
    "for p in pred:\n",
    "    predarray.append(p.argmax()+1)\n",
    "print(confusion_matrix(y_test_orig, predarray))"
   ]
  },
  {
   "cell_type": "markdown",
   "metadata": {
    "pycharm": {
     "name": "#%% md\n"
    }
   },
   "source": [
    "<div class=\"task_description\">\n",
    "   <i class=\"subtask\">7.3.3</i> <i class=\"l2\">L2</i> <br>\n",
    "</div>\n",
    "\n",
    "Try to play with some of the parameters: Should we use longer or shorter essays lengths? A different number of hidden units? An additional hidden layer?"
   ]
  },
  {
   "cell_type": "markdown",
   "metadata": {
    "pycharm": {
     "name": "#%% md\n"
    }
   },
   "source": [
    "## Overall evaluation"
   ]
  },
  {
   "cell_type": "markdown",
   "metadata": {
    "pycharm": {
     "name": "#%% md\n"
    }
   },
   "source": [
    "<div class=\"task_description\">\n",
    "    <i class=\"task\">Task 7.4:</i>  <br>\n",
    "</div>\n",
    "\n",
    "The following code computes linearly and quadratically weighted kappa (Set weight to „linear“ or „quadratic“)."
   ]
  },
  {
   "cell_type": "code",
   "execution_count": 21,
   "metadata": {
    "pycharm": {
     "name": "#%%\n"
    }
   },
   "outputs": [
    {
     "ename": "NameError",
     "evalue": "name 'y1' is not defined",
     "output_type": "error",
     "traceback": [
      "\u001B[1;31m---------------------------------------------------------------------------\u001B[0m",
      "\u001B[1;31mNameError\u001B[0m                                 Traceback (most recent call last)",
      "Input \u001B[1;32mIn [21]\u001B[0m, in \u001B[0;36m<cell line: 1>\u001B[1;34m()\u001B[0m\n\u001B[1;32m----> 1\u001B[0m cohen_kappa_score(\u001B[43my1\u001B[49m, y2, labels\u001B[38;5;241m=\u001B[39m\u001B[38;5;28;01mNone\u001B[39;00m, weights\u001B[38;5;241m=\u001B[39m\u001B[38;5;28;01mNone\u001B[39;00m, sample_weight\u001B[38;5;241m=\u001B[39m\u001B[38;5;28;01mNone\u001B[39;00m)\n",
      "\u001B[1;31mNameError\u001B[0m: name 'y1' is not defined"
     ]
    }
   ],
   "source": [
    "cohen_kappa_score(y1, y2, labels=None, weights=None, sample_weight=None) "
   ]
  },
  {
   "cell_type": "markdown",
   "metadata": {
    "pycharm": {
     "name": "#%% md\n"
    }
   },
   "source": [
    "Given is the following confusion matrix. Lines are true values. "
   ]
  },
  {
   "cell_type": "code",
   "execution_count": null,
   "metadata": {
    "pycharm": {
     "name": "#%%\n"
    }
   },
   "outputs": [],
   "source": [
    "array=[[20, 5, 10],[15, 20, 5],[10, 20, 10]]\n",
    "df_cm = pd.DataFrame(array, index = [i for i in \"012\"],\n",
    "                     columns = [i for i in \"012\"])\n",
    "plt.figure(figsize = (4,3))\n",
    "sns.heatmap(df_cm, annot=True,cmap=\"Blues\")"
   ]
  },
  {
   "cell_type": "markdown",
   "metadata": {
    "pycharm": {
     "name": "#%% md\n"
    }
   },
   "source": [
    "<div class=\"task_description\">\n",
    "   <i class=\"subtask\">7.4.1</i> <i class=\"l1\">L1</i> <br>\n",
    "</div>\n",
    "\n",
    "Compute the accuracy and the kappa for the confusion matrix above."
   ]
  },
  {
   "cell_type": "markdown",
   "metadata": {
    "pycharm": {
     "name": "#%% md\n"
    }
   },
   "source": [
    "<strong style=\"color: blue\">Lösung: </strong>"
   ]
  },
  {
   "cell_type": "code",
   "execution_count": null,
   "metadata": {
    "pycharm": {
     "name": "#%%\n"
    }
   },
   "outputs": [],
   "source": [
    "gold0 = [0] * 35 + [1] * 40 + [2] * 40\n",
    "pred0 = [0] * 20 + [1] * 5 + [2] * 10 + [0] * 15 + [1] * 20 + [2] * 5 + [0] * 10 + [1] * 20 + [2] * 10\n",
    "\n",
    "print(confusion_matrix(gold0, pred0))\n",
    "print(\"Accuracy: \", accuracy_score(gold0, pred0, normalize=True, sample_weight=None))\n",
    "print(\"Kappa: \", cohen_kappa_score(gold0, pred0, weights='quadratic'))"
   ]
  },
  {
   "cell_type": "markdown",
   "metadata": {
    "pycharm": {
     "name": "#%% md\n"
    }
   },
   "source": [
    "<div class=\"task_description\">\n",
    "   <i class=\"subtask\">7.4.2</i> <i class=\"l1\">L1</i> <br>\n",
    "</div>\n",
    "Can you find a different confusion matrix, which has the same label distribution in the gold standard, the same accuracy, but a better QWK (Quadratic Weighted Kappa)?"
   ]
  },
  {
   "cell_type": "markdown",
   "metadata": {
    "pycharm": {
     "name": "#%% md\n"
    }
   },
   "source": [
    "<strong style=\"color: blue\">Lösung: </strong>"
   ]
  },
  {
   "cell_type": "code",
   "execution_count": null,
   "metadata": {
    "pycharm": {
     "name": "#%%\n"
    }
   },
   "outputs": [],
   "source": [
    "gold1 = [0] * 35 + [1] * 40 + [2] * 40\n",
    "pred1 = [0] * 20 + [1] * 5 + [2] * 10 + [0] * 15 + [1] * 20 + [2] * 5 + [0] * 0 + [1] * 30 + [2] * 10\n",
    "\n",
    "print(confusion_matrix(gold1, pred1))\n",
    "print(\"Accuracy: \",accuracy_score(gold1, pred1, normalize=True, sample_weight=None))\n",
    "print(\"Kappa: \",cohen_kappa_score(gold1, pred1, weights='quadratic'))"
   ]
  },
  {
   "cell_type": "markdown",
   "metadata": {
    "pycharm": {
     "name": "#%% md\n"
    }
   },
   "source": [
    "A better matrix has less entries in the extreme cases (0-2, 2-0) while having the same number of gold standard instances per class."
   ]
  },
  {
   "cell_type": "markdown",
   "metadata": {
    "pycharm": {
     "name": "#%% md\n"
    }
   },
   "source": [
    "<div class=\"task_description\">\n",
    "   <i class=\"subtask\">7.4.3</i> <i class=\"l1\">L1</i> <br>\n",
    "</div>\n",
    "\n",
    "Can you find one with a worse QWK? "
   ]
  },
  {
   "cell_type": "markdown",
   "metadata": {
    "pycharm": {
     "name": "#%% md\n"
    }
   },
   "source": [
    "<strong style=\"color: blue\">Lösung: </strong>"
   ]
  },
  {
   "cell_type": "code",
   "execution_count": null,
   "metadata": {
    "pycharm": {
     "name": "#%%\n"
    }
   },
   "outputs": [],
   "source": [
    "gold2 = [0] * 35 + [1] * 40 + [2] * 40\n",
    "pred2 = [0] * 20 + [1] * 0 + [2] * 15 + [0] * 15 + [1] * 20 + [2] * 5 + [0] * 10 + [1] * 20 + [2] * 10\n",
    "\n",
    "print(confusion_matrix(gold2, pred2))\n",
    "print(\"Accuracy: \",accuracy_score(gold2, pred2, normalize=True, sample_weight=None))\n",
    "print(\"Kappa: \",cohen_kappa_score(gold2, pred2, weights='quadratic'))"
   ]
  },
  {
   "cell_type": "markdown",
   "metadata": {
    "pycharm": {
     "name": "#%% md\n"
    }
   },
   "source": [
    "# Homework"
   ]
  },
  {
   "cell_type": "markdown",
   "metadata": {
    "pycharm": {
     "name": "#%% md\n"
    }
   },
   "source": [
    "<div class=\"task_description\">\n",
    "    <i class=\"task\">7.1.</i> :::10 Homework points:::\n",
    "</div>\n"
   ]
  },
  {
   "cell_type": "markdown",
   "metadata": {
    "pycharm": {
     "name": "#%% md\n"
    }
   },
   "source": [
    "The following code makes a one-hot feature vector out of an essay and classifies it. "
   ]
  },
  {
   "cell_type": "code",
   "execution_count": null,
   "metadata": {
    "pycharm": {
     "name": "#%%\n"
    }
   },
   "outputs": [],
   "source": [
    "my_essay = 'this is an example essay.'\n",
    "X_testing = tokenizer.texts_to_sequences([my_essay])\n",
    "X_testing = pad_sequences(X_testing, padding='post', maxlen=maxlen)\n",
    "print(model2.predict(X_testing).argmax()+1)"
   ]
  },
  {
   "cell_type": "markdown",
   "metadata": {
    "pycharm": {
     "name": "#%% md\n"
    }
   },
   "source": [
    "<div class=\"task_description\">\n",
    "   <i class=\"subtask\">7.1.1.</i> <br>\n",
    "</div>\n",
    "\n",
    "Try to write a text that gets very high scores and a text that receives very low scores."
   ]
  },
  {
   "cell_type": "markdown",
   "metadata": {
    "pycharm": {
     "name": "#%% md\n"
    }
   },
   "source": [
    "<div class=\"task_description\">\n",
    "   <i class=\"subtask\">7.1.2.</i> <br>\n",
    "</div>\n",
    "\n",
    "Can you write something that does not make sense to a human but still receives high scores?"
   ]
  },
  {
   "cell_type": "markdown",
   "metadata": {
    "pycharm": {
     "name": "#%% md\n"
    }
   },
   "source": [
    "<div class=\"task_description\">\n",
    "   <i class=\"subtask\">7.1.3.</i> <br>\n",
    "</div>\n",
    "\n",
    "Can you write something that should be correct and receives low scores?"
   ]
  },
  {
   "cell_type": "markdown",
   "metadata": {
    "pycharm": {
     "name": "#%% md\n"
    }
   },
   "source": [
    "____\n",
    "For each task, describe how you proceeded. <br><br><br>\n",
    "__Remember we are in prompt 1:__ <br>\n",
    "<br>*More and more people use computers, but not everyone agrees that this benefits society. Those who support advances in technology believe that computers have a positive effect on people. They teach hand-eye coordination, give people the ability to learn about faraway places and people, and even allow people to talk online with other people. Others have different ideas. Some experts are concerned that people are spending too much time on their computers and less time exercising, enjoying nature, and interacting with family and friends.*\n",
    "<br><br>\n",
    "*Write a letter to your local newspaper in which you state your opinion on the effects computers have on people. Persuade the readers to agree with you.*\n",
    "<br><br>\n",
    "You may have a look at the full scoring guidelines for this prompt."
   ]
  }
 ],
 "metadata": {
  "kernelspec": {
   "display_name": "Python 3 (ipykernel)",
   "language": "python",
   "name": "python3"
  },
  "language_info": {
   "codemirror_mode": {
    "name": "ipython",
    "version": 3
   },
   "file_extension": ".py",
   "mimetype": "text/x-python",
   "name": "python",
   "nbconvert_exporter": "python",
   "pygments_lexer": "ipython3",
   "version": "3.9.13"
  }
 },
 "nbformat": 4,
 "nbformat_minor": 2
}