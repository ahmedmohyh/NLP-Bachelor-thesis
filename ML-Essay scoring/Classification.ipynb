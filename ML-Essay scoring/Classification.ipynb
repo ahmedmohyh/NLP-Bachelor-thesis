{
 "cells": [
  {
   "cell_type": "markdown",
   "source": [
    "## Importing all necessary libararies"
   ],
   "metadata": {
    "collapsed": false,
    "pycharm": {
     "name": "#%% md\n"
    }
   }
  },
  {
   "cell_type": "code",
   "execution_count": 1,
   "outputs": [],
   "source": [
    "from sklearn.svm import SVC\n",
    "from sklearn.model_selection import train_test_split\n",
    "from sklearn.feature_extraction.text import CountVectorizer\n",
    "from sklearn.feature_extraction.text import TfidfVectorizer\n",
    "from sklearn.linear_model import LogisticRegression\n",
    "from sentence_transformers import SentenceTransformer\n",
    "from sklearn.metrics import cohen_kappa_score\n",
    "import pandas as pd\n",
    "from sklearn.preprocessing import StandardScaler\n",
    "from Utility.ThesisUtility import printResults,readTextFromFileName,appendClustersToVector"
   ],
   "metadata": {
    "collapsed": false,
    "pycharm": {
     "name": "#%%\n"
    }
   }
  },
  {
   "cell_type": "markdown",
   "source": [
    "### constants"
   ],
   "metadata": {
    "collapsed": false,
    "pycharm": {
     "name": "#%% md\n"
    }
   }
  },
  {
   "cell_type": "code",
   "execution_count": 2,
   "outputs": [],
   "source": [
    "# Set your path to all essays in the dataset for all prompts for all countriesl.\n",
    "allEssaysPath = \"../Dataset/Essays_all/ALLEssaysAllPrompts\"\n",
    "\n",
    "# the path to the excel file that contains the final resutls from the clustering experiment\n",
    "finalResultsPath =\"data/FinalResults.xlsx\"\n",
    "\n",
    "#Sbert model\n",
    "model = SentenceTransformer('all-mpnet-base-v2', device=\"cuda\")"
   ],
   "metadata": {
    "collapsed": false,
    "pycharm": {
     "name": "#%%\n"
    }
   }
  },
  {
   "cell_type": "markdown",
   "source": [
    "### Building the right file names and reading the files"
   ],
   "metadata": {
    "collapsed": false,
    "pycharm": {
     "name": "#%% md\n"
    }
   }
  },
  {
   "cell_type": "code",
   "execution_count": 3,
   "outputs": [],
   "source": [
    "#reading the gold standards file provided from the MEWS\n",
    "df = pd.read_csv(\"data/TRACE_Datensatz_transposed_220308.csv\", sep='\\t')\n",
    "y = df['Code1_IN_AR_Gesamteindruck_Argumentation_3_4_0']  # y is the gold standards\n",
    "\n",
    "listEssayNames = df['DocumentID']\n",
    "\n",
    "listEssayNames = [i.removeprefix(\"00\") for i in listEssayNames]\n",
    "\n",
    "listEssayNames = [i.replace(\"al\",\"aI\") for i in listEssayNames]\n",
    "\n",
    "#Building the complete filename from the provided csv sheet.\n",
    "listRightNames = []\n",
    "for essay in listEssayNames:\n",
    "    x = essay.split(\"X\")\n",
    "    temp = x[0]+\"_\"+x[1]+\".txt\"\n",
    "    listRightNames.append(temp)\n",
    "    #print(x)\n",
    "\n",
    "from pathlib import Path\n",
    "\n",
    "essays =[] # the final content of each essay.\n",
    "df_fileName = pd.DataFrame({})\n",
    "\n",
    "#Reading the content of the essay given its name\n",
    "for essayRigt in listRightNames:\n",
    "    my_file = Path(allEssaysPath, essayRigt)\n",
    "    if my_file.is_file():\n",
    "        text = my_file.read_text(encoding='utf-8-sig')\n",
    "        essays.append(text)"
   ],
   "metadata": {
    "collapsed": false,
    "pycharm": {
     "name": "#%%\n"
    }
   }
  },
  {
   "cell_type": "markdown",
   "source": [
    "### CountVectorizer Implementation"
   ],
   "metadata": {
    "collapsed": false,
    "pycharm": {
     "name": "#%% md\n"
    }
   }
  },
  {
   "cell_type": "code",
   "execution_count": null,
   "outputs": [],
   "source": [
    "essays_train, essays_test, y_train, y_test = train_test_split(essays, y, test_size=0.25, random_state=1000)\n",
    "\n",
    "# buildig the vectorizer model and transforming the essays\n",
    "vectorizer = CountVectorizer()\n",
    "vectorizer.fit_transform(essays_train)\n",
    "X_train = vectorizer.transform(essays_train)\n",
    "X_test  = vectorizer.transform(essays_test)\n",
    "\n",
    "#Trianing the classifier\n",
    "classifier = LogisticRegression(max_iter=100)\n",
    "classifier.fit(X_train, y_train)\n",
    "\n",
    "#Evaluation\n",
    "score1 = classifier.score(X_test, y_test)\n",
    "pred = classifier.predict(X_test)\n",
    "\n",
    "#print Evaluation results\n",
    "printResults(score1,y_test,pred)"
   ],
   "metadata": {
    "collapsed": false,
    "pycharm": {
     "name": "#%%\n",
     "is_executing": true
    }
   }
  },
  {
   "cell_type": "markdown",
   "source": [
    "### Sbert - baseline experiment"
   ],
   "metadata": {
    "collapsed": false,
    "pycharm": {
     "name": "#%% md\n"
    }
   }
  },
  {
   "cell_type": "code",
   "execution_count": null,
   "outputs": [],
   "source": [
    "from sklearn.metrics import accuracy_score\n",
    "from matplotlib import pyplot\n",
    "\n",
    "essays_train, essays_test, y_train, y_test = train_test_split(essays, y, test_size=0.25, random_state=1000)\n",
    "\n",
    "# buildig the vectorizer model and transforming the essays\n",
    "X_train = model.encode(essays_train, show_progress_bar =True, device=\"cuda\")\n",
    "X_test  = model.encode(essays_test, show_progress_bar =True, device=\"cuda\")\n",
    "\n",
    "#Trianing the classifier\n",
    "classifier = LogisticRegression()\n",
    "classifier.fit(X_train, y_train)\n",
    "\n",
    "#Evaluation\n",
    "score1 = classifier.score(X_test, y_test)\n",
    "pred = classifier.predict(X_test)\n",
    "printResults(score1,y_test,pred)"
   ],
   "metadata": {
    "collapsed": false,
    "pycharm": {
     "name": "#%%\n",
     "is_executing": true
    }
   }
  },
  {
   "cell_type": "markdown",
   "source": [
    "### Testing against overfitting"
   ],
   "metadata": {
    "collapsed": false,
    "pycharm": {
     "name": "#%% md\n"
    }
   }
  },
  {
   "cell_type": "code",
   "execution_count": null,
   "outputs": [],
   "source": [
    "from sklearn.tree import DecisionTreeClassifier\n",
    "train_scores, test_scores = list(), list()\n",
    "values = [i for i in range(1, 21)]\n",
    "# evaluate a decision tree for each depth\n",
    "for i in values:\n",
    "\t# configure the model\n",
    "\tmodel = DecisionTreeClassifier(max_depth=i)\n",
    "\t# fit model on the training dataset\n",
    "\tmodel.fit(X_train, y_train)\n",
    "\t# evaluate on the train dataset\n",
    "\ttrain_yhat = model.predict(X_train)\n",
    "\ttrain_acc = accuracy_score(y_train, train_yhat)\n",
    "\ttrain_scores.append(train_acc)\n",
    "\t# evaluate on the test dataset\n",
    "\ttest_yhat = model.predict(X_test)\n",
    "\ttest_acc = accuracy_score(y_test, test_yhat)\n",
    "\ttest_scores.append(test_acc)\n",
    "\t# summarize progress\n",
    "\tprint('>%d, train: %.3f, test: %.3f' % (i, train_acc, test_acc))\n",
    "# plot of train and test scores vs tree depth\n",
    "pyplot.plot(values, train_scores, '-o', label='Train')\n",
    "pyplot.plot(values, test_scores, '-o', label='Test')\n",
    "pyplot.legend()\n",
    "pyplot.show()"
   ],
   "metadata": {
    "collapsed": false,
    "pycharm": {
     "name": "#%%\n",
     "is_executing": true
    }
   }
  },
  {
   "cell_type": "markdown",
   "source": [
    "### Tf-Idf vectorizer - baseline experiment"
   ],
   "metadata": {
    "collapsed": false,
    "pycharm": {
     "name": "#%% md\n"
    }
   }
  },
  {
   "cell_type": "code",
   "execution_count": null,
   "outputs": [],
   "source": [
    "essays_train, essays_test, y_train, y_test = train_test_split(essays, y, test_size=0.25, random_state=1000)\n",
    "\n",
    "# buildig the vectorizer model and transforming the essays\n",
    "vectorizer = TfidfVectorizer(min_df=1, stop_words='english')\n",
    "vectorizer.fit_transform(essays_train)\n",
    "X_train = vectorizer.transform(essays_train)\n",
    "X_test  = vectorizer.transform(essays_test)\n",
    "\n",
    "#Trianing the classifier\n",
    "classifier = SVC(kernel=\"linear\")\n",
    "classifier.fit(X_train, y_train)\n",
    "\n",
    "#Evaluation\n",
    "score1 = classifier.score(X_test, y_test)\n",
    "pred = classifier.predict(X_test)\n",
    "\n",
    "#prinitng the results\n",
    "printResults(score1,y_test,pred)"
   ],
   "metadata": {
    "collapsed": false,
    "pycharm": {
     "name": "#%%\n",
     "is_executing": true
    }
   }
  },
  {
   "cell_type": "markdown",
   "source": [
    "### QWK between the first and the second rater"
   ],
   "metadata": {
    "collapsed": false,
    "pycharm": {
     "name": "#%% md\n"
    }
   }
  },
  {
   "cell_type": "code",
   "execution_count": 7,
   "outputs": [
    {
     "data": {
      "text/plain": "0.3977300242869025"
     },
     "execution_count": 7,
     "metadata": {},
     "output_type": "execute_result"
    }
   ],
   "source": [
    "y1QWK = df['Code1_IN_AR_Gesamteindruck_Argumentation_3_4_0']\n",
    "y2QWK = df['Code2_IN_AR_Gesamteindruck_Argumentation_3_4_0']\n",
    "\n",
    "cohen_kappa_score(y1QWK,y2QWK,weights=\"quadratic\")"
   ],
   "metadata": {
    "collapsed": false,
    "pycharm": {
     "name": "#%%\n"
    }
   }
  },
  {
   "cell_type": "markdown",
   "source": [
    "### TFIDF with features Clusters"
   ],
   "metadata": {
    "collapsed": false,
    "pycharm": {
     "name": "#%% md\n"
    }
   }
  },
  {
   "cell_type": "code",
   "execution_count": null,
   "outputs": [],
   "source": [
    "essaysNames_train, essaysNames_test, y_train, y_test = train_test_split(listRightNames, y, test_size=0.25, random_state=1000)\n",
    "\n",
    "\n",
    "## getting train and testing data seperately .....\n",
    "essays_train=readTextFromFileName(essaysNames_train,allEssaysPath)\n",
    "essays_test =readTextFromFileName(essaysNames_test,allEssaysPath)\n",
    "\n",
    "\n",
    "vectorizer = TfidfVectorizer(min_df=1, stop_words='english')\n",
    "vectorizer.fit_transform(essays_train)\n",
    "X_train = vectorizer.transform(essays_train)\n",
    "X_test  = vectorizer.transform(essays_test)\n",
    "X_train_WithClusers = appendClustersToVector(essaysNames_train,X_train,\"tfidf\",finalResultsPath)\n",
    "X_test_WithClusters = appendClustersToVector(essaysNames_test,X_test,\"tfidf\",finalResultsPath)\n",
    "\n",
    "### classification logic #######################\n",
    "classifier = LogisticRegression()\n",
    "classifier.fit(X_train_WithClusers, y_train)\n",
    "\n",
    "#Evaluation\n",
    "score1 = classifier.score(X_test_WithClusters, y_test)\n",
    "pred = classifier.predict(X_test_WithClusters)\n",
    "\n",
    "#prinitng the results\n",
    "printResults(score1,y_test,pred)"
   ],
   "metadata": {
    "collapsed": false,
    "pycharm": {
     "name": "#%%\n",
     "is_executing": true
    }
   }
  },
  {
   "cell_type": "markdown",
   "source": [
    "### Sbert with clusters as feature using normalized feature vector"
   ],
   "metadata": {
    "collapsed": false,
    "pycharm": {
     "name": "#%% md\n"
    }
   }
  },
  {
   "cell_type": "code",
   "execution_count": null,
   "outputs": [],
   "source": [
    "essaysNames_train, essaysNames_test, y_train, y_test = train_test_split(listRightNames, y, test_size=0.25, random_state=1000)\n",
    "\n",
    "## getting the training and testing essays seperately......\n",
    "essays_train=readTextFromFileName(essaysNames_train,allEssaysPath)\n",
    "essays_test =readTextFromFileName(essaysNames_test,allEssaysPath)\n",
    "\n",
    "### getting the feature vectors and appending the clusters to them.\n",
    "X_train = model.encode(essays_train, show_progress_bar =True, device=\"cuda\")\n",
    "X_test  = model.encode(essays_test, show_progress_bar =True, device=\"cuda\")\n",
    "X_train_WithClusers = appendClustersToVector(essaysNames_train,X_train,\"sbert\",finalResultsPath)\n",
    "X_test_WithClusters = appendClustersToVector(essaysNames_test,X_test,\"sbert\",finalResultsPath)\n",
    "\n",
    "### scaling the resulted feature vectors after appending the clusters to them..\n",
    "scaler = StandardScaler()\n",
    "scaler.fit(X_train_WithClusers)\n",
    "X_TrainedScaled = scaler.fit_transform(X_train_WithClusers)\n",
    "X_TestScaled = scaler.fit_transform(X_test_WithClusters)\n",
    "\n",
    "### classification logic #######################\n",
    "classifier = LogisticRegression() #LogisticRegression()  #DecisionTreeClassifier(max_depth=4)\n",
    "classifier.fit(X_TrainedScaled, y_train)\n",
    "\n",
    "#Evaluation\n",
    "score1 = classifier.score(X_TestScaled, y_test)\n",
    "pred = classifier.predict(X_TestScaled)\n",
    "\n",
    "#prinitng the results\n",
    "printResults(score1,y_test,pred)"
   ],
   "metadata": {
    "collapsed": false,
    "pycharm": {
     "name": "#%%\n",
     "is_executing": true
    }
   }
  }
 ],
 "metadata": {
  "kernelspec": {
   "display_name": "Python 3",
   "language": "python",
   "name": "python3"
  },
  "language_info": {
   "codemirror_mode": {
    "name": "ipython",
    "version": 2
   },
   "file_extension": ".py",
   "mimetype": "text/x-python",
   "name": "python",
   "nbconvert_exporter": "python",
   "pygments_lexer": "ipython2",
   "version": "2.7.6"
  }
 },
 "nbformat": 4,
 "nbformat_minor": 0
}