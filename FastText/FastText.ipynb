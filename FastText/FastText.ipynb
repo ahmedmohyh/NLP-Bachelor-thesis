{
 "cells": [
  {
   "cell_type": "markdown",
   "source": [
    "### Testing FastText approach"
   ],
   "metadata": {
    "collapsed": false,
    "pycharm": {
     "name": "#%% md\n"
    }
   }
  },
  {
   "cell_type": "markdown",
   "source": [
    "## Importing all necessary libararies"
   ],
   "metadata": {
    "collapsed": false,
    "pycharm": {
     "name": "#%% md\n"
    }
   },
   "outputs": [],
   "execution_count": 2
  },
  {
   "cell_type": "code",
   "execution_count": 1,
   "outputs": [],
   "source": [
    "import fasttext\n",
    "from Utility.ThesisUtility import vectorize, mbkmeans_clusters,writeClustersToExcel,getSentenceUsingStructringWords,printPairsEvaluation,printPurity"
   ],
   "metadata": {
    "collapsed": false,
    "pycharm": {
     "name": "#%%\n"
    }
   }
  },
  {
   "cell_type": "markdown",
   "source": [
    "### constants"
   ],
   "metadata": {
    "collapsed": false,
    "pycharm": {
     "name": "#%% md\n"
    }
   }
  },
  {
   "cell_type": "code",
   "execution_count": 2,
   "outputs": [],
   "source": [
    "dataFilePath = \"../Dataset/Essays_all/10 essays for essays reference - ads/1\"\n",
    "evaluationFilePath = \"../CSV Files/Clusters Evaluation results/GOLD vs Clusters - FastText.xlsx\"\n",
    "k = 19\n",
    "modelFileName = \"fastTextSentences.txt\"\n",
    "clusterExcelSheetName = \"clusteredArgument- FastText - \""
   ],
   "metadata": {
    "collapsed": false,
    "pycharm": {
     "name": "#%%\n"
    }
   }
  },
  {
   "cell_type": "markdown",
   "source": [
    "### Reading the input(Essays) as text files and parsing it into sentences and tokens"
   ],
   "metadata": {
    "collapsed": false,
    "pycharm": {
     "name": "#%% md\n"
    }
   }
  },
  {
   "cell_type": "code",
   "execution_count": 3,
   "outputs": [],
   "source": [
    "sentences, tokensSentenceslist = getSentenceUsingStructringWords(dataFilePath)\n",
    "\n",
    "with open(modelFileName, 'w') as f:\n",
    "    for sentence in sentences:\n",
    "        f.write(sentence)\n",
    "        f.write('\\n')"
   ],
   "metadata": {
    "collapsed": false,
    "pycharm": {
     "name": "#%%\n"
    }
   }
  },
  {
   "cell_type": "markdown",
   "source": [
    "### Building the model using the produced text file"
   ],
   "metadata": {
    "collapsed": false,
    "pycharm": {
     "name": "#%% md\n"
    }
   }
  },
  {
   "cell_type": "code",
   "execution_count": 4,
   "outputs": [],
   "source": [
    "model = fasttext.train_unsupervised(modelFileName, model='cbow',minCount=1)"
   ],
   "metadata": {
    "collapsed": false,
    "pycharm": {
     "name": "#%%\n"
    }
   }
  },
  {
   "cell_type": "markdown",
   "source": [
    "### Constructing the sentence vectors and producing the clusters"
   ],
   "metadata": {
    "collapsed": false,
    "pycharm": {
     "name": "#%% md\n"
    }
   }
  },
  {
   "cell_type": "code",
   "execution_count": null,
   "outputs": [],
   "source": [
    "### constructing the snetences vectors\n",
    "vectorized_docs = vectorize(tokensSentenceslist, model=model, strategy=\"average\")\n",
    "\n",
    "# Producing the clusters\n",
    "clustering, cluster_labels = mbkmeans_clusters(X=vectorized_docs, k=19, print_silhouette_values=True)\n",
    "\n",
    "writeClustersToExcel(clusterExcelSheetName,cluster_labels,k,sentences,vectorized_docs,clustering)"
   ],
   "metadata": {
    "collapsed": false,
    "pycharm": {
     "name": "#%%\n",
     "is_executing": true
    }
   }
  },
  {
   "cell_type": "markdown",
   "source": [
    "### Clusters Evaluation"
   ],
   "metadata": {
    "collapsed": false,
    "pycharm": {
     "name": "#%% md\n"
    }
   }
  },
  {
   "cell_type": "code",
   "execution_count": null,
   "outputs": [],
   "source": [
    "#Pairs evaluation metric\n",
    "printPairsEvaluation(evaluationFilePath,\"excel\")\n",
    "\n",
    "#Purity evaluation metric\n",
    "printPurity(evaluationFilePath,\"excel\")"
   ],
   "metadata": {
    "collapsed": false,
    "pycharm": {
     "name": "#%%\n",
     "is_executing": true
    }
   }
  }
 ],
 "metadata": {
  "kernelspec": {
   "display_name": "Python 3",
   "language": "python",
   "name": "python3"
  },
  "language_info": {
   "codemirror_mode": {
    "name": "ipython",
    "version": 2
   },
   "file_extension": ".py",
   "mimetype": "text/x-python",
   "name": "python",
   "nbconvert_exporter": "python",
   "pygments_lexer": "ipython2",
   "version": "2.7.6"
  }
 },
 "nbformat": 4,
 "nbformat_minor": 0
}