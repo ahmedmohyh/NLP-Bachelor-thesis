{
 "cells": [
  {
   "cell_type": "markdown",
   "source": [
    "###  Importing all necessary files"
   ],
   "metadata": {
    "collapsed": false,
    "pycharm": {
     "name": "#%% md\n"
    }
   }
  },
  {
   "cell_type": "code",
   "execution_count": 1,
   "metadata": {
    "collapsed": true,
    "pycharm": {
     "name": "#%%\n"
    }
   },
   "outputs": [],
   "source": [
    "from sklearn.svm import SVC\n",
    "from sklearn.model_selection import train_test_split\n",
    "from sklearn.feature_extraction.text import CountVectorizer\n",
    "from sklearn.feature_extraction.text import TfidfVectorizer\n",
    "from sklearn.linear_model import LogisticRegression\n",
    "from sentence_transformers import SentenceTransformer\n",
    "from sklearn.metrics import cohen_kappa_score\n",
    "import pandas as pd\n",
    "from sklearn.preprocessing import StandardScaler\n",
    "from Utility.ThesisUtility import printResults,readTextFromFileName,appendClustersToVector,getSentenceUsingStructringWords,getSentcesAndTokens"
   ]
  },
  {
   "cell_type": "markdown",
   "source": [
    "### Constants and Paths"
   ],
   "metadata": {
    "collapsed": false,
    "pycharm": {
     "name": "#%% md\n"
    }
   }
  },
  {
   "cell_type": "code",
   "execution_count": 2,
   "outputs": [],
   "source": [
    "# the path to the excel file that contains the final resutls from the clustering experiment\n",
    "finalResultsPath =\"Data/AnotatedData-200.xlsx\"\n",
    "\n",
    "#Sbert model\n",
    "modelSbert = SentenceTransformer('all-mpnet-base-v2', device=\"cuda\")"
   ],
   "metadata": {
    "collapsed": false,
    "pycharm": {
     "name": "#%%\n"
    }
   }
  },
  {
   "cell_type": "markdown",
   "source": [
    "### Reading the data and the target from the CSV file"
   ],
   "metadata": {
    "collapsed": false,
    "pycharm": {
     "name": "#%% md\n"
    }
   }
  },
  {
   "cell_type": "code",
   "execution_count": 3,
   "outputs": [],
   "source": [
    "df = pd.read_excel(finalResultsPath)\n",
    "y = df['AssignedLabel']  # y is the gold standards\n",
    "\n",
    "texts = df['Text']"
   ],
   "metadata": {
    "collapsed": false,
    "pycharm": {
     "name": "#%%\n"
    }
   }
  },
  {
   "cell_type": "code",
   "execution_count": null,
   "outputs": [],
   "source": [
    "texts"
   ],
   "metadata": {
    "collapsed": false,
    "pycharm": {
     "name": "#%%\n",
     "is_executing": true
    }
   }
  },
  {
   "cell_type": "markdown",
   "source": [
    "### TFIDF-Results"
   ],
   "metadata": {
    "collapsed": false,
    "pycharm": {
     "name": "#%% md\n"
    }
   }
  },
  {
   "cell_type": "code",
   "execution_count": null,
   "outputs": [],
   "source": [
    "dataFilePath = \"../Dataset/Essays_all/TelevisonMergedT1+T2\"\n",
    "sentences = getSentcesAndTokens (dataFilePath,False)\n",
    "\n",
    "texts_train, texts_test, y_train, y_test = train_test_split(texts, y, test_size=0.25, random_state=1000)\n",
    "\n",
    "# buildig the vectorizer model and transforming the essays\n",
    "vectorizer = TfidfVectorizer(min_df=1, stop_words='english')\n",
    "vectorizer.fit_transform(sentences)\n",
    "X_train = vectorizer.transform(texts_train)\n",
    "X_test  = vectorizer.transform(texts_test)\n",
    "X_Pred = vectorizer.transform(sentences)\n",
    "\n",
    "\n",
    "#Trianing the classifier\n",
    "classifier = SVC(kernel=\"linear\")\n",
    "classifier.fit(X_train, y_train)\n",
    "\n",
    "#Evaluation\n",
    "score1 = classifier.score(X_test, y_test)\n",
    "pred = classifier.predict(X_test)\n",
    "new_preds = classifier.predict(X_Pred)\n",
    "\n",
    "#prinitng the results\n",
    "printResults(score1,y_test,pred)"
   ],
   "metadata": {
    "collapsed": false,
    "pycharm": {
     "name": "#%%\n",
     "is_executing": true
    }
   }
  },
  {
   "cell_type": "markdown",
   "source": [
    "### Sbert"
   ],
   "metadata": {
    "collapsed": false,
    "pycharm": {
     "name": "#%% md\n"
    }
   }
  },
  {
   "cell_type": "code",
   "execution_count": null,
   "outputs": [],
   "source": [
    "dataFilePath = \"../Dataset/Essays_all/TelevisonMergedT1+T2\"\n",
    "sentences = getSentcesAndTokens (dataFilePath,False)\n",
    "\n",
    "texts_train, texts_test, y_train, y_test = train_test_split(texts, y, test_size=0.25, random_state=1000)\n",
    "\n",
    "# buildig the vectorizer model and transforming the essays\n",
    "X_trains=  []\n",
    "for s in texts_train:\n",
    "    X_trains.append(s)\n",
    "X_tests  = []\n",
    "for s in texts_test:\n",
    "    X_tests.append(s)\n",
    "\n",
    "X_train = modelSbert.encode(X_trains, show_progress_bar =True, device=\"cuda\")\n",
    "X_test  = modelSbert.encode(X_tests, show_progress_bar =True, device=\"cuda\")\n",
    "X_Pred = modelSbert.encode(sentences,show_progress_bar =True, device=\"cuda\")\n",
    "\n",
    "#Trianing the classifier\n",
    "classifier = LogisticRegression()\n",
    "classifier.fit(X_train, y_train)\n",
    "\n",
    "#Evaluation\n",
    "score1 = classifier.score(X_test, y_test)\n",
    "pred = classifier.predict(X_test)\n",
    "new_preds = classifier.predict(X_Pred)\n",
    "\n",
    "printResults(score1,y_test,pred)"
   ],
   "metadata": {
    "collapsed": false,
    "pycharm": {
     "name": "#%%\n",
     "is_executing": true
    }
   }
  },
  {
   "cell_type": "markdown",
   "source": [
    "### Writing the results to Excel sheet"
   ],
   "metadata": {
    "collapsed": false,
    "pycharm": {
     "name": "#%% md\n"
    }
   }
  },
  {
   "cell_type": "code",
   "execution_count": null,
   "outputs": [],
   "source": [
    "df_test = pd.DataFrame({})\n",
    "for i in  range(0,37504):\n",
    "    df_test = df_test.append({\n",
    "            \"text\": sentences[i],\n",
    "            \"Cluster ID\": new_preds[i],\n",
    "        }, ignore_index=True)\n",
    "df_test.to_excel(\"Results - new Arguments.xlsx\")"
   ],
   "metadata": {
    "collapsed": false,
    "pycharm": {
     "name": "#%%\n",
     "is_executing": true
    }
   }
  },
  {
   "cell_type": "markdown",
   "source": [
    "### Cross Validation"
   ],
   "metadata": {
    "collapsed": false,
    "pycharm": {
     "name": "#%% md\n"
    }
   }
  },
  {
   "cell_type": "code",
   "execution_count": 13,
   "outputs": [],
   "source": [
    "from sklearn.model_selection import cross_validate\n",
    "def cross_validation(model, _X, _y, _cv=5):\n",
    "      '''Function to perform 5 Folds Cross-Validation\n",
    "       Parameters\n",
    "       ----------\n",
    "      model: Python Class, default=None\n",
    "              This is the machine learning algorithm to be used for training.\n",
    "      _X: array\n",
    "           This is the matrix of features.\n",
    "      _y: array\n",
    "           This is the target variable.\n",
    "      _cv: int, default=5\n",
    "          Determines the number of folds for cross-validation.\n",
    "       Returns\n",
    "       -------\n",
    "       The function returns a dictionary containing the metrics 'accuracy', 'precision',\n",
    "       'recall', 'f1' for both training set and validation set.\n",
    "      '''\n",
    "      _scoring = ['accuracy', 'precision', 'recall', 'f1']\n",
    "      results = cross_validate(estimator=model,\n",
    "                               X=_X,\n",
    "                               y=_y,\n",
    "                               cv=_cv,\n",
    "                               scoring=_scoring,\n",
    "                               return_train_score=True)\n",
    "\n",
    "      return {\"Training Accuracy scores\": results['train_accuracy'],\n",
    "              \"Mean Training Accuracy\": results['train_accuracy'].mean()*100,\n",
    "              \"Training Precision scores\": results['train_precision'],\n",
    "              \"Mean Training Precision\": results['train_precision'].mean(),\n",
    "              \"Training Recall scores\": results['train_recall'],\n",
    "              \"Mean Training Recall\": results['train_recall'].mean(),\n",
    "              \"Training F1 scores\": results['train_f1'],\n",
    "              \"Mean Training F1 Score\": results['train_f1'].mean(),\n",
    "              \"Validation Accuracy scores\": results['test_accuracy'],\n",
    "              \"Mean Validation Accuracy\": results['test_accuracy'].mean()*100,\n",
    "              \"Validation Precision scores\": results['test_precision'],\n",
    "              \"Mean Validation Precision\": results['test_precision'].mean(),\n",
    "              \"Validation Recall scores\": results['test_recall'],\n",
    "              \"Mean Validation Recall\": results['test_recall'].mean(),\n",
    "              \"Validation F1 scores\": results['test_f1'],\n",
    "              \"Mean Validation F1 Score\": results['test_f1'].mean()\n",
    "              }\n"
   ],
   "metadata": {
    "collapsed": false,
    "pycharm": {
     "name": "#%%\n"
    }
   }
  },
  {
   "cell_type": "markdown",
   "source": [
    "### Plotting the results"
   ],
   "metadata": {
    "collapsed": false,
    "pycharm": {
     "name": "#%% md\n"
    }
   }
  },
  {
   "cell_type": "code",
   "execution_count": 12,
   "outputs": [],
   "source": [
    "# Grouped Bar Chart for both training and validation data\n",
    "import matplotlib.pyplot as plt\n",
    "import numpy as np\n",
    "\n",
    "def plot_result(x_label, y_label, plot_title, train_data, val_data):\n",
    "        '''Function to plot a grouped bar chart showing the training and validation\n",
    "          results of the ML model in each fold after applying K-fold cross-validation.\n",
    "         Parameters\n",
    "         ----------\n",
    "         x_label: str,\n",
    "            Name of the algorithm used for training e.g 'Decision Tree'\n",
    "\n",
    "         y_label: str,\n",
    "            Name of metric being visualized e.g 'Accuracy'\n",
    "         plot_title: str,\n",
    "            This is the title of the plot e.g 'Accuracy Plot'\n",
    "\n",
    "         train_result: list, array\n",
    "            This is the list containing either training precision, accuracy, or f1 score.\n",
    "\n",
    "         val_result: list, array\n",
    "            This is the list containing either validation precision, accuracy, or f1 score.\n",
    "         Returns\n",
    "         -------\n",
    "         The function returns a Grouped Barchart showing the training and validation result\n",
    "         in each fold.\n",
    "        '''\n",
    "\n",
    "        # Set size of plot\n",
    "        plt.figure(figsize=(24,12))\n",
    "        labels = [\"1st Fold\", \"2nd Fold\", \"3rd Fold\", \"4th Fold\", \"5th Fold\",\"6th Fold\", \"7th Fold\", \"8th Fold\", \"9th Fold\", \"10th Fold\"]\n",
    "        X_axis = np.arange(len(labels))\n",
    "        ax = plt.gca()\n",
    "        plt.ylim(0.10000, 1)\n",
    "        plt.bar(X_axis-0.2, train_data, 0.4, color='blue', label='Training')\n",
    "        plt.bar(X_axis+0.2, val_data, 0.4, color='red', label='Validation')\n",
    "        plt.title(plot_title, fontsize=30)\n",
    "        plt.xticks(X_axis, labels)\n",
    "        plt.xlabel(x_label, fontsize=14)\n",
    "        plt.ylabel(y_label, fontsize=14)\n",
    "        plt.legend()\n",
    "        plt.grid(True)\n",
    "        plt.show()\n"
   ],
   "metadata": {
    "collapsed": false,
    "pycharm": {
     "name": "#%%\n"
    }
   }
  },
  {
   "cell_type": "code",
   "execution_count": 15,
   "outputs": [],
   "source": [
    "from sklearn.model_selection import KFold\n",
    "import pandas as pd\n",
    "\n",
    "#define predictor and response variables\n",
    "X = vectorizer.transform(texts)\n",
    "y = df['AssignedLabel'][1:]  # y is the gold standards\n",
    "\n",
    "_scoring = ['accuracy', 'precision', 'recall', 'f1']\n",
    "\n",
    "\n",
    "#define cross-validation method to use\n",
    "cv = KFold(n_splits=10, random_state=1, shuffle=True)\n",
    "\n",
    "#build multiple linear regression model\n",
    "model = LogisticRegression()\n",
    "\n",
    "#use k-fold CV to evaluate model\n",
    "# scores = cross_val_score(model, X, y, scoring='accuracy',\n",
    "#                          cv=cv, n_jobs=-1)\n",
    "results = cross_validate(estimator=model,\n",
    "                               X=X,\n",
    "                               y=y,\n",
    "                               cv=cv,\n",
    "                               scoring='accuracy',\n",
    "                               return_train_score=True)\n",
    "\n"
   ],
   "metadata": {
    "collapsed": false,
    "pycharm": {
     "name": "#%%\n"
    }
   }
  },
  {
   "cell_type": "code",
   "execution_count": 16,
   "outputs": [
    {
     "data": {
      "text/plain": "<Figure size 1728x864 with 1 Axes>",
      "image/png": "[encoded data removed]"
     },
     "metadata": {
      "needs_background": "light"
     },
     "output_type": "display_data"
    },
    {
     "data": {
      "text/plain": "<Figure size 1728x864 with 1 Axes>",
      "image/png": "[encoded data removed]"
     },
     "metadata": {
      "needs_background": "light"
     },
     "output_type": "display_data"
    }
   ],
   "source": [
    "model_name = \"Logistic Regression  - Tf-Idf\"\n",
    "plot_result(model_name,\n",
    "            \"Accuracy\",\n",
    "            \"Accuracy scores in 10 Folds - Tf-Idf\",\n",
    "            results[\"train_score\"],\n",
    "            results[\"test_score\"])\n",
    "\n",
    "#########################################################################\n",
    "results = cross_validate(estimator=SVC(),\n",
    "                               X=X,\n",
    "                               y=y,\n",
    "                               cv=cv,\n",
    "                               scoring='accuracy',\n",
    "                               return_train_score=True)\n",
    "\n",
    "model_name = \"SVC  - Tf-Idf\"\n",
    "plot_result(model_name,\n",
    "            \"Accuracy\",\n",
    "            \"Accuracy scores in 10 Folds - Tf-Idf\",\n",
    "            results[\"train_score\"],\n",
    "            results[\"test_score\"])"
   ],
   "metadata": {
    "collapsed": false,
    "pycharm": {
     "name": "#%%\n"
    }
   }
  },
  {
   "cell_type": "code",
   "execution_count": null,
   "outputs": [],
   "source": [
    "from sklearn.tree import DecisionTreeClassifier\n",
    "from sklearn.linear_model import LinearRegression\n",
    "textsnew = []\n",
    "for s in texts:\n",
    "    textsnew.append(s)\n",
    "textsnew\n",
    "X = modelSbert.encode(textsnew)\n",
    "\n",
    "results = cross_validate(estimator=model,\n",
    "                               X=X,\n",
    "                               y=y,\n",
    "                               cv=cv,\n",
    "                               scoring='accuracy',\n",
    "                               return_train_score=True)\n",
    "\n",
    "model_name = \"Logistic Regression  - Sbert \"\n",
    "plot_result(model_name,\n",
    "            \"Accuracy\",\n",
    "            \"Accuracy scores in 10 Folds - Sbert\",\n",
    "            results[\"train_score\"],\n",
    "            results[\"test_score\"])\n",
    "#########################################################################\n",
    "results = cross_validate(estimator=SVC(),\n",
    "                               X=X,\n",
    "                               y=y,\n",
    "                               cv=cv,\n",
    "                               scoring='accuracy',\n",
    "                               return_train_score=True)\n",
    "\n",
    "model_name = \"SVC  - Sbert \"\n",
    "plot_result(model_name,\n",
    "            \"Accuracy\",\n",
    "            \"Accuracy scores in 10 Folds - Sbert\",\n",
    "            results[\"train_score\"],\n",
    "            results[\"test_score\"])\n"
   ],
   "metadata": {
    "collapsed": false,
    "pycharm": {
     "name": "#%%\n",
     "is_executing": true
    }
   }
  },
  {
   "cell_type": "code",
   "execution_count": 13,
   "outputs": [
    {
     "name": "stdout",
     "output_type": "stream",
     "text": [
      "Count is 37504\n",
      "The accuracy is  17.435473549488055\n"
     ]
    }
   ],
   "source": [
    "dfClassification = pd.read_excel(\"D:/USERS-Load/PycharmProjects/pythonProject/SuperVisedApproach/Results.xlsx\")\n",
    "dfClustering  = pd.read_excel(\"D:/USERS-Load/PycharmProjects/pythonProject/sbert/clusteredArgument- Sbert - 19.xlsx\")\n",
    "\n",
    "tpCount = 0\n",
    "\n",
    "iteration = dfClassification.count()['ID']\n",
    "\n",
    "print (\"Count is\" , iteration)\n",
    "\n",
    "for i in range(0, iteration):\n",
    "\n",
    "    clusterIDClassification = dfClassification.query(f\"ID == {i}\")['ClusterID'].iloc[0]\n",
    "    #print(\"clusterIDClassification \" , clusterIDClassification)\n",
    "\n",
    "    #TextClassification = dfClassification.query(f\"ID == {i}\")['text'].iloc[0]\n",
    "    #print(\"TextClassification \" , TextClassification)\n",
    "\n",
    "    clusterIDClustering =  dfClustering.query(f\"ID == {i}\")['AssignedLabel'].iloc[0]\n",
    "    #print(\"clusterIDClustering \" , clusterIDClustering)\n",
    "\n",
    "    if(clusterIDClassification == clusterIDClustering):\n",
    "        tpCount = tpCount + 1\n",
    "\n",
    "\n",
    "accuracy = tpCount / iteration\n",
    "print(\"The accuracy is \", accuracy * 100)  # the value is higher than the other accuracy.\n"
   ],
   "metadata": {
    "collapsed": false,
    "pycharm": {
     "name": "#%%\n"
    }
   }
  },
  {
   "cell_type": "code",
   "execution_count": 14,
   "outputs": [
    {
     "name": "stdout",
     "output_type": "stream",
     "text": [
      "tpCpunt is  6539\n"
     ]
    }
   ],
   "source": [
    "print (\"tpCpunt is \", tpCount)"
   ],
   "metadata": {
    "collapsed": false,
    "pycharm": {
     "name": "#%%\n"
    }
   }
  },
  {
   "cell_type": "markdown",
   "source": [
    "### Testing"
   ],
   "metadata": {
    "collapsed": false,
    "pycharm": {
     "name": "#%% md\n"
    }
   }
  },
  {
   "cell_type": "code",
   "execution_count": null,
   "outputs": [],
   "source": [
    "# import pandas as pd\n",
    "# from numpy import mean\n",
    "# from sklearn.datasets import make_classification\n",
    "# from sklearn.model_selection import cross_val_score\n",
    "# from sklearn.model_selection import RepeatedStratifiedKFold\n",
    "# from sklearn.linear_model import LogisticRegression\n",
    "# from sklearn.model_selection import train_test_split\n",
    "# from sklearn.pipeline import Pipeline\n",
    "# from imblearn.pipeline import Pipeline\n",
    "# from imblearn.over_sampling import SMOTE\n",
    "#\n",
    "# # define pipeline\n",
    "# #oversampler=SMOTE(kind='regular',k_neighbors=2)\n",
    "#\n",
    "# steps = [('over', SMOTE(k_neighbors=1)), ('model', LogisticRegression())]\n",
    "# pipeline = Pipeline(steps=steps)\n",
    "# # evaluate pipeline\n",
    "# for scoring in[\"accuracy\", \"roc_auc\"]:\n",
    "#     cv = RepeatedStratifiedKFold(n_splits=2, n_repeats=3, random_state=0)\n",
    "#     scores = cross_val_score(pipeline, X, y, scoring=scoring, cv=cv, n_jobs=-1)\n",
    "#     print(\"Model\", scoring, \" mean=\", scores.mean() , \"stddev=\", scores.std())\n",
    "\n",
    "df = pd.DataFrame({'y': [6, 8, 12, 14, 14, 15, 17, 22, 24, 23],\n",
    "                   'x1': [2, 5, 4, 3, 4, 6, 7, 5, 8, 9],\n",
    "                   'x2': [14, 12, 12, 13, 7, 8, 7, 4, 6, 5]})\n",
    "# model_name = \"Deceision Tree\"\n",
    "# plot_result(model_name,\n",
    "#             \"Accuracy\",\n",
    "#             \"Accuracy scores in 5 Folds\",\n",
    "#             scores[\"Training Accuracy scores\"],\n",
    "#             scores[\"Validation Accuracy scores\"])\n",
    "# from sklearn.model_selection import train_test_split\n",
    "# from sklearn.model_selection import KFold\n",
    "# from sklearn.tree import DecisionTreeClassifier\n",
    "# from sklearn.model_selection import cross_val_score\n",
    "# from sklearn.linear_model import LinearRegression\n",
    "# from numpy import mean\n",
    "# from numpy import absolute\n",
    "# from numpy import sqrt\n",
    "# import pandas as pd\n",
    "#\n",
    "# _scoring = ['accuracy', 'precision', 'recall', 'f1']\n",
    "#\n",
    "# #define predictor and response variables\n",
    "# X = vectorizer.transform(texts)\n",
    "# y = df['AnotatedClusterID']  # y is the gold standards\n",
    "#\n",
    "#\n",
    "# #define cross-validation method to use\n",
    "# cv = KFold(n_splits=10, random_state=1, shuffle=True)\n",
    "#\n",
    "# #build multiple linear regression model\n",
    "# model = DecisionTreeClassifier(max_depth=1)\n",
    "#\n",
    "# #use k-fold CV to evaluate model\n",
    "# scores = cross_validation(model, X, y, 10)\n",
    "#\n",
    "# #view mean absolute error\n",
    "# #mean(absolute(scores))\n",
    "#\n",
    "# # from sklearn.tree import DecisionTreeClassifier\n",
    "# # svc = SVC(kernel=\"linear\")\n",
    "# # classifier.fit(X_train, y_train)\n",
    "# # decision_tree_result = cross_validation(svc, X, y, 2)\n",
    "# # print(decision_tree_result)"
   ],
   "metadata": {
    "collapsed": false,
    "pycharm": {
     "name": "#%%\n"
    }
   }
  }
 ],
 "metadata": {
  "kernelspec": {
   "display_name": "Python 3",
   "language": "python",
   "name": "python3"
  },
  "language_info": {
   "codemirror_mode": {
    "name": "ipython",
    "version": 2
   },
   "file_extension": ".py",
   "mimetype": "text/x-python",
   "name": "python",
   "nbconvert_exporter": "python",
   "pygments_lexer": "ipython2",
   "version": "2.7.6"
  }
 },
 "nbformat": 4,
 "nbformat_minor": 0
}