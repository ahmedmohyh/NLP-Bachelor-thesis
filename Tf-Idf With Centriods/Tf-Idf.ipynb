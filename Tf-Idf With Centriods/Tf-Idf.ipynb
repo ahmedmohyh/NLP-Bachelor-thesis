{
 "cells": [
  {
   "cell_type": "markdown",
   "source": [
    "## Importing all necessary libararies"
   ],
   "metadata": {
    "collapsed": false,
    "pycharm": {
     "name": "#%% md\n"
    }
   }
  },
  {
   "cell_type": "code",
   "execution_count": 7,
   "metadata": {
    "collapsed": true,
    "pycharm": {
     "name": "#%%\n"
    }
   },
   "outputs": [],
   "source": [
    "from sklearn.feature_extraction.text import TfidfVectorizer\n",
    "from sentence_transformers import SentenceTransformer\n",
    "import pandas as pd\n",
    "import numpy as np\n",
    "from Utility.ThesisUtility import getSentcesAndTokens,iterateAndAssignGoldStandard,printPairsEvaluation,printPurity"
   ]
  },
  {
   "cell_type": "markdown",
   "source": [
    "### Constants"
   ],
   "metadata": {
    "collapsed": false,
    "pycharm": {
     "name": "#%% md\n"
    }
   }
  },
  {
   "cell_type": "code",
   "execution_count": 8,
   "outputs": [],
   "source": [
    "#The file path to the dataset\n",
    "dataFilePath = \"../Dataset/Essays_all/TelevisonMergedT1+T2\"\n",
    "evaluationFilePath = \"../CSV Files/Clusters Evaluation results/GOLD vs Clusters - gold standards as centriodsWithTfIDf.xlsx\"\n",
    "model = SentenceTransformer('all-mpnet-base-v2', device=\"cuda\")"
   ],
   "metadata": {
    "collapsed": false,
    "pycharm": {
     "name": "#%%\n"
    }
   }
  },
  {
   "cell_type": "markdown",
   "source": [
    "### Reading the input(Essays) as text files and parsing it into sentences and tokens"
   ],
   "metadata": {
    "collapsed": false,
    "pycharm": {
     "name": "#%% md\n"
    }
   }
  },
  {
   "cell_type": "code",
   "execution_count": 9,
   "outputs": [],
   "source": [
    "sentences = getSentcesAndTokens(dataFilePath,False)\n",
    "\n",
    "## Reading the gold standards and vectorizing them\n",
    "df_ref = pd.read_excel(\"../CSV Files/Clusters Evaluation results/new/Examples Mapping.xlsx\")"
   ],
   "metadata": {
    "collapsed": false,
    "pycharm": {
     "name": "#%%\n"
    }
   }
  },
  {
   "cell_type": "markdown",
   "source": [
    "### building the sentences' vectors using TF-IDF vectorizer"
   ],
   "metadata": {
    "collapsed": false,
    "pycharm": {
     "name": "#%% md\n"
    }
   }
  },
  {
   "cell_type": "code",
   "execution_count": 10,
   "outputs": [
    {
     "data": {
      "text/plain": "Batches:   0%|          | 0/1210 [00:00<?, ?it/s]",
      "application/vnd.jupyter.widget-view+json": {
       "version_major": 2,
       "version_minor": 0,
       "model_id": "ecd15a9b8ebe4c37a1d43d39e3707359"
      }
     },
     "metadata": {},
     "output_type": "display_data"
    }
   ],
   "source": [
    "# vectorizer = TfidfVectorizer(min_df=1, stop_words='english')\n",
    "# vectorizer.fit_transform(sentences)\n",
    "# vectors = vectorizer.transform(sentences)\n",
    "\n",
    "corpus_embeddings = model.encode(sentences, show_progress_bar =True, device=\"cuda\")\n"
   ],
   "metadata": {
    "collapsed": false,
    "pycharm": {
     "name": "#%%\n"
    }
   }
  },
  {
   "cell_type": "code",
   "execution_count": null,
   "outputs": [],
   "source": [
    "listExamplesVectoros =[]\n",
    "for i in range(1,27):\n",
    "    intern = []\n",
    "    for s in df_ref[i]:\n",
    "        if (pd.isna(s)):\n",
    "            continue\n",
    "        else:\n",
    "            intern.append(s)\n",
    "    intern = model.encode(intern, show_progress_bar =True, device=\"cuda\")\n",
    "    intern = np.asarray(intern)\n",
    "    avg_vec = intern.mean(axis=0)\n",
    "    listExamplesVectoros.append(avg_vec)"
   ],
   "metadata": {
    "collapsed": false,
    "pycharm": {
     "name": "#%%\n",
     "is_executing": true
    }
   }
  },
  {
   "cell_type": "markdown",
   "source": [
    "### Iterating over all the sentneces and assigning the gold standard with the highest cosin similarity"
   ],
   "metadata": {
    "collapsed": false,
    "pycharm": {
     "name": "#%% md\n"
    }
   }
  },
  {
   "cell_type": "code",
   "execution_count": null,
   "outputs": [],
   "source": [
    "iterateAndAssignGoldStandard(corpus_embeddings,sentences,listExamplesVectoros[0:25],\"Sbert With Centriods2.xlsx\",False)"
   ],
   "metadata": {
    "collapsed": false,
    "pycharm": {
     "name": "#%%\n",
     "is_executing": true
    }
   }
  },
  {
   "cell_type": "code",
   "execution_count": 28,
   "outputs": [
    {
     "data": {
      "text/plain": "25"
     },
     "execution_count": 28,
     "metadata": {},
     "output_type": "execute_result"
    }
   ],
   "source": [
    "len(listExamplesVectoros[0:25])"
   ],
   "metadata": {
    "collapsed": false,
    "pycharm": {
     "name": "#%%\n"
    }
   }
  },
  {
   "cell_type": "markdown",
   "source": [
    "### Clusters Evaluation"
   ],
   "metadata": {
    "collapsed": false,
    "pycharm": {
     "name": "#%% md\n"
    }
   }
  },
  {
   "cell_type": "code",
   "execution_count": null,
   "outputs": [],
   "source": [
    "printPairsEvaluation(evaluationFilePath,\"excel\")\n",
    "\n",
    "printPurity(evaluationFilePath,\"excel\")"
   ],
   "metadata": {
    "collapsed": false,
    "pycharm": {
     "name": "#%%\n",
     "is_executing": true
    }
   }
  }
 ],
 "metadata": {
  "kernelspec": {
   "display_name": "Python 3",
   "language": "python",
   "name": "python3"
  },
  "language_info": {
   "codemirror_mode": {
    "name": "ipython",
    "version": 2
   },
   "file_extension": ".py",
   "mimetype": "text/x-python",
   "name": "python",
   "nbconvert_exporter": "python",
   "pygments_lexer": "ipython2",
   "version": "2.7.6"
  }
 },
 "nbformat": 4,
 "nbformat_minor": 0
}