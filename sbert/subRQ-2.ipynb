{
 "cells": [
  {
   "cell_type": "markdown",
   "source": [
    "### This script tests the sencond sub-research question (culture question)"
   ],
   "metadata": {
    "collapsed": false,
    "pycharm": {
     "name": "#%% md\n"
    }
   }
  },
  {
   "cell_type": "markdown",
   "source": [
    "### Importing necessary Libs"
   ],
   "metadata": {
    "collapsed": false,
    "pycharm": {
     "name": "#%% md\n"
    }
   }
  },
  {
   "cell_type": "code",
   "execution_count": 2,
   "outputs": [],
   "source": [
    "import pandas as pd\n",
    "from sentence_transformers import SentenceTransformer\n",
    "from Utility.ThesisUtility import iterateAndAssignGoldStandard,getSentenceUsingStructringWords"
   ],
   "metadata": {
    "collapsed": false,
    "pycharm": {
     "name": "#%%\n"
    }
   }
  },
  {
   "cell_type": "markdown",
   "source": [
    "### Constants"
   ],
   "metadata": {
    "collapsed": false,
    "pycharm": {
     "name": "#%% md\n"
    }
   }
  },
  {
   "cell_type": "code",
   "execution_count": 3,
   "outputs": [],
   "source": [
    "#Sbert model\n",
    "model = SentenceTransformer('all-mpnet-base-v2', device=\"cuda\")\n",
    "\n",
    "goldStandardPath = \"../CSV Files/Goldstandards/Teacher/Goldstandards.xlsx\"\n",
    "\n",
    "## the reference to the excel file where your sentences are located with the corresponding.\n",
    "sentencesPath = \"../Dataset/Essays_all/10 essays for essays reference - ads/1\"\n",
    "\n",
    "resultFileName = \"SbertWithCentriods.xlsx\""
   ],
   "metadata": {
    "collapsed": false,
    "pycharm": {
     "name": "#%%\n"
    }
   }
  },
  {
   "cell_type": "markdown",
   "source": [
    "### Iterating over the sentences and assigning the gold standard ID using the cosin similairty"
   ],
   "metadata": {
    "collapsed": false,
    "pycharm": {
     "name": "#%% md\n"
    }
   }
  },
  {
   "cell_type": "code",
   "execution_count": null,
   "outputs": [],
   "source": [
    "df_ref = pd.read_excel(goldStandardPath) # reading gold standards\n",
    "\n",
    "listRef = df_ref['Gold standard']\n",
    "listSentences = getSentenceUsingStructringWords(sentencesPath)\n",
    "\n",
    "listembReferences = []\n",
    "corpus_embeddings = []\n",
    "\n",
    "# calculating the embeddings of all of the gold standards\n",
    "for ref in listRef:\n",
    "    listembReferences.append(model.encode(ref))\n",
    "\n",
    "# calculating the embeddings of all of the sentences\n",
    "for sentence in listSentences:\n",
    "    corpus_embeddings.append(model.encode(sentence))\n",
    "\n",
    "iterateAndAssignGoldStandard(corpus_embeddings,listSentences,listembReferences,\"Sbert With Centriods.xlsx\",False)"
   ],
   "metadata": {
    "collapsed": false,
    "pycharm": {
     "name": "#%%\n",
     "is_executing": true
    }
   }
  }
 ],
 "metadata": {
  "kernelspec": {
   "display_name": "Python 3",
   "language": "python",
   "name": "python3"
  },
  "language_info": {
   "codemirror_mode": {
    "name": "ipython",
    "version": 2
   },
   "file_extension": ".py",
   "mimetype": "text/x-python",
   "name": "python",
   "nbconvert_exporter": "python",
   "pygments_lexer": "ipython2",
   "version": "2.7.6"
  }
 },
 "nbformat": 4,
 "nbformat_minor": 0
}