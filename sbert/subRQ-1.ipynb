{
 "cells": [
  {
   "cell_type": "markdown",
   "source": [
    "### This code responsible for answering the first sub-research question"
   ],
   "metadata": {
    "collapsed": false,
    "pycharm": {
     "name": "#%% md\n"
    }
   }
  },
  {
   "cell_type": "markdown",
   "source": [
    "### Importing necessary libararies"
   ],
   "metadata": {
    "collapsed": false,
    "pycharm": {
     "name": "#%% md\n"
    }
   }
  },
  {
   "cell_type": "code",
   "execution_count": null,
   "outputs": [],
   "source": [
    "import numpy as np\n",
    "import pandas as pd\n",
    "from sentence_transformers import SentenceTransformer,util\n",
    "from Utility.ThesisUtility import plotGraph"
   ],
   "metadata": {
    "collapsed": false,
    "pycharm": {
     "name": "#%%\n"
    }
   }
  },
  {
   "cell_type": "markdown",
   "source": [
    "### constants"
   ],
   "metadata": {
    "collapsed": false,
    "pycharm": {
     "name": "#%% md\n"
    }
   }
  },
  {
   "cell_type": "code",
   "execution_count": 1,
   "outputs": [],
   "source": [
    "model = SentenceTransformer('all-mpnet-base-v2', device=\"cuda\")\n",
    "\n",
    "goldStandardPath = \"../CVS Files/Teachers prompt/Goldstandards.xlsx\"\n",
    "\n",
    "sentencesPath = \"\" ## the reference to the excel file where your sentneces are located with the corresponding."
   ],
   "metadata": {
    "collapsed": false,
    "pycharm": {
     "name": "#%%\n"
    }
   }
  },
  {
   "cell_type": "markdown",
   "source": [
    "### Reading the gold stanards and the sentences of a prompt"
   ],
   "metadata": {
    "collapsed": false,
    "pycharm": {
     "name": "#%% md\n"
    }
   }
  },
  {
   "cell_type": "code",
   "execution_count": null,
   "outputs": [],
   "source": [
    "df_ref = pd.read_excel(goldStandardPath) # reading gold standards\n",
    "def_sentences = pd.read_excel(sentencesPath) # reading the sentences\n",
    "\n",
    "listRef = df_ref['Gold standard'] # list of only the text of the gold standards\n",
    "listSentences = def_sentences['text'] # list of only the tests  of the sentneces\n",
    "\n",
    "listembReferences = []\n",
    "corpus_embeddings =[]\n",
    "\n",
    "# calculating the embeddings of all of the gold standards\n",
    "for ref in listRef:\n",
    "    listembReferences.append(model.encode(ref))\n",
    "\n",
    "# calculating the embeddings of all of the sentences\n",
    "for sentence in listSentences:\n",
    "    corpus_embeddings.append(model.encode(sentence))\n",
    "\n",
    "allCosinSimiliarityValues = [] # contains the value of the highest cosine similairty between a sentence and all gold standards\n",
    "countMissed =[] # contains the number of ignored items for each threshold\n",
    "\n",
    "thresholds = [0.1,0.2,0.3,0.4,0.5,0.6,0.7,0.8,0.9,0.95]\n",
    "\n",
    "for emb in corpus_embeddings:\n",
    "    listMax = []\n",
    "    for embref in listembReferences:\n",
    "        cos_sim = util.cos_sim(emb, embref)\n",
    "        listMax.append(cos_sim)\n",
    "    index_max = np.argmax(listMax) #the index  of the highest cosine simliarity with this sentnece\n",
    "    allCosinSimiliarityValues.append(listMax[index_max]) # the value of the highest cosine similairty with this sentence\n",
    "\n",
    "for threshold in thresholds:\n",
    "    temp = 0\n",
    "    for i in range(0,len(allCosinSimiliarityValues)):\n",
    "        if (allCosinSimiliarityValues[i] <threshold): #threshold to know if this item does not match any of the references!!!\n",
    "            temp = temp +1\n",
    "            continue\n",
    "    countMissed.append(temp)\n",
    "\n",
    "#plotting the graph between the ignored items and the threshodsl\n",
    "plotGraph(thresholds,countMissed)"
   ],
   "metadata": {
    "collapsed": false,
    "pycharm": {
     "name": "#%%\n",
     "is_executing": true
    }
   }
  }
 ],
 "metadata": {
  "kernelspec": {
   "display_name": "Python 3",
   "language": "python",
   "name": "python3"
  },
  "language_info": {
   "codemirror_mode": {
    "name": "ipython",
    "version": 2
   },
   "file_extension": ".py",
   "mimetype": "text/x-python",
   "name": "python",
   "nbconvert_exporter": "python",
   "pygments_lexer": "ipython2",
   "version": "2.7.6"
  }
 },
 "nbformat": 4,
 "nbformat_minor": 0
}