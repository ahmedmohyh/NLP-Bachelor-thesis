{
 "cells": [
  {
   "cell_type": "markdown",
   "source": [
    "### Importing necessary libs"
   ],
   "metadata": {
    "collapsed": false,
    "pycharm": {
     "name": "#%% md\n"
    }
   }
  },
  {
   "cell_type": "code",
   "execution_count": 72,
   "metadata": {
    "collapsed": true,
    "pycharm": {
     "name": "#%%\n"
    }
   },
   "outputs": [],
   "source": [
    "import os\n",
    "import string\n",
    "from nltk import tokenize\n",
    "from gensim.models import Word2Vec\n",
    "from nltk import word_tokenize\n",
    "import numpy as np\n",
    "from sklearn.cluster import MiniBatchKMeans\n",
    "from sklearn.metrics import silhouette_score\n",
    "from sklearn.metrics import silhouette_samples\n",
    "import pandas as pd\n",
    "import gensim\n",
    "from nltk.corpus import stopwords\n",
    "import sentence_transformers\n",
    "from sentence_transformers import SentenceTransformer,util\n",
    "from sklearn.cluster import KMeans\n",
    "import re\n",
    "import statistics\n",
    "from keras.layers import Average"
   ]
  },
  {
   "cell_type": "markdown",
   "source": [
    "### defining the model with the pretrainded data"
   ],
   "metadata": {
    "collapsed": false,
    "pycharm": {
     "name": "#%% md\n"
    }
   }
  },
  {
   "cell_type": "code",
   "execution_count": 73,
   "outputs": [],
   "source": [
    "model = SentenceTransformer('all-mpnet-base-v2', device=\"cuda\")\n",
    "# embedder = SentenceTransformer('distilbert-base-nli-mean-tokens')\n"
   ],
   "metadata": {
    "collapsed": false,
    "pycharm": {
     "name": "#%%\n"
    }
   }
  },
  {
   "cell_type": "markdown",
   "source": [
    "### structring words"
   ],
   "metadata": {
    "collapsed": false,
    "pycharm": {
     "name": "#%% md\n"
    }
   }
  },
  {
   "cell_type": "code",
   "execution_count": 74,
   "outputs": [],
   "source": [
    "listStructureWords =  []\n",
    "\n",
    "df = pd.read_excel(\"structureWords.xlsx\")\n",
    "listStructureWords = df.iloc[:,0].tolist()"
   ],
   "metadata": {
    "collapsed": false,
    "pycharm": {
     "name": "#%%\n"
    }
   }
  },
  {
   "cell_type": "markdown",
   "source": [
    "### Adding only 100 Essays for embeddings"
   ],
   "metadata": {
    "collapsed": false,
    "pycharm": {
     "name": "#%% md\n"
    }
   }
  },
  {
   "cell_type": "code",
   "execution_count": 75,
   "outputs": [
    {
     "name": "stderr",
     "output_type": "stream",
     "text": [
      "C:\\Users\\Ahmed\\AppData\\Local\\Temp\\ipykernel_6272\\233329389.py:33: FutureWarning: The frame.append method is deprecated and will be removed from pandas in a future version. Use pandas.concat instead.\n",
      "  df_fileName = df_fileName.append({\n",
      "C:\\Users\\Ahmed\\AppData\\Local\\Temp\\ipykernel_6272\\233329389.py:33: FutureWarning: The frame.append method is deprecated and will be removed from pandas in a future version. Use pandas.concat instead.\n",
      "  df_fileName = df_fileName.append({\n",
      "C:\\Users\\Ahmed\\AppData\\Local\\Temp\\ipykernel_6272\\233329389.py:33: FutureWarning: The frame.append method is deprecated and will be removed from pandas in a future version. Use pandas.concat instead.\n",
      "  df_fileName = df_fileName.append({\n",
      "C:\\Users\\Ahmed\\AppData\\Local\\Temp\\ipykernel_6272\\233329389.py:33: FutureWarning: The frame.append method is deprecated and will be removed from pandas in a future version. Use pandas.concat instead.\n",
      "  df_fileName = df_fileName.append({\n",
      "C:\\Users\\Ahmed\\AppData\\Local\\Temp\\ipykernel_6272\\233329389.py:33: FutureWarning: The frame.append method is deprecated and will be removed from pandas in a future version. Use pandas.concat instead.\n",
      "  df_fileName = df_fileName.append({\n",
      "C:\\Users\\Ahmed\\AppData\\Local\\Temp\\ipykernel_6272\\233329389.py:33: FutureWarning: The frame.append method is deprecated and will be removed from pandas in a future version. Use pandas.concat instead.\n",
      "  df_fileName = df_fileName.append({\n",
      "C:\\Users\\Ahmed\\AppData\\Local\\Temp\\ipykernel_6272\\233329389.py:33: FutureWarning: The frame.append method is deprecated and will be removed from pandas in a future version. Use pandas.concat instead.\n",
      "  df_fileName = df_fileName.append({\n",
      "C:\\Users\\Ahmed\\AppData\\Local\\Temp\\ipykernel_6272\\233329389.py:33: FutureWarning: The frame.append method is deprecated and will be removed from pandas in a future version. Use pandas.concat instead.\n",
      "  df_fileName = df_fileName.append({\n",
      "C:\\Users\\Ahmed\\AppData\\Local\\Temp\\ipykernel_6272\\233329389.py:33: FutureWarning: The frame.append method is deprecated and will be removed from pandas in a future version. Use pandas.concat instead.\n",
      "  df_fileName = df_fileName.append({\n",
      "C:\\Users\\Ahmed\\AppData\\Local\\Temp\\ipykernel_6272\\233329389.py:33: FutureWarning: The frame.append method is deprecated and will be removed from pandas in a future version. Use pandas.concat instead.\n",
      "  df_fileName = df_fileName.append({\n",
      "C:\\Users\\Ahmed\\AppData\\Local\\Temp\\ipykernel_6272\\233329389.py:33: FutureWarning: The frame.append method is deprecated and will be removed from pandas in a future version. Use pandas.concat instead.\n",
      "  df_fileName = df_fileName.append({\n",
      "C:\\Users\\Ahmed\\AppData\\Local\\Temp\\ipykernel_6272\\233329389.py:33: FutureWarning: The frame.append method is deprecated and will be removed from pandas in a future version. Use pandas.concat instead.\n",
      "  df_fileName = df_fileName.append({\n",
      "C:\\Users\\Ahmed\\AppData\\Local\\Temp\\ipykernel_6272\\233329389.py:33: FutureWarning: The frame.append method is deprecated and will be removed from pandas in a future version. Use pandas.concat instead.\n",
      "  df_fileName = df_fileName.append({\n",
      "C:\\Users\\Ahmed\\AppData\\Local\\Temp\\ipykernel_6272\\233329389.py:33: FutureWarning: The frame.append method is deprecated and will be removed from pandas in a future version. Use pandas.concat instead.\n",
      "  df_fileName = df_fileName.append({\n",
      "C:\\Users\\Ahmed\\AppData\\Local\\Temp\\ipykernel_6272\\233329389.py:33: FutureWarning: The frame.append method is deprecated and will be removed from pandas in a future version. Use pandas.concat instead.\n",
      "  df_fileName = df_fileName.append({\n",
      "C:\\Users\\Ahmed\\AppData\\Local\\Temp\\ipykernel_6272\\233329389.py:33: FutureWarning: The frame.append method is deprecated and will be removed from pandas in a future version. Use pandas.concat instead.\n",
      "  df_fileName = df_fileName.append({\n",
      "C:\\Users\\Ahmed\\AppData\\Local\\Temp\\ipykernel_6272\\233329389.py:33: FutureWarning: The frame.append method is deprecated and will be removed from pandas in a future version. Use pandas.concat instead.\n",
      "  df_fileName = df_fileName.append({\n",
      "C:\\Users\\Ahmed\\AppData\\Local\\Temp\\ipykernel_6272\\233329389.py:33: FutureWarning: The frame.append method is deprecated and will be removed from pandas in a future version. Use pandas.concat instead.\n",
      "  df_fileName = df_fileName.append({\n",
      "C:\\Users\\Ahmed\\AppData\\Local\\Temp\\ipykernel_6272\\233329389.py:33: FutureWarning: The frame.append method is deprecated and will be removed from pandas in a future version. Use pandas.concat instead.\n",
      "  df_fileName = df_fileName.append({\n",
      "C:\\Users\\Ahmed\\AppData\\Local\\Temp\\ipykernel_6272\\233329389.py:33: FutureWarning: The frame.append method is deprecated and will be removed from pandas in a future version. Use pandas.concat instead.\n",
      "  df_fileName = df_fileName.append({\n",
      "C:\\Users\\Ahmed\\AppData\\Local\\Temp\\ipykernel_6272\\233329389.py:33: FutureWarning: The frame.append method is deprecated and will be removed from pandas in a future version. Use pandas.concat instead.\n",
      "  df_fileName = df_fileName.append({\n",
      "C:\\Users\\Ahmed\\AppData\\Local\\Temp\\ipykernel_6272\\233329389.py:33: FutureWarning: The frame.append method is deprecated and will be removed from pandas in a future version. Use pandas.concat instead.\n",
      "  df_fileName = df_fileName.append({\n",
      "C:\\Users\\Ahmed\\AppData\\Local\\Temp\\ipykernel_6272\\233329389.py:33: FutureWarning: The frame.append method is deprecated and will be removed from pandas in a future version. Use pandas.concat instead.\n",
      "  df_fileName = df_fileName.append({\n",
      "C:\\Users\\Ahmed\\AppData\\Local\\Temp\\ipykernel_6272\\233329389.py:33: FutureWarning: The frame.append method is deprecated and will be removed from pandas in a future version. Use pandas.concat instead.\n",
      "  df_fileName = df_fileName.append({\n",
      "C:\\Users\\Ahmed\\AppData\\Local\\Temp\\ipykernel_6272\\233329389.py:33: FutureWarning: The frame.append method is deprecated and will be removed from pandas in a future version. Use pandas.concat instead.\n",
      "  df_fileName = df_fileName.append({\n",
      "C:\\Users\\Ahmed\\AppData\\Local\\Temp\\ipykernel_6272\\233329389.py:33: FutureWarning: The frame.append method is deprecated and will be removed from pandas in a future version. Use pandas.concat instead.\n",
      "  df_fileName = df_fileName.append({\n",
      "C:\\Users\\Ahmed\\AppData\\Local\\Temp\\ipykernel_6272\\233329389.py:33: FutureWarning: The frame.append method is deprecated and will be removed from pandas in a future version. Use pandas.concat instead.\n",
      "  df_fileName = df_fileName.append({\n",
      "C:\\Users\\Ahmed\\AppData\\Local\\Temp\\ipykernel_6272\\233329389.py:33: FutureWarning: The frame.append method is deprecated and will be removed from pandas in a future version. Use pandas.concat instead.\n",
      "  df_fileName = df_fileName.append({\n",
      "C:\\Users\\Ahmed\\AppData\\Local\\Temp\\ipykernel_6272\\233329389.py:33: FutureWarning: The frame.append method is deprecated and will be removed from pandas in a future version. Use pandas.concat instead.\n",
      "  df_fileName = df_fileName.append({\n",
      "C:\\Users\\Ahmed\\AppData\\Local\\Temp\\ipykernel_6272\\233329389.py:33: FutureWarning: The frame.append method is deprecated and will be removed from pandas in a future version. Use pandas.concat instead.\n",
      "  df_fileName = df_fileName.append({\n",
      "C:\\Users\\Ahmed\\AppData\\Local\\Temp\\ipykernel_6272\\233329389.py:33: FutureWarning: The frame.append method is deprecated and will be removed from pandas in a future version. Use pandas.concat instead.\n",
      "  df_fileName = df_fileName.append({\n",
      "C:\\Users\\Ahmed\\AppData\\Local\\Temp\\ipykernel_6272\\233329389.py:33: FutureWarning: The frame.append method is deprecated and will be removed from pandas in a future version. Use pandas.concat instead.\n",
      "  df_fileName = df_fileName.append({\n",
      "C:\\Users\\Ahmed\\AppData\\Local\\Temp\\ipykernel_6272\\233329389.py:33: FutureWarning: The frame.append method is deprecated and will be removed from pandas in a future version. Use pandas.concat instead.\n",
      "  df_fileName = df_fileName.append({\n",
      "C:\\Users\\Ahmed\\AppData\\Local\\Temp\\ipykernel_6272\\233329389.py:33: FutureWarning: The frame.append method is deprecated and will be removed from pandas in a future version. Use pandas.concat instead.\n",
      "  df_fileName = df_fileName.append({\n",
      "C:\\Users\\Ahmed\\AppData\\Local\\Temp\\ipykernel_6272\\233329389.py:33: FutureWarning: The frame.append method is deprecated and will be removed from pandas in a future version. Use pandas.concat instead.\n",
      "  df_fileName = df_fileName.append({\n",
      "C:\\Users\\Ahmed\\AppData\\Local\\Temp\\ipykernel_6272\\233329389.py:33: FutureWarning: The frame.append method is deprecated and will be removed from pandas in a future version. Use pandas.concat instead.\n",
      "  df_fileName = df_fileName.append({\n",
      "C:\\Users\\Ahmed\\AppData\\Local\\Temp\\ipykernel_6272\\233329389.py:33: FutureWarning: The frame.append method is deprecated and will be removed from pandas in a future version. Use pandas.concat instead.\n",
      "  df_fileName = df_fileName.append({\n",
      "C:\\Users\\Ahmed\\AppData\\Local\\Temp\\ipykernel_6272\\233329389.py:33: FutureWarning: The frame.append method is deprecated and will be removed from pandas in a future version. Use pandas.concat instead.\n",
      "  df_fileName = df_fileName.append({\n",
      "C:\\Users\\Ahmed\\AppData\\Local\\Temp\\ipykernel_6272\\233329389.py:33: FutureWarning: The frame.append method is deprecated and will be removed from pandas in a future version. Use pandas.concat instead.\n",
      "  df_fileName = df_fileName.append({\n",
      "C:\\Users\\Ahmed\\AppData\\Local\\Temp\\ipykernel_6272\\233329389.py:33: FutureWarning: The frame.append method is deprecated and will be removed from pandas in a future version. Use pandas.concat instead.\n",
      "  df_fileName = df_fileName.append({\n",
      "C:\\Users\\Ahmed\\AppData\\Local\\Temp\\ipykernel_6272\\233329389.py:33: FutureWarning: The frame.append method is deprecated and will be removed from pandas in a future version. Use pandas.concat instead.\n",
      "  df_fileName = df_fileName.append({\n",
      "C:\\Users\\Ahmed\\AppData\\Local\\Temp\\ipykernel_6272\\233329389.py:33: FutureWarning: The frame.append method is deprecated and will be removed from pandas in a future version. Use pandas.concat instead.\n",
      "  df_fileName = df_fileName.append({\n",
      "C:\\Users\\Ahmed\\AppData\\Local\\Temp\\ipykernel_6272\\233329389.py:33: FutureWarning: The frame.append method is deprecated and will be removed from pandas in a future version. Use pandas.concat instead.\n",
      "  df_fileName = df_fileName.append({\n",
      "C:\\Users\\Ahmed\\AppData\\Local\\Temp\\ipykernel_6272\\233329389.py:33: FutureWarning: The frame.append method is deprecated and will be removed from pandas in a future version. Use pandas.concat instead.\n",
      "  df_fileName = df_fileName.append({\n",
      "C:\\Users\\Ahmed\\AppData\\Local\\Temp\\ipykernel_6272\\233329389.py:33: FutureWarning: The frame.append method is deprecated and will be removed from pandas in a future version. Use pandas.concat instead.\n",
      "  df_fileName = df_fileName.append({\n",
      "C:\\Users\\Ahmed\\AppData\\Local\\Temp\\ipykernel_6272\\233329389.py:33: FutureWarning: The frame.append method is deprecated and will be removed from pandas in a future version. Use pandas.concat instead.\n",
      "  df_fileName = df_fileName.append({\n",
      "C:\\Users\\Ahmed\\AppData\\Local\\Temp\\ipykernel_6272\\233329389.py:33: FutureWarning: The frame.append method is deprecated and will be removed from pandas in a future version. Use pandas.concat instead.\n",
      "  df_fileName = df_fileName.append({\n",
      "C:\\Users\\Ahmed\\AppData\\Local\\Temp\\ipykernel_6272\\233329389.py:33: FutureWarning: The frame.append method is deprecated and will be removed from pandas in a future version. Use pandas.concat instead.\n",
      "  df_fileName = df_fileName.append({\n",
      "C:\\Users\\Ahmed\\AppData\\Local\\Temp\\ipykernel_6272\\233329389.py:33: FutureWarning: The frame.append method is deprecated and will be removed from pandas in a future version. Use pandas.concat instead.\n",
      "  df_fileName = df_fileName.append({\n",
      "C:\\Users\\Ahmed\\AppData\\Local\\Temp\\ipykernel_6272\\233329389.py:33: FutureWarning: The frame.append method is deprecated and will be removed from pandas in a future version. Use pandas.concat instead.\n",
      "  df_fileName = df_fileName.append({\n",
      "C:\\Users\\Ahmed\\AppData\\Local\\Temp\\ipykernel_6272\\233329389.py:33: FutureWarning: The frame.append method is deprecated and will be removed from pandas in a future version. Use pandas.concat instead.\n",
      "  df_fileName = df_fileName.append({\n",
      "C:\\Users\\Ahmed\\AppData\\Local\\Temp\\ipykernel_6272\\233329389.py:33: FutureWarning: The frame.append method is deprecated and will be removed from pandas in a future version. Use pandas.concat instead.\n",
      "  df_fileName = df_fileName.append({\n",
      "C:\\Users\\Ahmed\\AppData\\Local\\Temp\\ipykernel_6272\\233329389.py:33: FutureWarning: The frame.append method is deprecated and will be removed from pandas in a future version. Use pandas.concat instead.\n",
      "  df_fileName = df_fileName.append({\n",
      "C:\\Users\\Ahmed\\AppData\\Local\\Temp\\ipykernel_6272\\233329389.py:33: FutureWarning: The frame.append method is deprecated and will be removed from pandas in a future version. Use pandas.concat instead.\n",
      "  df_fileName = df_fileName.append({\n",
      "C:\\Users\\Ahmed\\AppData\\Local\\Temp\\ipykernel_6272\\233329389.py:33: FutureWarning: The frame.append method is deprecated and will be removed from pandas in a future version. Use pandas.concat instead.\n",
      "  df_fileName = df_fileName.append({\n",
      "C:\\Users\\Ahmed\\AppData\\Local\\Temp\\ipykernel_6272\\233329389.py:33: FutureWarning: The frame.append method is deprecated and will be removed from pandas in a future version. Use pandas.concat instead.\n",
      "  df_fileName = df_fileName.append({\n",
      "C:\\Users\\Ahmed\\AppData\\Local\\Temp\\ipykernel_6272\\233329389.py:33: FutureWarning: The frame.append method is deprecated and will be removed from pandas in a future version. Use pandas.concat instead.\n",
      "  df_fileName = df_fileName.append({\n",
      "C:\\Users\\Ahmed\\AppData\\Local\\Temp\\ipykernel_6272\\233329389.py:33: FutureWarning: The frame.append method is deprecated and will be removed from pandas in a future version. Use pandas.concat instead.\n",
      "  df_fileName = df_fileName.append({\n",
      "C:\\Users\\Ahmed\\AppData\\Local\\Temp\\ipykernel_6272\\233329389.py:33: FutureWarning: The frame.append method is deprecated and will be removed from pandas in a future version. Use pandas.concat instead.\n",
      "  df_fileName = df_fileName.append({\n",
      "C:\\Users\\Ahmed\\AppData\\Local\\Temp\\ipykernel_6272\\233329389.py:33: FutureWarning: The frame.append method is deprecated and will be removed from pandas in a future version. Use pandas.concat instead.\n",
      "  df_fileName = df_fileName.append({\n",
      "C:\\Users\\Ahmed\\AppData\\Local\\Temp\\ipykernel_6272\\233329389.py:33: FutureWarning: The frame.append method is deprecated and will be removed from pandas in a future version. Use pandas.concat instead.\n",
      "  df_fileName = df_fileName.append({\n",
      "C:\\Users\\Ahmed\\AppData\\Local\\Temp\\ipykernel_6272\\233329389.py:33: FutureWarning: The frame.append method is deprecated and will be removed from pandas in a future version. Use pandas.concat instead.\n",
      "  df_fileName = df_fileName.append({\n",
      "C:\\Users\\Ahmed\\AppData\\Local\\Temp\\ipykernel_6272\\233329389.py:33: FutureWarning: The frame.append method is deprecated and will be removed from pandas in a future version. Use pandas.concat instead.\n",
      "  df_fileName = df_fileName.append({\n",
      "C:\\Users\\Ahmed\\AppData\\Local\\Temp\\ipykernel_6272\\233329389.py:33: FutureWarning: The frame.append method is deprecated and will be removed from pandas in a future version. Use pandas.concat instead.\n",
      "  df_fileName = df_fileName.append({\n",
      "C:\\Users\\Ahmed\\AppData\\Local\\Temp\\ipykernel_6272\\233329389.py:33: FutureWarning: The frame.append method is deprecated and will be removed from pandas in a future version. Use pandas.concat instead.\n",
      "  df_fileName = df_fileName.append({\n"
     ]
    }
   ],
   "source": [
    "stopWords = [\"directed toward young children\", \"from two to five\",\"two to five\", \"to young children\", \"directed toward\"]\n",
    "regex = r\"\\b(?:{})\\b\".format(\"|\".join(listStructureWords))\n",
    "\n",
    "sentences = []\n",
    "j=0\n",
    "df_fileName = pd.DataFrame({})\n",
    "for filename in os.listdir(r\"D:\\UDE\\6th Semester\\MEMS\\MEWS Data\\MEWS_Essays\\MEWS_Essays\\Essays_all\\10 essays for essays reference\"):\n",
    "   with open(os.path.join(r\"D:\\UDE\\6th Semester\\MEMS\\MEWS Data\\MEWS_Essays\\MEWS_Essays\\Essays_all\\10 essays for essays reference\", filename)) as f:\n",
    "\n",
    "       text = f.read()\n",
    "       text = text.replace(\"ï»¿\",\"\")\n",
    "       for st in stopWords:\n",
    "           text = text.replace(st,\"\")\n",
    "       # for w in tokenize.word_tokenize(text):\n",
    "       #     if w in stopWords:\n",
    "       #         text = text.replace(w,\"\");\n",
    "       #sents = tokenize.sent_tokenize(text)\n",
    "       sents = re.split(regex, text)\n",
    "       #sents = text.split(\"\\n\\n\")\n",
    "       for s in sents:\n",
    "           # if (para.isspace()):\n",
    "           #     continue\n",
    "               #print(\"The string is empty\")\n",
    "           #print(para)\n",
    "           #print(\"###############\")\n",
    "           if (s.isspace() or len(s) ==0):\n",
    "               continue\n",
    "           s = s.lower()\n",
    "           s = s.translate(str.maketrans(' ', ' ', string.punctuation))\n",
    "           if (len(s.split()) <5):\n",
    "               continue\n",
    "           sentences.append(s)\n",
    "           df_fileName = df_fileName.append({\n",
    "             \"ios\" : j,\n",
    "             \"file name\": filename,\n",
    "              \"argument\": s\n",
    "              },ignore_index=True)\n",
    "           j = j+1\n",
    "\n",
    "\n",
    "#df_fileName.to_csv(\"FileName with the senteces.csv\")"
   ],
   "metadata": {
    "collapsed": false,
    "pycharm": {
     "name": "#%%\n"
    }
   }
  },
  {
   "cell_type": "markdown",
   "source": [
    "### Getting all the paragraphs inside the essays(Bad method)"
   ],
   "metadata": {
    "collapsed": false,
    "pycharm": {
     "name": "#%% md\n"
    }
   }
  },
  {
   "cell_type": "code",
   "execution_count": null,
   "outputs": [],
   "source": [
    "#indexs =0\n",
    "paragraph_num=[]\n",
    "for filename in os.listdir(r\"D:\\UDE\\6th Semester\\MEMS\\MEWS Data\\MEWS_Essays\\MEWS_Essays\\Essays_all\\TelevisonMergedT1+T2\"):\n",
    "    y = open(os.path.join(r\"D:\\UDE\\6th Semester\\MEMS\\MEWS Data\\MEWS_Essays\\MEWS_Essays\\Essays_all\\TelevisonMergedT1+T2\", filename), 'r')\n",
    "    paragraph = 0\n",
    "    lines = y.readlines()\n",
    "    for idx, line in enumerate(lines):\n",
    "        if not line == '\\n':\n",
    "            m = re.search(r'\\w', line)\n",
    "            if m is None:\n",
    "                continue\n",
    "            str = m.group(0)\n",
    "        try:\n",
    "            if line == '\\n' and str in lines[idx-1]:\n",
    "                paragraph +=1\n",
    "        except:\n",
    "            pass\n",
    "    if lines[-1] != '\\n': # if the last line is not a new line, count a paragraph.\n",
    "        paragraph +=1\n",
    "    #indexs = indexs+1\n",
    "    #print(\"The append starting\" ,paragraph, indexs)\n",
    "    #print(\"############################\")\n",
    "    if (paragraph >2):\n",
    "        paragraph_num.append(paragraph)\n",
    "\n",
    "average = statistics.mean(paragraph_num)\n",
    "#print(indexs)\n",
    "print(average)\n",
    "print(round(average))\n",
    "print(len(paragraph_num))"
   ],
   "metadata": {
    "collapsed": false,
    "pycharm": {
     "name": "#%%\n",
     "is_executing": true
    }
   }
  },
  {
   "cell_type": "markdown",
   "source": [
    "### Saving to CSV file"
   ],
   "metadata": {
    "collapsed": false,
    "pycharm": {
     "name": "#%% md\n"
    }
   }
  },
  {
   "cell_type": "code",
   "execution_count": 76,
   "outputs": [],
   "source": [
    "df_fileName.to_csv(\"FileName with the senteces.csv\")"
   ],
   "metadata": {
    "collapsed": false,
    "pycharm": {
     "name": "#%%\n"
    }
   }
  },
  {
   "cell_type": "markdown",
   "source": [
    "### Getting the embeddings"
   ],
   "metadata": {
    "collapsed": false,
    "pycharm": {
     "name": "#%% md\n"
    }
   }
  },
  {
   "cell_type": "code",
   "execution_count": 77,
   "outputs": [
    {
     "data": {
      "text/plain": "Batches:   0%|          | 0/3 [00:00<?, ?it/s]",
      "application/vnd.jupyter.widget-view+json": {
       "version_major": 2,
       "version_minor": 0,
       "model_id": "935cdbd11f0f463cb57879fea190a367"
      }
     },
     "metadata": {},
     "output_type": "display_data"
    },
    {
     "data": {
      "text/plain": "(65, 768)"
     },
     "execution_count": 77,
     "metadata": {},
     "output_type": "execute_result"
    }
   ],
   "source": [
    "corpus_embeddings = model.encode(sentences, show_progress_bar =True, device=\"cuda\")\n",
    "\n",
    "corpus_embeddings.shape"
   ],
   "metadata": {
    "collapsed": false,
    "pycharm": {
     "name": "#%%\n"
    }
   }
  },
  {
   "cell_type": "markdown",
   "source": [
    "### Testing torch with cuda"
   ],
   "metadata": {
    "collapsed": false,
    "pycharm": {
     "name": "#%% md\n"
    }
   }
  },
  {
   "cell_type": "code",
   "execution_count": 78,
   "outputs": [],
   "source": [
    "def mbkmeans_clusters(X, k, mb=500, print_silhouette_values=False):\n",
    "    \"\"\"Generate clusters.\n",
    "\n",
    "    Args:\n",
    "        X: Matrix of features.\n",
    "        k: Number of clusters.\n",
    "        mb: Size of mini-batches. Defaults to 500.\n",
    "        print_silhouette_values: Print silhouette values per cluster.\n",
    "\n",
    "    Returns:\n",
    "        Trained clustering model and labels based on X.\n",
    "    \"\"\"\n",
    "    km = MiniBatchKMeans(n_clusters=k, batch_size=mb).fit(X)\n",
    "    print(f\"For n_clusters = {k}\")\n",
    "    print(f\"Silhouette coefficient: {silhouette_score(X, km.labels_):0.2f}\")\n",
    "    print(f\"Inertia:{km.inertia_}\")\n",
    "\n",
    "    if print_silhouette_values:\n",
    "        sample_silhouette_values = silhouette_samples(X, km.labels_)\n",
    "        print(f\"Silhouette values:\")\n",
    "        silhouette_values = []\n",
    "        for i in range(k):\n",
    "            cluster_silhouette_values = sample_silhouette_values[km.labels_ == i]\n",
    "            silhouette_values.append(\n",
    "                (\n",
    "                    i,\n",
    "                    cluster_silhouette_values.shape[0],\n",
    "                    cluster_silhouette_values.mean(),\n",
    "                    cluster_silhouette_values.min(),\n",
    "                    cluster_silhouette_values.max(),\n",
    "                )\n",
    "            )\n",
    "        silhouette_values = sorted(\n",
    "            silhouette_values, key=lambda tup: tup[2], reverse=True\n",
    "        )\n",
    "        for s in silhouette_values:\n",
    "            print(\n",
    "                f\"    Cluster {s[0]}: Size:{s[1]} | Avg:{s[2]:.2f} | Min:{s[3]:.2f} | Max: {s[4]:.2f}\"\n",
    "            )\n",
    "    return km, km.labels_"
   ],
   "metadata": {
    "collapsed": false,
    "pycharm": {
     "name": "#%%\n"
    }
   }
  },
  {
   "cell_type": "markdown",
   "source": [
    "### applying the clustering method"
   ],
   "metadata": {
    "collapsed": false,
    "pycharm": {
     "name": "#%% md\n"
    }
   }
  },
  {
   "cell_type": "code",
   "execution_count": 79,
   "outputs": [
    {
     "name": "stdout",
     "output_type": "stream",
     "text": [
      "For n_clusters = 10\n",
      "Silhouette coefficient: 0.08\n",
      "Inertia:24.390676498413086\n",
      "Silhouette values:\n",
      "    Cluster 2: Size:18 | Avg:0.16 | Min:0.05 | Max: 0.27\n",
      "    Cluster 6: Size:10 | Avg:0.09 | Min:-0.01 | Max: 0.18\n",
      "    Cluster 7: Size:2 | Avg:0.07 | Min:0.03 | Max: 0.10\n",
      "    Cluster 1: Size:20 | Avg:0.04 | Min:-0.07 | Max: 0.13\n",
      "    Cluster 3: Size:3 | Avg:0.03 | Min:0.01 | Max: 0.06\n",
      "    Cluster 4: Size:5 | Avg:0.02 | Min:-0.02 | Max: 0.07\n",
      "    Cluster 0: Size:1 | Avg:0.00 | Min:0.00 | Max: 0.00\n",
      "    Cluster 8: Size:1 | Avg:0.00 | Min:0.00 | Max: 0.00\n",
      "    Cluster 9: Size:1 | Avg:0.00 | Min:0.00 | Max: 0.00\n",
      "    Cluster 5: Size:4 | Avg:-0.01 | Min:-0.12 | Max: 0.06\n"
     ]
    }
   ],
   "source": [
    "k = 10\n",
    "\n",
    "clustering, cluster_labels = mbkmeans_clusters(X=corpus_embeddings, k=k, print_silhouette_values=True)\n",
    "\n",
    "df_clusters = pd.DataFrame({\n",
    "    \"text\": sentences,\n",
    "    \"cluster\": cluster_labels\n",
    "})"
   ],
   "metadata": {
    "collapsed": false,
    "pycharm": {
     "name": "#%%\n"
    }
   }
  },
  {
   "cell_type": "markdown",
   "source": [
    "### random statments from cluster"
   ],
   "metadata": {
    "collapsed": false,
    "pycharm": {
     "name": "#%% md\n"
    }
   }
  },
  {
   "cell_type": "code",
   "execution_count": 56,
   "outputs": [
    {
     "name": "stdout",
     "output_type": "stream",
     "text": [
      "1149\n",
      "i am writing an essay about the question if it is good \n",
      "-------------\n",
      " it comes to what foods they eat after all how many adverts for fruit roll ups and sugary juice boxes can we all remember being streamed into our conciousness as young children and infdluencing what we twanted to eat\n",
      "i \n",
      "-------------\n",
      "maybe \n",
      "yes and no         hohoho\n",
      "because of reasons                        lã¶lã¶lã¶lã¶lã¶lã¶lã¶lã¶lã¶lã¶lã¶lã¶\n",
      "there are adventages and disadventages about this\n",
      "ubi est quintus caecilia clamat\n",
      "quintus in hortus est\n",
      "nihin mater nihil quintus sedet et tacet\n",
      "ein essay welches diese schreibaufgabe gut erfã¼llt umfasst mindestens 300 wã¶rter ihr text wird anhand unterschiedlicher qualitã¤ten beurteilt diese beinhalten die darlegung ihrer ideen die organisation des essays sowie die sprachliche qualitã¤t und genauigkeit sie haben dafã¼r 30 minuten zeit versuchen sie die komplette zeit \n",
      "-------------\n",
      " it is easier for parents to controle there children in the public or at home \n",
      "-------------\n",
      " that they manipulate those little kids just to make big money overweighs \n",
      "-------------\n",
      " mentionend above\n",
      "\n",
      "\n",
      "\n",
      "\n",
      "\n",
      "\n",
      "\n",
      "\n",
      "\n",
      "\n",
      "\n",
      "\n",
      "\n",
      "\n",
      "\n",
      "\n",
      "\n",
      "\n",
      "\n",
      "\n",
      "\n",
      "\n",
      "\n",
      "\n",
      "\n",
      "\n",
      "\n",
      "\n",
      "\n",
      "\n",
      "\n",
      "\n",
      "\n",
      "\n",
      "\n",
      "\n",
      "\n",
      "\n",
      "\n",
      "\n",
      "\n",
      "\n",
      "\n",
      "\n",
      "\n",
      "\n",
      "\n",
      "\n",
      "\n",
      "\n",
      "\n",
      "\n",
      "\n",
      "\n",
      "\n",
      "\n",
      "\n",
      "\n",
      "\n",
      "\n",
      "\n",
      "\n",
      "\n",
      "\n",
      "\n",
      "\n",
      "\n",
      "\n",
      "\n",
      "\n",
      "\n",
      "\n",
      "\n",
      "\n",
      "\n",
      "\n",
      "\n",
      "\n",
      "\n",
      "\n",
      "\n",
      "\n",
      "\n",
      "\n",
      "\n",
      "\n",
      "\n",
      "\n",
      "\n",
      "\n",
      "\n",
      "\n",
      "\n",
      "\n",
      "\n",
      "\n",
      "\n",
      "\n",
      "\n",
      "\n",
      "\n",
      "\n",
      "\n",
      "\n",
      "\n",
      "\n",
      "\n",
      "\n",
      "\n",
      "\n",
      "\n",
      "\n",
      "\n",
      "\n",
      "\n",
      "\n",
      "\n",
      "\n",
      "\n",
      "\n",
      "\n",
      "\n",
      "\n",
      "\n",
      "\n",
      "\n",
      "\n",
      "\n",
      "\n",
      "\n",
      "\n",
      "\n",
      "\n",
      "\n",
      "\n",
      "\n",
      "\n",
      "\n",
      "\n",
      "\n",
      "\n",
      "\n",
      "\n",
      "\n",
      "\n",
      "\n",
      "\n",
      "\n",
      "\n",
      "\n",
      "\n",
      "\n",
      "\n",
      "\n",
      "\n",
      "\n",
      "\n",
      "\n",
      "\n",
      "\n",
      "\n",
      "\n",
      "\n",
      "\n",
      "\n",
      "\n",
      "\n",
      "\n",
      "\n",
      "\n",
      "\n",
      "\n",
      "\n",
      "\n",
      "\n",
      "\n",
      "\n",
      "\n",
      "\n",
      "\n",
      "\n",
      "\n",
      "\n",
      "\n",
      "\n",
      "\n",
      "\n",
      "\n",
      "\n",
      "\n",
      "\n",
      "\n",
      "\n",
      "\n",
      "\n",
      "\n",
      "\n",
      "\n",
      "\n",
      "\n",
      "\n",
      "\n",
      "\n",
      "\n",
      "\n",
      "\n",
      "\n",
      "\n",
      "\n",
      "\n",
      "\n",
      "\n",
      "\n",
      "\n",
      "\n",
      "\n",
      "\n",
      "\n",
      "\n",
      "\n",
      "\n",
      "\n",
      "\n",
      "\n",
      "\n",
      "\n",
      "\n",
      "\n",
      "\n",
      "\n",
      "\n",
      "\n",
      "\n",
      "\n",
      "\n",
      "\n",
      "\n",
      "\n",
      "\n",
      "\n",
      "\n",
      "\n",
      "\n",
      "\n",
      "\n",
      "\n",
      "\n",
      "\n",
      "\n",
      "\n",
      "\n",
      "\n",
      "\n",
      "\n",
      "\n",
      "\n",
      "\n",
      "\n",
      "\n",
      "\n",
      "\n",
      "\n",
      "\n",
      "\n",
      "\n",
      "\n",
      "\n",
      "\n",
      "\n",
      "\n",
      "\n",
      "\n",
      "\n",
      "\n",
      "\n",
      "\n",
      "\n",
      "\n",
      "\n",
      "\n",
      "\n",
      "\n",
      "\n",
      "\n",
      "\n",
      "\n",
      "\n",
      "\n",
      "\n",
      "\n",
      "\n",
      "\n",
      "\n",
      "\n",
      "\n",
      "\n",
      "\n",
      "\n",
      "\n",
      "\n",
      "\n",
      "\n",
      "\n",
      "\n",
      "\n",
      "\n",
      "\n",
      "\n",
      "\n",
      "\n",
      "\n",
      "\n",
      "\n",
      "\n",
      "\n",
      "\n",
      "\n",
      "\n",
      "\n",
      "\n",
      "\n",
      "\n",
      "\n",
      "\n",
      "\n",
      "\n",
      "\n",
      "\n",
      "\n",
      "\n",
      "\n",
      "\n",
      "\n",
      "\n",
      "\n",
      "\n",
      "\n",
      "\n",
      "\n",
      "\n",
      "\n",
      "\n",
      "\n",
      "\n",
      "\n",
      "\n",
      "\n",
      "\n",
      "\n",
      "\n",
      "\n",
      "\n",
      "\n",
      "\n",
      "\n",
      "\n",
      "\n",
      "\n",
      "\n",
      "\n",
      "\n",
      "\n",
      "\n",
      "\n",
      "\n",
      "\n",
      "\n",
      "\n",
      "\n",
      "\n",
      "\n",
      "\n",
      "\n",
      "\n",
      "\n",
      "\n",
      "\n",
      "\n",
      "\n",
      "\n",
      "\n",
      "\n",
      "\n",
      "this study is senseless \n",
      "-------------\n",
      " its very important to think about those questions because may be they can change our future and the future of the \n",
      "-------------\n",
      " its importat to protect the childrem from becoming part of that at an age where they cant really build an own opinion about the world \n",
      "on the other \n",
      "-------------\n",
      " they want it they realy get manipulated they dont realy follow their own interest you should \n",
      "-------------\n",
      " if the effects are actually that big why dont we make parenting \n",
      "-------------\n"
     ]
    }
   ],
   "source": [
    "test_cluster = 0\n",
    "queryCount = len(df_clusters.query(f\"cluster == {test_cluster}\"))\n",
    "\n",
    "print(queryCount)\n",
    "\n",
    "if (queryCount > 10):\n",
    "    for i,t in enumerate(df_clusters.query(f\"cluster == {test_cluster}\").sample(10).iterrows()):\n",
    "        print(t[1][\"text\"])\n",
    "        print(\"-------------\")\n",
    "\n",
    "else:\n",
    "    for i,t in enumerate(df_clusters.query(f\"cluster == {test_cluster}\").sample(queryCount).iterrows()):\n",
    "        print(t[1][\"text\"])\n",
    "        print(\"-------------\")\n"
   ],
   "metadata": {
    "collapsed": false,
    "pycharm": {
     "name": "#%%\n"
    }
   }
  },
  {
   "cell_type": "markdown",
   "source": [
    "### Most representative clusters"
   ],
   "metadata": {
    "collapsed": false,
    "pycharm": {
     "name": "#%% md\n"
    }
   }
  },
  {
   "cell_type": "code",
   "execution_count": 80,
   "outputs": [
    {
     "name": "stdout",
     "output_type": "stream",
     "text": [
      "38\n",
      " reason is that young children at the age  can not understand the main statement from the television because there brain can not translate or understand the film which is shown as a \n",
      "-------------\n",
      "44\n",
      " on their there future lives could be mainly destroyed or would stay on the lies of the television my last reason is that children at the age of  are defintiv to young to look tv because of the risks and the \n",
      "-------------\n",
      "64\n",
      " with this statement because it is not bad if little child seeing television advertising in this age but they should not watch it \n",
      "-------------\n",
      "40\n",
      " reason is that this kids should not grow up with a television because if they look tv at the begin of their lives they could focus their future to look fluently and hours \n",
      "-------------\n",
      "42\n",
      " is that the television is a media which is lying fluently to have better quotes of the public to become famous and rich the children would grow up with wrong information \n",
      "-------------\n",
      "30\n",
      " they shopuld have a time where they are allowed to watch there series or there favorite movie that is what makes the children happy now a days \n",
      "furthermore more many child series and movies on tv teach many life lessons \n",
      "-------------\n",
      "26\n",
      " it might be important for the television to direct advertising toward those young children\n",
      "-------------\n",
      "13\n",
      " one is that the children often want the object in the televion they think that is cool and they often try to convince their parents if they dont get the object they start to cry or they are sad about the desission of their parents the parents dont like to see their children cry and they bought the object for them\n",
      "forthermore the childrens often dont need the object the seller push their object in the advertising because he know what he have to say he only tells the posi and the children see that and in result they get it from their parents\n",
      "in addition the parents should explain theire children how they have to handel with advertising the children musst learn the trics of the televison advertisings because they should be responsible with the money if they dont learn this they could have problems in their life \n",
      "all in all the advertising isnt good for the young people it stress the parents and it could destroy the entership between the family and friends \n",
      "\n",
      "-------------\n",
      "6\n",
      " and even small children watch television so it may occure the question whether tv advertising  aged  shoud or should not be allowed \n",
      "\n",
      "first you should allow this kind of avertising because it helps the parents to buy things which fit with the specific wishes of their children so the little child can watch tv and \n",
      "-------------\n",
      "63\n",
      " often like adults because they have not enough concentration to watch an hour a day moreover it is bad for the childrens eyes young children must play with other friends and should not sit at home to watch television but often young children can learn something by watching television an example is that they learn to treat the other children in the kindergarten better or learn to say different words also little children learn what is forbidden and what is right but they should watch series which are made for young children with an age of if they look criminal series it is not good for their evolution and they can missundertand what the people are doing \n",
      "televison advertising is not good for the childish brain because they do not know what is important and what is not but i do not think that it is bad if they watch it\n",
      "i \n",
      "-------------\n"
     ]
    }
   ],
   "source": [
    "test_cluster = 0\n",
    "most_representative_docs = np.argsort(\n",
    "    np.linalg.norm(corpus_embeddings - clustering.cluster_centers_[test_cluster], axis=1)\n",
    ")\n",
    "# print(most_representative_docs[0])\n",
    "\n",
    "if (queryCount > 10):\n",
    "    for d in most_representative_docs[:10]:\n",
    "        print(d)\n",
    "        print(sentences[d])\n",
    "        print(\"-------------\")\n",
    "else:\n",
    "    for d in most_representative_docs[:queryCount]:\n",
    "        print(d)\n",
    "        print(sentences[d])\n",
    "        print(\"-------------\")\n"
   ],
   "metadata": {
    "collapsed": false,
    "pycharm": {
     "name": "#%%\n"
    }
   }
  },
  {
   "cell_type": "markdown",
   "source": [
    "### Saving to .csv File"
   ],
   "metadata": {
    "collapsed": false,
    "pycharm": {
     "name": "#%% md\n"
    }
   }
  },
  {
   "cell_type": "code",
   "execution_count": 81,
   "outputs": [],
   "source": [
    "df_clusters.to_csv(f\"SbertClustering-All-Essays- {k} -Clusters.csv\")"
   ],
   "metadata": {
    "collapsed": false,
    "pycharm": {
     "name": "#%%\n"
    }
   }
  },
  {
   "cell_type": "markdown",
   "source": [
    "### saving most representative to csv file"
   ],
   "metadata": {
    "collapsed": false,
    "pycharm": {
     "name": "#%% md\n"
    }
   }
  },
  {
   "cell_type": "code",
   "execution_count": 82,
   "outputs": [
    {
     "name": "stderr",
     "output_type": "stream",
     "text": [
      "C:\\Users\\Ahmed\\AppData\\Local\\Temp\\ipykernel_6272\\4001967623.py:10: FutureWarning: The frame.append method is deprecated and will be removed from pandas in a future version. Use pandas.concat instead.\n",
      "  df_ClsuteringSentencesCount = df_ClsuteringSentencesCount.append({\n",
      "C:\\Users\\Ahmed\\AppData\\Local\\Temp\\ipykernel_6272\\4001967623.py:22: FutureWarning: The frame.append method is deprecated and will be removed from pandas in a future version. Use pandas.concat instead.\n",
      "  df_mostRepresentative = df_mostRepresentative.append({\n",
      "C:\\Users\\Ahmed\\AppData\\Local\\Temp\\ipykernel_6272\\4001967623.py:10: FutureWarning: The frame.append method is deprecated and will be removed from pandas in a future version. Use pandas.concat instead.\n",
      "  df_ClsuteringSentencesCount = df_ClsuteringSentencesCount.append({\n",
      "C:\\Users\\Ahmed\\AppData\\Local\\Temp\\ipykernel_6272\\4001967623.py:22: FutureWarning: The frame.append method is deprecated and will be removed from pandas in a future version. Use pandas.concat instead.\n",
      "  df_mostRepresentative = df_mostRepresentative.append({\n",
      "C:\\Users\\Ahmed\\AppData\\Local\\Temp\\ipykernel_6272\\4001967623.py:22: FutureWarning: The frame.append method is deprecated and will be removed from pandas in a future version. Use pandas.concat instead.\n",
      "  df_mostRepresentative = df_mostRepresentative.append({\n",
      "C:\\Users\\Ahmed\\AppData\\Local\\Temp\\ipykernel_6272\\4001967623.py:22: FutureWarning: The frame.append method is deprecated and will be removed from pandas in a future version. Use pandas.concat instead.\n",
      "  df_mostRepresentative = df_mostRepresentative.append({\n",
      "C:\\Users\\Ahmed\\AppData\\Local\\Temp\\ipykernel_6272\\4001967623.py:22: FutureWarning: The frame.append method is deprecated and will be removed from pandas in a future version. Use pandas.concat instead.\n",
      "  df_mostRepresentative = df_mostRepresentative.append({\n",
      "C:\\Users\\Ahmed\\AppData\\Local\\Temp\\ipykernel_6272\\4001967623.py:22: FutureWarning: The frame.append method is deprecated and will be removed from pandas in a future version. Use pandas.concat instead.\n",
      "  df_mostRepresentative = df_mostRepresentative.append({\n",
      "C:\\Users\\Ahmed\\AppData\\Local\\Temp\\ipykernel_6272\\4001967623.py:22: FutureWarning: The frame.append method is deprecated and will be removed from pandas in a future version. Use pandas.concat instead.\n",
      "  df_mostRepresentative = df_mostRepresentative.append({\n",
      "C:\\Users\\Ahmed\\AppData\\Local\\Temp\\ipykernel_6272\\4001967623.py:22: FutureWarning: The frame.append method is deprecated and will be removed from pandas in a future version. Use pandas.concat instead.\n",
      "  df_mostRepresentative = df_mostRepresentative.append({\n",
      "C:\\Users\\Ahmed\\AppData\\Local\\Temp\\ipykernel_6272\\4001967623.py:22: FutureWarning: The frame.append method is deprecated and will be removed from pandas in a future version. Use pandas.concat instead.\n",
      "  df_mostRepresentative = df_mostRepresentative.append({\n",
      "C:\\Users\\Ahmed\\AppData\\Local\\Temp\\ipykernel_6272\\4001967623.py:22: FutureWarning: The frame.append method is deprecated and will be removed from pandas in a future version. Use pandas.concat instead.\n",
      "  df_mostRepresentative = df_mostRepresentative.append({\n",
      "C:\\Users\\Ahmed\\AppData\\Local\\Temp\\ipykernel_6272\\4001967623.py:22: FutureWarning: The frame.append method is deprecated and will be removed from pandas in a future version. Use pandas.concat instead.\n",
      "  df_mostRepresentative = df_mostRepresentative.append({\n",
      "C:\\Users\\Ahmed\\AppData\\Local\\Temp\\ipykernel_6272\\4001967623.py:10: FutureWarning: The frame.append method is deprecated and will be removed from pandas in a future version. Use pandas.concat instead.\n",
      "  df_ClsuteringSentencesCount = df_ClsuteringSentencesCount.append({\n",
      "C:\\Users\\Ahmed\\AppData\\Local\\Temp\\ipykernel_6272\\4001967623.py:22: FutureWarning: The frame.append method is deprecated and will be removed from pandas in a future version. Use pandas.concat instead.\n",
      "  df_mostRepresentative = df_mostRepresentative.append({\n",
      "C:\\Users\\Ahmed\\AppData\\Local\\Temp\\ipykernel_6272\\4001967623.py:22: FutureWarning: The frame.append method is deprecated and will be removed from pandas in a future version. Use pandas.concat instead.\n",
      "  df_mostRepresentative = df_mostRepresentative.append({\n",
      "C:\\Users\\Ahmed\\AppData\\Local\\Temp\\ipykernel_6272\\4001967623.py:22: FutureWarning: The frame.append method is deprecated and will be removed from pandas in a future version. Use pandas.concat instead.\n",
      "  df_mostRepresentative = df_mostRepresentative.append({\n",
      "C:\\Users\\Ahmed\\AppData\\Local\\Temp\\ipykernel_6272\\4001967623.py:22: FutureWarning: The frame.append method is deprecated and will be removed from pandas in a future version. Use pandas.concat instead.\n",
      "  df_mostRepresentative = df_mostRepresentative.append({\n",
      "C:\\Users\\Ahmed\\AppData\\Local\\Temp\\ipykernel_6272\\4001967623.py:22: FutureWarning: The frame.append method is deprecated and will be removed from pandas in a future version. Use pandas.concat instead.\n",
      "  df_mostRepresentative = df_mostRepresentative.append({\n",
      "C:\\Users\\Ahmed\\AppData\\Local\\Temp\\ipykernel_6272\\4001967623.py:22: FutureWarning: The frame.append method is deprecated and will be removed from pandas in a future version. Use pandas.concat instead.\n",
      "  df_mostRepresentative = df_mostRepresentative.append({\n",
      "C:\\Users\\Ahmed\\AppData\\Local\\Temp\\ipykernel_6272\\4001967623.py:22: FutureWarning: The frame.append method is deprecated and will be removed from pandas in a future version. Use pandas.concat instead.\n",
      "  df_mostRepresentative = df_mostRepresentative.append({\n",
      "C:\\Users\\Ahmed\\AppData\\Local\\Temp\\ipykernel_6272\\4001967623.py:22: FutureWarning: The frame.append method is deprecated and will be removed from pandas in a future version. Use pandas.concat instead.\n",
      "  df_mostRepresentative = df_mostRepresentative.append({\n",
      "C:\\Users\\Ahmed\\AppData\\Local\\Temp\\ipykernel_6272\\4001967623.py:22: FutureWarning: The frame.append method is deprecated and will be removed from pandas in a future version. Use pandas.concat instead.\n",
      "  df_mostRepresentative = df_mostRepresentative.append({\n",
      "C:\\Users\\Ahmed\\AppData\\Local\\Temp\\ipykernel_6272\\4001967623.py:22: FutureWarning: The frame.append method is deprecated and will be removed from pandas in a future version. Use pandas.concat instead.\n",
      "  df_mostRepresentative = df_mostRepresentative.append({\n",
      "C:\\Users\\Ahmed\\AppData\\Local\\Temp\\ipykernel_6272\\4001967623.py:10: FutureWarning: The frame.append method is deprecated and will be removed from pandas in a future version. Use pandas.concat instead.\n",
      "  df_ClsuteringSentencesCount = df_ClsuteringSentencesCount.append({\n",
      "C:\\Users\\Ahmed\\AppData\\Local\\Temp\\ipykernel_6272\\4001967623.py:22: FutureWarning: The frame.append method is deprecated and will be removed from pandas in a future version. Use pandas.concat instead.\n",
      "  df_mostRepresentative = df_mostRepresentative.append({\n",
      "C:\\Users\\Ahmed\\AppData\\Local\\Temp\\ipykernel_6272\\4001967623.py:22: FutureWarning: The frame.append method is deprecated and will be removed from pandas in a future version. Use pandas.concat instead.\n",
      "  df_mostRepresentative = df_mostRepresentative.append({\n",
      "C:\\Users\\Ahmed\\AppData\\Local\\Temp\\ipykernel_6272\\4001967623.py:22: FutureWarning: The frame.append method is deprecated and will be removed from pandas in a future version. Use pandas.concat instead.\n",
      "  df_mostRepresentative = df_mostRepresentative.append({\n",
      "C:\\Users\\Ahmed\\AppData\\Local\\Temp\\ipykernel_6272\\4001967623.py:10: FutureWarning: The frame.append method is deprecated and will be removed from pandas in a future version. Use pandas.concat instead.\n",
      "  df_ClsuteringSentencesCount = df_ClsuteringSentencesCount.append({\n",
      "C:\\Users\\Ahmed\\AppData\\Local\\Temp\\ipykernel_6272\\4001967623.py:22: FutureWarning: The frame.append method is deprecated and will be removed from pandas in a future version. Use pandas.concat instead.\n",
      "  df_mostRepresentative = df_mostRepresentative.append({\n",
      "C:\\Users\\Ahmed\\AppData\\Local\\Temp\\ipykernel_6272\\4001967623.py:22: FutureWarning: The frame.append method is deprecated and will be removed from pandas in a future version. Use pandas.concat instead.\n",
      "  df_mostRepresentative = df_mostRepresentative.append({\n",
      "C:\\Users\\Ahmed\\AppData\\Local\\Temp\\ipykernel_6272\\4001967623.py:22: FutureWarning: The frame.append method is deprecated and will be removed from pandas in a future version. Use pandas.concat instead.\n",
      "  df_mostRepresentative = df_mostRepresentative.append({\n",
      "C:\\Users\\Ahmed\\AppData\\Local\\Temp\\ipykernel_6272\\4001967623.py:22: FutureWarning: The frame.append method is deprecated and will be removed from pandas in a future version. Use pandas.concat instead.\n",
      "  df_mostRepresentative = df_mostRepresentative.append({\n",
      "C:\\Users\\Ahmed\\AppData\\Local\\Temp\\ipykernel_6272\\4001967623.py:22: FutureWarning: The frame.append method is deprecated and will be removed from pandas in a future version. Use pandas.concat instead.\n",
      "  df_mostRepresentative = df_mostRepresentative.append({\n",
      "C:\\Users\\Ahmed\\AppData\\Local\\Temp\\ipykernel_6272\\4001967623.py:10: FutureWarning: The frame.append method is deprecated and will be removed from pandas in a future version. Use pandas.concat instead.\n",
      "  df_ClsuteringSentencesCount = df_ClsuteringSentencesCount.append({\n",
      "C:\\Users\\Ahmed\\AppData\\Local\\Temp\\ipykernel_6272\\4001967623.py:22: FutureWarning: The frame.append method is deprecated and will be removed from pandas in a future version. Use pandas.concat instead.\n",
      "  df_mostRepresentative = df_mostRepresentative.append({\n",
      "C:\\Users\\Ahmed\\AppData\\Local\\Temp\\ipykernel_6272\\4001967623.py:22: FutureWarning: The frame.append method is deprecated and will be removed from pandas in a future version. Use pandas.concat instead.\n",
      "  df_mostRepresentative = df_mostRepresentative.append({\n",
      "C:\\Users\\Ahmed\\AppData\\Local\\Temp\\ipykernel_6272\\4001967623.py:22: FutureWarning: The frame.append method is deprecated and will be removed from pandas in a future version. Use pandas.concat instead.\n",
      "  df_mostRepresentative = df_mostRepresentative.append({\n",
      "C:\\Users\\Ahmed\\AppData\\Local\\Temp\\ipykernel_6272\\4001967623.py:22: FutureWarning: The frame.append method is deprecated and will be removed from pandas in a future version. Use pandas.concat instead.\n",
      "  df_mostRepresentative = df_mostRepresentative.append({\n",
      "C:\\Users\\Ahmed\\AppData\\Local\\Temp\\ipykernel_6272\\4001967623.py:10: FutureWarning: The frame.append method is deprecated and will be removed from pandas in a future version. Use pandas.concat instead.\n",
      "  df_ClsuteringSentencesCount = df_ClsuteringSentencesCount.append({\n",
      "C:\\Users\\Ahmed\\AppData\\Local\\Temp\\ipykernel_6272\\4001967623.py:22: FutureWarning: The frame.append method is deprecated and will be removed from pandas in a future version. Use pandas.concat instead.\n",
      "  df_mostRepresentative = df_mostRepresentative.append({\n",
      "C:\\Users\\Ahmed\\AppData\\Local\\Temp\\ipykernel_6272\\4001967623.py:22: FutureWarning: The frame.append method is deprecated and will be removed from pandas in a future version. Use pandas.concat instead.\n",
      "  df_mostRepresentative = df_mostRepresentative.append({\n",
      "C:\\Users\\Ahmed\\AppData\\Local\\Temp\\ipykernel_6272\\4001967623.py:22: FutureWarning: The frame.append method is deprecated and will be removed from pandas in a future version. Use pandas.concat instead.\n",
      "  df_mostRepresentative = df_mostRepresentative.append({\n",
      "C:\\Users\\Ahmed\\AppData\\Local\\Temp\\ipykernel_6272\\4001967623.py:22: FutureWarning: The frame.append method is deprecated and will be removed from pandas in a future version. Use pandas.concat instead.\n",
      "  df_mostRepresentative = df_mostRepresentative.append({\n",
      "C:\\Users\\Ahmed\\AppData\\Local\\Temp\\ipykernel_6272\\4001967623.py:22: FutureWarning: The frame.append method is deprecated and will be removed from pandas in a future version. Use pandas.concat instead.\n",
      "  df_mostRepresentative = df_mostRepresentative.append({\n",
      "C:\\Users\\Ahmed\\AppData\\Local\\Temp\\ipykernel_6272\\4001967623.py:22: FutureWarning: The frame.append method is deprecated and will be removed from pandas in a future version. Use pandas.concat instead.\n",
      "  df_mostRepresentative = df_mostRepresentative.append({\n",
      "C:\\Users\\Ahmed\\AppData\\Local\\Temp\\ipykernel_6272\\4001967623.py:22: FutureWarning: The frame.append method is deprecated and will be removed from pandas in a future version. Use pandas.concat instead.\n",
      "  df_mostRepresentative = df_mostRepresentative.append({\n",
      "C:\\Users\\Ahmed\\AppData\\Local\\Temp\\ipykernel_6272\\4001967623.py:22: FutureWarning: The frame.append method is deprecated and will be removed from pandas in a future version. Use pandas.concat instead.\n",
      "  df_mostRepresentative = df_mostRepresentative.append({\n",
      "C:\\Users\\Ahmed\\AppData\\Local\\Temp\\ipykernel_6272\\4001967623.py:22: FutureWarning: The frame.append method is deprecated and will be removed from pandas in a future version. Use pandas.concat instead.\n",
      "  df_mostRepresentative = df_mostRepresentative.append({\n",
      "C:\\Users\\Ahmed\\AppData\\Local\\Temp\\ipykernel_6272\\4001967623.py:22: FutureWarning: The frame.append method is deprecated and will be removed from pandas in a future version. Use pandas.concat instead.\n",
      "  df_mostRepresentative = df_mostRepresentative.append({\n",
      "C:\\Users\\Ahmed\\AppData\\Local\\Temp\\ipykernel_6272\\4001967623.py:10: FutureWarning: The frame.append method is deprecated and will be removed from pandas in a future version. Use pandas.concat instead.\n",
      "  df_ClsuteringSentencesCount = df_ClsuteringSentencesCount.append({\n",
      "C:\\Users\\Ahmed\\AppData\\Local\\Temp\\ipykernel_6272\\4001967623.py:22: FutureWarning: The frame.append method is deprecated and will be removed from pandas in a future version. Use pandas.concat instead.\n",
      "  df_mostRepresentative = df_mostRepresentative.append({\n",
      "C:\\Users\\Ahmed\\AppData\\Local\\Temp\\ipykernel_6272\\4001967623.py:22: FutureWarning: The frame.append method is deprecated and will be removed from pandas in a future version. Use pandas.concat instead.\n",
      "  df_mostRepresentative = df_mostRepresentative.append({\n",
      "C:\\Users\\Ahmed\\AppData\\Local\\Temp\\ipykernel_6272\\4001967623.py:10: FutureWarning: The frame.append method is deprecated and will be removed from pandas in a future version. Use pandas.concat instead.\n",
      "  df_ClsuteringSentencesCount = df_ClsuteringSentencesCount.append({\n",
      "C:\\Users\\Ahmed\\AppData\\Local\\Temp\\ipykernel_6272\\4001967623.py:22: FutureWarning: The frame.append method is deprecated and will be removed from pandas in a future version. Use pandas.concat instead.\n",
      "  df_mostRepresentative = df_mostRepresentative.append({\n",
      "C:\\Users\\Ahmed\\AppData\\Local\\Temp\\ipykernel_6272\\4001967623.py:10: FutureWarning: The frame.append method is deprecated and will be removed from pandas in a future version. Use pandas.concat instead.\n",
      "  df_ClsuteringSentencesCount = df_ClsuteringSentencesCount.append({\n",
      "C:\\Users\\Ahmed\\AppData\\Local\\Temp\\ipykernel_6272\\4001967623.py:22: FutureWarning: The frame.append method is deprecated and will be removed from pandas in a future version. Use pandas.concat instead.\n",
      "  df_mostRepresentative = df_mostRepresentative.append({\n"
     ]
    }
   ],
   "source": [
    "df_mostRepresentative = pd.DataFrame({})\n",
    "df_ClsuteringSentencesCount = pd.DataFrame({})\n",
    "\n",
    "for i in range (k) :\n",
    "    listSentencesMostRep =[]\n",
    "    most_representative_docs_Save = np.argsort(\n",
    "    np.linalg.norm(corpus_embeddings - clustering.cluster_centers_[i], axis=1)\n",
    "    )\n",
    "    queryMostCount = len(df_clusters.query(f\"cluster == {i}\"))\n",
    "    df_ClsuteringSentencesCount = df_ClsuteringSentencesCount.append({\n",
    "       \"cluster\" : i,\n",
    "        \"Sentences Count\": queryMostCount\n",
    "    },ignore_index=True)\n",
    "    if (queryMostCount > 10):\n",
    "        for d in most_representative_docs_Save[:10]:\n",
    "            listSentencesMostRep.append(sentences[d])\n",
    "    else:\n",
    "        for d in most_representative_docs_Save[:queryMostCount]:\n",
    "            listSentencesMostRep.append(sentences[d])\n",
    "\n",
    "    for sent in listSentencesMostRep:\n",
    "        df_mostRepresentative = df_mostRepresentative.append({\n",
    "         \"text\": sent,\n",
    "         \"cluster\": i\n",
    "         }, ignore_index=True)\n",
    "\n",
    "\n",
    "\n",
    "df_mostRepresentative.to_csv(f\"SbertClustering-All-Essays- {k} -Clusters - 10MostRepresentative.csv\")\n",
    "df_ClsuteringSentencesCount.to_csv(f\"SbertClustering-All-Essays- {k} - Clusters - ClusteringCount.csv\")"
   ],
   "metadata": {
    "collapsed": false,
    "pycharm": {
     "name": "#%%\n"
    }
   }
  },
  {
   "cell_type": "markdown",
   "source": [
    "### Test"
   ],
   "metadata": {
    "collapsed": false,
    "pycharm": {
     "name": "#%% md\n"
    }
   }
  },
  {
   "cell_type": "code",
   "execution_count": null,
   "outputs": [],
   "source": [
    "listTest = [\"Ahmed\" , \"mido\", \"test test\"]\n",
    "listNumbers = [1 , 10, 15]\n",
    "df_mostRepresentative = pd.DataFrame({\n",
    "})\n",
    "\n",
    "df_mostRepresentative = df_mostRepresentative.append({\n",
    "    \"text\": listTest,\n",
    "    \"cluster\": listNumbers\n",
    "}, ignore_index=True)\n",
    "\n",
    "listTest = [\"After\" , \"after mido\", \"test after\"]\n",
    "listNumbers = [2 , 3, 65]\n",
    "\n",
    "df_mostRepresentative = df_mostRepresentative.append({\n",
    "    \"text\": listTest,\n",
    "    \"cluster\": listNumbers\n",
    "}, ignore_index=True)\n",
    "\n",
    "df_mostRepresentative.to_csv('test.csv')"
   ],
   "metadata": {
    "collapsed": false,
    "pycharm": {
     "name": "#%%\n"
    }
   }
  },
  {
   "cell_type": "markdown",
   "source": [
    "### Testing torch with cuda\n"
   ],
   "metadata": {
    "collapsed": false,
    "pycharm": {
     "name": "#%% md\n"
    }
   }
  },
  {
   "cell_type": "code",
   "execution_count": 39,
   "outputs": [
    {
     "data": {
      "text/plain": "True"
     },
     "execution_count": 39,
     "metadata": {},
     "output_type": "execute_result"
    }
   ],
   "source": [
    "import torch\n",
    "\n",
    "torch.cuda.is_available()"
   ],
   "metadata": {
    "collapsed": false,
    "pycharm": {
     "name": "#%%\n"
    }
   }
  },
  {
   "cell_type": "markdown",
   "source": [
    "### Testing word_embeddings"
   ],
   "metadata": {
    "collapsed": false,
    "pycharm": {
     "name": "#%% md\n"
    }
   }
  },
  {
   "cell_type": "code",
   "execution_count": null,
   "outputs": [],
   "source": [
    "corpus = ['A man is eating food.',\n",
    "          'A man is eating a piece of bread.',\n",
    "          'A man is eating pasta.',\n",
    "          'The girl is carrying a baby.',\n",
    "          'The baby is carried by the woman',\n",
    "          'A man is riding a horse.',\n",
    "          'A man is riding a white horse on an enclosed ground.',\n",
    "          'A monkey is playing drums.',\n",
    "          'Someone in a gorilla costume is playing a set of drums.',\n",
    "          'A cheetah is running behind its prey.',\n",
    "          'A cheetah chases prey on across a field.'\n",
    "          ]\n",
    "corpus_embeddings = model.encode(corpus)\n",
    "\n",
    "########################## TESTING #########################################################\n",
    "#Compute cosine similarity between all pairs\n",
    "cos_sim = util.cos_sim(corpus_embeddings, corpus_embeddings)\n",
    "\n",
    "#Add all pairs to a list with their cosine similarity score\n",
    "all_sentence_combinations = []\n",
    "for i in range(len(cos_sim)-1):\n",
    "    for j in range(i+1, len(cos_sim)):\n",
    "        all_sentence_combinations.append([cos_sim[i][j], i, j])\n",
    "\n",
    "#Sort list by the highest cosine similarity score\n",
    "all_sentence_combinations = sorted(all_sentence_combinations, key=lambda x: x[0], reverse=True)\n",
    "\n",
    "print(\"Top-5 most similar pairs:\")\n",
    "for score, i, j in all_sentence_combinations[0:5]:\n",
    "    print(\"{} \\t {} \\t {:.4f}\".format(corpus[i], corpus[j], cos_sim[i][j]))\n",
    "\n",
    "for sentence, embedding in zip(corpus, corpus_embeddings):\n",
    "    print(\"Sentence:\", sentence)\n",
    "    print(\"Embedding:\", embedding)\n",
    "    print(\"\")"
   ],
   "metadata": {
    "collapsed": false,
    "pycharm": {
     "name": "#%%\n"
    }
   }
  }
 ],
 "metadata": {
  "kernelspec": {
   "display_name": "Python 3",
   "language": "python",
   "name": "python3"
  },
  "language_info": {
   "codemirror_mode": {
    "name": "ipython",
    "version": 2
   },
   "file_extension": ".py",
   "mimetype": "text/x-python",
   "name": "python",
   "nbconvert_exporter": "python",
   "pygments_lexer": "ipython2",
   "version": "2.7.6"
  }
 },
 "nbformat": 4,
 "nbformat_minor": 0
}